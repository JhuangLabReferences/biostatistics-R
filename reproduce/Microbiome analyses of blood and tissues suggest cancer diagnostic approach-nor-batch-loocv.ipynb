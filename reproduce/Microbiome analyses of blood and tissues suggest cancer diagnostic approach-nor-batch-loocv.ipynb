{
 "cells": [
  {
   "cell_type": "markdown",
   "metadata": {},
   "source": [
    "# VOOM-SNM normalization"
   ]
  },
  {
   "cell_type": "markdown",
   "metadata": {},
   "source": [
    "### read in metadata and raw data"
   ]
  },
  {
   "cell_type": "code",
   "execution_count": 6,
   "metadata": {
    "scrolled": true
   },
   "outputs": [
    {
     "name": "stderr",
     "output_type": "stream",
     "text": [
      "Loading required package: ggplot2\n",
      "\n",
      "Loading required package: snm\n",
      "\n",
      "Loading required package: limma\n",
      "\n",
      "Loading required package: edgeR\n",
      "\n",
      "Loading required package: dplyr\n",
      "\n",
      "\n",
      "Attaching package: ‘dplyr’\n",
      "\n",
      "\n",
      "The following objects are masked from ‘package:stats’:\n",
      "\n",
      "    filter, lag\n",
      "\n",
      "\n",
      "The following objects are masked from ‘package:base’:\n",
      "\n",
      "    intersect, setdiff, setequal, union\n",
      "\n",
      "\n",
      "Loading required package: pvca\n",
      "\n",
      "Loading required package: lme4\n",
      "\n",
      "Loading required package: Matrix\n",
      "\n",
      "Loading required package: doMC\n",
      "\n",
      "Loading required package: foreach\n",
      "\n",
      "Loading required package: iterators\n",
      "\n",
      "Loading required package: parallel\n",
      "\n"
     ]
    },
    {
     "name": "stdout",
     "output_type": "stream",
     "text": [
      "[1] 18116  1993\n",
      "[1] 17625  1993\n",
      "[1] 17625    41\n"
     ]
    }
   ],
   "source": [
    "require(ggplot2)\n",
    "require(snm)\n",
    "require(limma)\n",
    "require(edgeR)\n",
    "require(dplyr)\n",
    "require(edgeR)\n",
    "require(pvca)\n",
    "require(lme4)\n",
    "require(doMC)\n",
    "require(parallel)\n",
    "\n",
    "numCores <- detectCores()\n",
    "registerDoMC(cores=numCores)\n",
    "\n",
    "#read in data\n",
    "tmp <- as.data.frame(read.csv(\"data/Kraken-TCGA-Raw-Data-All-18116-Samples.csv\", header = TRUE, sep = \",\", dec = \".\",stringsAsFactors=FALSE))\n",
    "row.names(tmp) <- tmp[,1]\n",
    "tmp<-tmp[,-1]\n",
    "vbDataBarnDFReconciled<-tmp\n",
    "#vbDataBarnDFReconciled[1:5,]\n",
    "\n",
    "tmp <- as.data.frame(read.csv(\"data/Kraken-TCGA-Raw-Data-17625-Samples.csv\", header = TRUE, sep = \",\", dec = \".\",stringsAsFactors=FALSE))\n",
    "row.names(tmp) <- tmp[,1]\n",
    "tmp<-tmp[,-1]\n",
    "vbDataBarnDFReconciledQC<-tmp\n",
    "#vbDataBarnDFReconciledQC[1:2,]\n",
    "\n",
    "\n",
    "tmp <- as.data.frame(read.csv(\"data/Metadata-TCGA-Kraken-17625-Samples.csv\", header = TRUE, sep = \",\", dec = \".\",stringsAsFactors=FALSE))\n",
    "row.names(tmp) <- tmp[,1]\n",
    "tmp<-tmp[,-1]\n",
    "metadataSamplesAllQC<-tmp\n",
    "#metadataSamplesAllQC[1:2,]\n",
    "\n",
    "print(dim(vbDataBarnDFReconciled))\n",
    "print(dim(vbDataBarnDFReconciledQC))\n",
    "print(dim(metadataSamplesAllQC))\n",
    "\n",
    "save(vbDataBarnDFReconciledQC,vbDataBarnDFReconciled,metadataSamplesAllQC, file = \"data/tcgaVbDataAndMetadataAndSNM.RData\")\n"
   ]
  },
  {
   "cell_type": "code",
   "execution_count": 1,
   "metadata": {},
   "outputs": [],
   "source": [
    "#load(\"data/validationSplitVbDataAndMetadata.RData\")"
   ]
  },
  {
   "cell_type": "markdown",
   "metadata": {},
   "source": [
    "### filter missing data"
   ]
  },
  {
   "cell_type": "code",
   "execution_count": 7,
   "metadata": {},
   "outputs": [
    {
     "name": "stdout",
     "output_type": "stream",
     "text": [
      "[1] 17975    41\n",
      "[1] 17975  1993\n"
     ]
    }
   ],
   "source": [
    "tmp <- as.data.frame(read.csv(\"data/Metadata-TCGA-All-18116-Samples.csv\", header = TRUE, sep = \",\", dec = \".\",stringsAsFactors=FALSE))\n",
    "row.names(tmp) <- tmp[,1]\n",
    "tmp<-tmp[,-1]\n",
    "metadataSamplesAll<-tmp\n",
    "\n",
    "\n",
    "metadataSamplesAllQCAML <- droplevels(metadataSamplesAll[! (is.na(metadataSamplesAll$race) | \n",
    "                                                           is.na(metadataSamplesAll$portion_is_ffpe) |\n",
    "                                                           is.na(metadataSamplesAll$age_at_diagnosis)),])\n",
    "# metadataSamplesAllQCAML <- droplevels(metadataSamplesAllQCAML[metadataSamplesAllQCAML$disease_type == \"Acute Myeloid Leukemia\",])\n",
    "vbDataBarnDFReconciledQCAML <- vbDataBarnDFReconciled[rownames(metadataSamplesAllQCAML),]\n",
    "\n",
    "print(dim(metadataSamplesAllQCAML))\n",
    "print(dim(vbDataBarnDFReconciledQCAML))"
   ]
  },
  {
   "cell_type": "markdown",
   "metadata": {},
   "source": [
    "### voom process\n",
    "Voom was published in Genome Biology and has been cited >2000 times for transforming discrete count data into microarray-like data, such that tools originally developed for microarrays (e.g. limma) can be used on the transformed data.\n",
    "\n",
    "Do note that errors were flagged based on some metadata columns, so entries were concatenated/cleaned up using gsub (as shown in the script)"
   ]
  },
  {
   "cell_type": "code",
   "execution_count": 8,
   "metadata": {
    "scrolled": false
   },
   "outputs": [
    {
     "name": "stdout",
     "output_type": "stream",
     "text": [
      "[1] \"Now normalizing data...\"\n",
      "[1] \"Now applying voom on normalized data...\"\n",
      "\n",
      "                       Additional - New Primary \n",
      "                                             10 \n",
      "                          Additional Metastatic \n",
      "                                              1 \n",
      "                           Blood Derived Normal \n",
      "                                           1866 \n",
      "                                     Metastatic \n",
      "                                            541 \n",
      "Primary Blood Derived Cancer - Peripheral Blood \n",
      "                                            258 \n",
      "                                  Primary Tumor \n",
      "                                          13898 \n",
      "                                Recurrent Tumor \n",
      "                                            118 \n",
      "                            Solid Tissue Normal \n",
      "                                           1283 \n",
      "[1] 17625   205\n",
      "[1] 17625     7\n",
      "[1] 17625     2\n",
      "[1] 17625  1795\n",
      "[1] 17625   211\n"
     ]
    },
    {
     "data": {
      "image/png": "[encoded data removed]",
      "text/plain": [
       "Plot with title “voom: Mean-variance trend”"
      ]
     },
     "metadata": {
      "image/png": {
       "height": 420,
       "width": 420
      },
      "text/plain": {
       "height": 420,
       "width": 420
      }
     },
     "output_type": "display_data"
    }
   ],
   "source": [
    "qcMetadata <- metadataSamplesAllQC # metadataSamplesAllQCAML\n",
    "qcData <- vbDataBarnDFReconciledQC # vbDataBarnDFReconciledQCAML\n",
    "\n",
    "# Set up design matrix\n",
    "covDesignNorm <- model.matrix(~0 + sample_type +\n",
    "                                  data_submitting_center_label +\n",
    "                                  platform +\n",
    "                                  experimental_strategy +\n",
    "                                  tissue_source_site_label +\n",
    "                                  portion_is_ffpe,\n",
    "                              data = qcMetadata)\n",
    "#print(colnames(covDesignNorm))\n",
    "colnames(covDesignNorm) <- gsub('([[:punct:]])|\\\\s+','',colnames(covDesignNorm))\n",
    "#print(colnames(covDesignNorm))\n",
    "\n",
    "# Set up counts matrix\n",
    "counts <- t(qcData) # DGEList object from a table of counts (rows=features, columns=samples)\n",
    "\n",
    "# Normalize using edgeR and then plug into voom\n",
    "dge <- DGEList(counts = counts)\n",
    "keep <- filterByExpr(dge, covDesignNorm)\n",
    "dge <- dge[keep,,keep.lib.sizes=FALSE]\n",
    "print(\"Now normalizing data...\")\n",
    "dge <- calcNormFactors(dge, method = \"TMM\")\n",
    "print(\"Now applying voom on normalized data...\")\n",
    "vdge <- voom(dge, design = covDesignNorm, plot = TRUE, save.plot = TRUE, normalize.method=\"none\")\n",
    "\n",
    "print(table(metadataSamplesAllQCAML$sample_type))\n",
    "\n",
    "# Apply\n",
    "bio.var.sample.type <- model.matrix(~sample_type, #sample_type, # histological_diagnosis_label and disease_type tried but cause function to fail\n",
    "                        data=qcMetadata)\n",
    "bio.var.gender <- model.matrix(~gender, #sample_type, # histological_diagnosis_label and disease_type tried but cause function to fail\n",
    "                        data=qcMetadata)\n",
    "adj.var <- model.matrix(~data_submitting_center_label +\n",
    "                          platform +\n",
    "                          experimental_strategy +\n",
    "                          tissue_source_site_label +\n",
    "                          portion_is_ffpe,\n",
    "                        data=qcMetadata)\n",
    "colnames(bio.var.sample.type) <- gsub('([[:punct:]])|\\\\s+','',colnames(bio.var.sample.type))\n",
    "colnames(bio.var.gender) <- gsub('([[:punct:]])|\\\\s+','',colnames(bio.var.gender))\n",
    "colnames(adj.var) <- gsub('([[:punct:]])|\\\\s+','',colnames(adj.var))\n",
    "print(dim(adj.var))\n",
    "print(dim(bio.var.sample.type))\n",
    "print(dim(bio.var.gender))\n",
    "print(dim(t(vdge$E)))\n",
    "print(dim(covDesignNorm))"
   ]
  },
  {
   "cell_type": "markdown",
   "metadata": {},
   "source": [
    "### SNM process\n",
    "\n",
    "Voom was published in Genome Biology and has been cited >2000 times for transforming discrete count data into microarray-like data, such that tools originally developed for microarrays (e.g. limma) can be used on the transformed data."
   ]
  },
  {
   "cell_type": "code",
   "execution_count": 7,
   "metadata": {},
   "outputs": [
    {
     "name": "stdout",
     "output_type": "stream",
     "text": [
      "[1] 17625  1795\n"
     ]
    }
   ],
   "source": [
    "snmDataObjSampleTypeWithExpStrategyFA <- snm(raw.dat = vdge$E, \n",
    "                                            bio.var = bio.var.sample.type, \n",
    "                                            adj.var = adj.var, \n",
    "                                            rm.adj=TRUE,\n",
    "                                            verbose = TRUE,\n",
    "                                            diagnose = TRUE)\n",
    "snmDataSampleTypeWithExpStrategyFA <- t(snmDataObjSampleTypeWithExpStrategyFA$norm.dat)\n",
    "\n",
    "print(dim(snmDataSampleTypeWithExpStrategyFA))\n",
    "save(snmDataSampleTypeWithExpStrategyFA, file = \"data/snmDataSampleTypeWithExpStrategyFA.RData\")"
   ]
  },
  {
   "cell_type": "code",
   "execution_count": 2,
   "metadata": {},
   "outputs": [],
   "source": [
    "load(\"data/snmDataSampleTypeWithExpStrategyFA.RData\")"
   ]
  },
  {
   "cell_type": "markdown",
   "metadata": {},
   "source": [
    "# PCA plotting to visually examine batch effects and batch correction"
   ]
  },
  {
   "cell_type": "code",
   "execution_count": 9,
   "metadata": {
    "scrolled": false
   },
   "outputs": [
    {
     "data": {
      "text/html": [
       "<table>\n",
       "<caption>A data.frame: 2 x 1796</caption>\n",
       "<thead>\n",
       "\t<tr><th></th><th scope=col>label</th><th scope=col>k__Viruses.f__Phycodnaviridae.g__Prasinovirus</th><th scope=col>k__Viruses.o__Caudovirales.f__Siphoviridae.g__Sfi1unalikevirus</th><th scope=col>k__Viruses.o__Herpesvirales.f__Herpesviridae.g__Simplexvirus</th><th scope=col>k__Viruses.o__Caudovirales.f__Siphoviridae.g__C2likevirus</th><th scope=col>k__Viruses.f__Poxviridae.g__Parapoxvirus</th><th scope=col>k__Viruses.f__Bicaudaviridae.g__Bicaudavirus</th><th scope=col>k__Viruses.o__Picornavirales.f__Picornaviridae.g__Aquamavirus</th><th scope=col>k__Viruses.o__Herpesvirales.f__Herpesviridae.g__Mardivirus</th><th scope=col>k__Viruses.f__Baculoviridae.g__Deltabaculovirus</th><th scope=col>...</th><th scope=col>k__Bacteria.p__Synergistetes.c__Synergistia.o__Synergistales.f__Synergistaceae.g__Cloacibacillus</th><th scope=col>k__Bacteria.p__Firmicutes.c__Clostridia.o__Clostridiales.f__Lachnospiraceae.g__Sellimonas</th><th scope=col>k__Archaea.p__Thaumarchaeota.g__Candidatus_Nitrosotenuis</th><th scope=col>k__Bacteria.p__Rhodothermaeota.c__Balneolia.o__Balneolales.f__Balneolaceae.g__Gracilimonas</th><th scope=col>k__Archaea.p__Crenarchaeota.c__Thermoprotei.o__Thermoproteales.f__Thermoproteaceae.g__Caldivirga</th><th scope=col>k__Bacteria.p__Firmicutes.c__Clostridia.o__Clostridiales.f__Clostridiales_Family_XIII._Incertae_Sedis.g__Casaltella</th><th scope=col>k__Bacteria.p__Proteobacteria.c__Betaproteobacteria.o__Neisseriales.f__Chromobacteriaceae.g__Deefgea</th><th scope=col>k__Bacteria.p__Proteobacteria.c__Alphaproteobacteria.o__Rhizobiales.f__Phyllobacteriaceae.g__Aquamicrobium</th><th scope=col>k__Bacteria.p__Deferribacteres.c__Deferribacteres.o__Deferribacterales.f__Deferribacteraceae.g__Geovibrio</th><th scope=col>k__Bacteria.p__Firmicutes.c__Clostridia.o__Clostridiales.f__Ruminococcaceae.g__Subdoligranulum</th></tr>\n",
       "\t<tr><th></th><th scope=col>&lt;fct&gt;</th><th scope=col>&lt;dbl&gt;</th><th scope=col>&lt;dbl&gt;</th><th scope=col>&lt;dbl&gt;</th><th scope=col>&lt;dbl&gt;</th><th scope=col>&lt;dbl&gt;</th><th scope=col>&lt;dbl&gt;</th><th scope=col>&lt;dbl&gt;</th><th scope=col>&lt;dbl&gt;</th><th scope=col>&lt;dbl&gt;</th><th scope=col>...</th><th scope=col>&lt;dbl&gt;</th><th scope=col>&lt;dbl&gt;</th><th scope=col>&lt;dbl&gt;</th><th scope=col>&lt;dbl&gt;</th><th scope=col>&lt;dbl&gt;</th><th scope=col>&lt;dbl&gt;</th><th scope=col>&lt;dbl&gt;</th><th scope=col>&lt;dbl&gt;</th><th scope=col>&lt;dbl&gt;</th><th scope=col>&lt;dbl&gt;</th></tr>\n",
       "</thead>\n",
       "<tbody>\n",
       "\t<tr><th scope=row>s17489</th><td>Canada's Michael Smith Genome Sciences Centre</td><td>-2.673629</td><td>-0.3506078</td><td>2.527893</td><td>-0.7655558</td><td> 0.5339567</td><td>-1.2508489</td><td>1.554286</td><td>4.446144</td><td>-1.175193</td><td>...</td><td>-0.1361990</td><td>-0.1283546</td><td>-0.3148116</td><td>-0.2577534</td><td>-0.1620093</td><td>1.223127</td><td>-0.6762920</td><td>-0.0876034</td><td>-0.1313893</td><td>-0.1141944</td></tr>\n",
       "\t<tr><th scope=row>s17512</th><td>Canada's Michael Smith Genome Sciences Centre</td><td> 1.237540</td><td> 0.5334674</td><td>3.721021</td><td> 0.2230641</td><td>-0.9361505</td><td>-0.2995138</td><td>1.036171</td><td>3.470201</td><td>-2.540597</td><td>...</td><td> 0.7610975</td><td> 0.7586779</td><td> 0.6645246</td><td> 0.7327849</td><td> 0.6870743</td><td>2.061360</td><td> 0.4868156</td><td> 0.7952036</td><td> 0.7777695</td><td> 0.8168151</td></tr>\n",
       "</tbody>\n",
       "</table>\n"
      ],
      "text/latex": [
       "A data.frame: 2 x 1796\n",
       "\\begin{tabular}{r|lllllllllllllllllllll}\n",
       "  & label & k\\_\\_Viruses.f\\_\\_Phycodnaviridae.g\\_\\_Prasinovirus & k\\_\\_Viruses.o\\_\\_Caudovirales.f\\_\\_Siphoviridae.g\\_\\_Sfi1unalikevirus & k\\_\\_Viruses.o\\_\\_Herpesvirales.f\\_\\_Herpesviridae.g\\_\\_Simplexvirus & k\\_\\_Viruses.o\\_\\_Caudovirales.f\\_\\_Siphoviridae.g\\_\\_C2likevirus & k\\_\\_Viruses.f\\_\\_Poxviridae.g\\_\\_Parapoxvirus & k\\_\\_Viruses.f\\_\\_Bicaudaviridae.g\\_\\_Bicaudavirus & k\\_\\_Viruses.o\\_\\_Picornavirales.f\\_\\_Picornaviridae.g\\_\\_Aquamavirus & k\\_\\_Viruses.o\\_\\_Herpesvirales.f\\_\\_Herpesviridae.g\\_\\_Mardivirus & k\\_\\_Viruses.f\\_\\_Baculoviridae.g\\_\\_Deltabaculovirus & ... & k\\_\\_Bacteria.p\\_\\_Synergistetes.c\\_\\_Synergistia.o\\_\\_Synergistales.f\\_\\_Synergistaceae.g\\_\\_Cloacibacillus & k\\_\\_Bacteria.p\\_\\_Firmicutes.c\\_\\_Clostridia.o\\_\\_Clostridiales.f\\_\\_Lachnospiraceae.g\\_\\_Sellimonas & k\\_\\_Archaea.p\\_\\_Thaumarchaeota.g\\_\\_Candidatus\\_Nitrosotenuis & k\\_\\_Bacteria.p\\_\\_Rhodothermaeota.c\\_\\_Balneolia.o\\_\\_Balneolales.f\\_\\_Balneolaceae.g\\_\\_Gracilimonas & k\\_\\_Archaea.p\\_\\_Crenarchaeota.c\\_\\_Thermoprotei.o\\_\\_Thermoproteales.f\\_\\_Thermoproteaceae.g\\_\\_Caldivirga & k\\_\\_Bacteria.p\\_\\_Firmicutes.c\\_\\_Clostridia.o\\_\\_Clostridiales.f\\_\\_Clostridiales\\_Family\\_XIII.\\_Incertae\\_Sedis.g\\_\\_Casaltella & k\\_\\_Bacteria.p\\_\\_Proteobacteria.c\\_\\_Betaproteobacteria.o\\_\\_Neisseriales.f\\_\\_Chromobacteriaceae.g\\_\\_Deefgea & k\\_\\_Bacteria.p\\_\\_Proteobacteria.c\\_\\_Alphaproteobacteria.o\\_\\_Rhizobiales.f\\_\\_Phyllobacteriaceae.g\\_\\_Aquamicrobium & k\\_\\_Bacteria.p\\_\\_Deferribacteres.c\\_\\_Deferribacteres.o\\_\\_Deferribacterales.f\\_\\_Deferribacteraceae.g\\_\\_Geovibrio & k\\_\\_Bacteria.p\\_\\_Firmicutes.c\\_\\_Clostridia.o\\_\\_Clostridiales.f\\_\\_Ruminococcaceae.g\\_\\_Subdoligranulum\\\\\n",
       "  & <fct> & <dbl> & <dbl> & <dbl> & <dbl> & <dbl> & <dbl> & <dbl> & <dbl> & <dbl> & ... & <dbl> & <dbl> & <dbl> & <dbl> & <dbl> & <dbl> & <dbl> & <dbl> & <dbl> & <dbl>\\\\\n",
       "\\hline\n",
       "\ts17489 & Canada's Michael Smith Genome Sciences Centre & -2.673629 & -0.3506078 & 2.527893 & -0.7655558 &  0.5339567 & -1.2508489 & 1.554286 & 4.446144 & -1.175193 & ... & -0.1361990 & -0.1283546 & -0.3148116 & -0.2577534 & -0.1620093 & 1.223127 & -0.6762920 & -0.0876034 & -0.1313893 & -0.1141944\\\\\n",
       "\ts17512 & Canada's Michael Smith Genome Sciences Centre &  1.237540 &  0.5334674 & 3.721021 &  0.2230641 & -0.9361505 & -0.2995138 & 1.036171 & 3.470201 & -2.540597 & ... &  0.7610975 &  0.7586779 &  0.6645246 &  0.7327849 &  0.6870743 & 2.061360 &  0.4868156 &  0.7952036 &  0.7777695 &  0.8168151\\\\\n",
       "\\end{tabular}\n"
      ],
      "text/markdown": [
       "\n",
       "A data.frame: 2 x 1796\n",
       "\n",
       "| <!--/--> | label &lt;fct&gt; | k__Viruses.f__Phycodnaviridae.g__Prasinovirus &lt;dbl&gt; | k__Viruses.o__Caudovirales.f__Siphoviridae.g__Sfi1unalikevirus &lt;dbl&gt; | k__Viruses.o__Herpesvirales.f__Herpesviridae.g__Simplexvirus &lt;dbl&gt; | k__Viruses.o__Caudovirales.f__Siphoviridae.g__C2likevirus &lt;dbl&gt; | k__Viruses.f__Poxviridae.g__Parapoxvirus &lt;dbl&gt; | k__Viruses.f__Bicaudaviridae.g__Bicaudavirus &lt;dbl&gt; | k__Viruses.o__Picornavirales.f__Picornaviridae.g__Aquamavirus &lt;dbl&gt; | k__Viruses.o__Herpesvirales.f__Herpesviridae.g__Mardivirus &lt;dbl&gt; | k__Viruses.f__Baculoviridae.g__Deltabaculovirus &lt;dbl&gt; | ... ... | k__Bacteria.p__Synergistetes.c__Synergistia.o__Synergistales.f__Synergistaceae.g__Cloacibacillus &lt;dbl&gt; | k__Bacteria.p__Firmicutes.c__Clostridia.o__Clostridiales.f__Lachnospiraceae.g__Sellimonas &lt;dbl&gt; | k__Archaea.p__Thaumarchaeota.g__Candidatus_Nitrosotenuis &lt;dbl&gt; | k__Bacteria.p__Rhodothermaeota.c__Balneolia.o__Balneolales.f__Balneolaceae.g__Gracilimonas &lt;dbl&gt; | k__Archaea.p__Crenarchaeota.c__Thermoprotei.o__Thermoproteales.f__Thermoproteaceae.g__Caldivirga &lt;dbl&gt; | k__Bacteria.p__Firmicutes.c__Clostridia.o__Clostridiales.f__Clostridiales_Family_XIII._Incertae_Sedis.g__Casaltella &lt;dbl&gt; | k__Bacteria.p__Proteobacteria.c__Betaproteobacteria.o__Neisseriales.f__Chromobacteriaceae.g__Deefgea &lt;dbl&gt; | k__Bacteria.p__Proteobacteria.c__Alphaproteobacteria.o__Rhizobiales.f__Phyllobacteriaceae.g__Aquamicrobium &lt;dbl&gt; | k__Bacteria.p__Deferribacteres.c__Deferribacteres.o__Deferribacterales.f__Deferribacteraceae.g__Geovibrio &lt;dbl&gt; | k__Bacteria.p__Firmicutes.c__Clostridia.o__Clostridiales.f__Ruminococcaceae.g__Subdoligranulum &lt;dbl&gt; |\n",
       "|---|---|---|---|---|---|---|---|---|---|---|---|---|---|---|---|---|---|---|---|---|---|\n",
       "| s17489 | Canada's Michael Smith Genome Sciences Centre | -2.673629 | -0.3506078 | 2.527893 | -0.7655558 |  0.5339567 | -1.2508489 | 1.554286 | 4.446144 | -1.175193 | ... | -0.1361990 | -0.1283546 | -0.3148116 | -0.2577534 | -0.1620093 | 1.223127 | -0.6762920 | -0.0876034 | -0.1313893 | -0.1141944 |\n",
       "| s17512 | Canada's Michael Smith Genome Sciences Centre |  1.237540 |  0.5334674 | 3.721021 |  0.2230641 | -0.9361505 | -0.2995138 | 1.036171 | 3.470201 | -2.540597 | ... |  0.7610975 |  0.7586779 |  0.6645246 |  0.7327849 |  0.6870743 | 2.061360 |  0.4868156 |  0.7952036 |  0.7777695 |  0.8168151 |\n",
       "\n"
      ],
      "text/plain": [
       "       label                                        \n",
       "s17489 Canada's Michael Smith Genome Sciences Centre\n",
       "s17512 Canada's Michael Smith Genome Sciences Centre\n",
       "       k__Viruses.f__Phycodnaviridae.g__Prasinovirus\n",
       "s17489 -2.673629                                    \n",
       "s17512  1.237540                                    \n",
       "       k__Viruses.o__Caudovirales.f__Siphoviridae.g__Sfi1unalikevirus\n",
       "s17489 -0.3506078                                                    \n",
       "s17512  0.5334674                                                    \n",
       "       k__Viruses.o__Herpesvirales.f__Herpesviridae.g__Simplexvirus\n",
       "s17489 2.527893                                                    \n",
       "s17512 3.721021                                                    \n",
       "       k__Viruses.o__Caudovirales.f__Siphoviridae.g__C2likevirus\n",
       "s17489 -0.7655558                                               \n",
       "s17512  0.2230641                                               \n",
       "       k__Viruses.f__Poxviridae.g__Parapoxvirus\n",
       "s17489  0.5339567                              \n",
       "s17512 -0.9361505                              \n",
       "       k__Viruses.f__Bicaudaviridae.g__Bicaudavirus\n",
       "s17489 -1.2508489                                  \n",
       "s17512 -0.2995138                                  \n",
       "       k__Viruses.o__Picornavirales.f__Picornaviridae.g__Aquamavirus\n",
       "s17489 1.554286                                                     \n",
       "s17512 1.036171                                                     \n",
       "       k__Viruses.o__Herpesvirales.f__Herpesviridae.g__Mardivirus\n",
       "s17489 4.446144                                                  \n",
       "s17512 3.470201                                                  \n",
       "       k__Viruses.f__Baculoviridae.g__Deltabaculovirus ...\n",
       "s17489 -1.175193                                       ...\n",
       "s17512 -2.540597                                       ...\n",
       "       k__Bacteria.p__Synergistetes.c__Synergistia.o__Synergistales.f__Synergistaceae.g__Cloacibacillus\n",
       "s17489 -0.1361990                                                                                      \n",
       "s17512  0.7610975                                                                                      \n",
       "       k__Bacteria.p__Firmicutes.c__Clostridia.o__Clostridiales.f__Lachnospiraceae.g__Sellimonas\n",
       "s17489 -0.1283546                                                                               \n",
       "s17512  0.7586779                                                                               \n",
       "       k__Archaea.p__Thaumarchaeota.g__Candidatus_Nitrosotenuis\n",
       "s17489 -0.3148116                                              \n",
       "s17512  0.6645246                                              \n",
       "       k__Bacteria.p__Rhodothermaeota.c__Balneolia.o__Balneolales.f__Balneolaceae.g__Gracilimonas\n",
       "s17489 -0.2577534                                                                                \n",
       "s17512  0.7327849                                                                                \n",
       "       k__Archaea.p__Crenarchaeota.c__Thermoprotei.o__Thermoproteales.f__Thermoproteaceae.g__Caldivirga\n",
       "s17489 -0.1620093                                                                                      \n",
       "s17512  0.6870743                                                                                      \n",
       "       k__Bacteria.p__Firmicutes.c__Clostridia.o__Clostridiales.f__Clostridiales_Family_XIII._Incertae_Sedis.g__Casaltella\n",
       "s17489 1.223127                                                                                                           \n",
       "s17512 2.061360                                                                                                           \n",
       "       k__Bacteria.p__Proteobacteria.c__Betaproteobacteria.o__Neisseriales.f__Chromobacteriaceae.g__Deefgea\n",
       "s17489 -0.6762920                                                                                          \n",
       "s17512  0.4868156                                                                                          \n",
       "       k__Bacteria.p__Proteobacteria.c__Alphaproteobacteria.o__Rhizobiales.f__Phyllobacteriaceae.g__Aquamicrobium\n",
       "s17489 -0.0876034                                                                                                \n",
       "s17512  0.7952036                                                                                                \n",
       "       k__Bacteria.p__Deferribacteres.c__Deferribacteres.o__Deferribacterales.f__Deferribacteraceae.g__Geovibrio\n",
       "s17489 -0.1313893                                                                                               \n",
       "s17512  0.7777695                                                                                               \n",
       "       k__Bacteria.p__Firmicutes.c__Clostridia.o__Clostridiales.f__Ruminococcaceae.g__Subdoligranulum\n",
       "s17489 -0.1141944                                                                                    \n",
       "s17512  0.8168151                                                                                    "
      ]
     },
     "metadata": {},
     "output_type": "display_data"
    },
    {
     "data": {
      "text/html": [
       "<table>\n",
       "<caption>A data.frame: 2 x 1796</caption>\n",
       "<thead>\n",
       "\t<tr><th></th><th scope=col>label</th><th scope=col>k__Viruses.f__Phycodnaviridae.g__Prasinovirus</th><th scope=col>k__Viruses.o__Caudovirales.f__Siphoviridae.g__Sfi1unalikevirus</th><th scope=col>k__Viruses.o__Herpesvirales.f__Herpesviridae.g__Simplexvirus</th><th scope=col>k__Viruses.o__Caudovirales.f__Siphoviridae.g__C2likevirus</th><th scope=col>k__Viruses.f__Poxviridae.g__Parapoxvirus</th><th scope=col>k__Viruses.f__Bicaudaviridae.g__Bicaudavirus</th><th scope=col>k__Viruses.o__Picornavirales.f__Picornaviridae.g__Aquamavirus</th><th scope=col>k__Viruses.o__Herpesvirales.f__Herpesviridae.g__Mardivirus</th><th scope=col>k__Viruses.f__Baculoviridae.g__Deltabaculovirus</th><th scope=col>...</th><th scope=col>k__Bacteria.p__Synergistetes.c__Synergistia.o__Synergistales.f__Synergistaceae.g__Cloacibacillus</th><th scope=col>k__Bacteria.p__Firmicutes.c__Clostridia.o__Clostridiales.f__Lachnospiraceae.g__Sellimonas</th><th scope=col>k__Archaea.p__Thaumarchaeota.g__Candidatus_Nitrosotenuis</th><th scope=col>k__Bacteria.p__Rhodothermaeota.c__Balneolia.o__Balneolales.f__Balneolaceae.g__Gracilimonas</th><th scope=col>k__Archaea.p__Crenarchaeota.c__Thermoprotei.o__Thermoproteales.f__Thermoproteaceae.g__Caldivirga</th><th scope=col>k__Bacteria.p__Firmicutes.c__Clostridia.o__Clostridiales.f__Clostridiales_Family_XIII._Incertae_Sedis.g__Casaltella</th><th scope=col>k__Bacteria.p__Proteobacteria.c__Betaproteobacteria.o__Neisseriales.f__Chromobacteriaceae.g__Deefgea</th><th scope=col>k__Bacteria.p__Proteobacteria.c__Alphaproteobacteria.o__Rhizobiales.f__Phyllobacteriaceae.g__Aquamicrobium</th><th scope=col>k__Bacteria.p__Deferribacteres.c__Deferribacteres.o__Deferribacterales.f__Deferribacteraceae.g__Geovibrio</th><th scope=col>k__Bacteria.p__Firmicutes.c__Clostridia.o__Clostridiales.f__Ruminococcaceae.g__Subdoligranulum</th></tr>\n",
       "\t<tr><th></th><th scope=col>&lt;fct&gt;</th><th scope=col>&lt;dbl&gt;</th><th scope=col>&lt;dbl&gt;</th><th scope=col>&lt;dbl&gt;</th><th scope=col>&lt;dbl&gt;</th><th scope=col>&lt;dbl&gt;</th><th scope=col>&lt;dbl&gt;</th><th scope=col>&lt;dbl&gt;</th><th scope=col>&lt;dbl&gt;</th><th scope=col>&lt;dbl&gt;</th><th scope=col>...</th><th scope=col>&lt;dbl&gt;</th><th scope=col>&lt;dbl&gt;</th><th scope=col>&lt;dbl&gt;</th><th scope=col>&lt;dbl&gt;</th><th scope=col>&lt;dbl&gt;</th><th scope=col>&lt;dbl&gt;</th><th scope=col>&lt;dbl&gt;</th><th scope=col>&lt;dbl&gt;</th><th scope=col>&lt;dbl&gt;</th><th scope=col>&lt;dbl&gt;</th></tr>\n",
       "</thead>\n",
       "<tbody>\n",
       "\t<tr><th scope=row>s17489</th><td>Canada's Michael Smith Genome Sciences Centre</td><td>-3.029573</td><td>-3.029573</td><td>4.930429</td><td>-3.029573</td><td>-0.7076448</td><td>-3.029573</td><td>2.698348</td><td>2.585137</td><td>-0.7076448</td><td>...</td><td>-3.029573</td><td>-3.029573</td><td>-3.029573</td><td>-3.029573</td><td>-3.029573</td><td>-3.029573</td><td>-3.029573</td><td>-3.029573</td><td>-3.029573</td><td>-3.029573</td></tr>\n",
       "\t<tr><th scope=row>s17512</th><td>Canada's Michael Smith Genome Sciences Centre</td><td> 1.019243</td><td>-2.150682</td><td>6.024243</td><td>-2.150682</td><td>-2.1506823</td><td>-2.150682</td><td>1.936781</td><td>1.549757</td><td>-2.1506823</td><td>...</td><td>-2.150682</td><td>-2.150682</td><td>-2.150682</td><td>-2.150682</td><td>-2.150682</td><td>-2.150682</td><td>-2.150682</td><td>-2.150682</td><td>-2.150682</td><td>-2.150682</td></tr>\n",
       "</tbody>\n",
       "</table>\n"
      ],
      "text/latex": [
       "A data.frame: 2 x 1796\n",
       "\\begin{tabular}{r|lllllllllllllllllllll}\n",
       "  & label & k\\_\\_Viruses.f\\_\\_Phycodnaviridae.g\\_\\_Prasinovirus & k\\_\\_Viruses.o\\_\\_Caudovirales.f\\_\\_Siphoviridae.g\\_\\_Sfi1unalikevirus & k\\_\\_Viruses.o\\_\\_Herpesvirales.f\\_\\_Herpesviridae.g\\_\\_Simplexvirus & k\\_\\_Viruses.o\\_\\_Caudovirales.f\\_\\_Siphoviridae.g\\_\\_C2likevirus & k\\_\\_Viruses.f\\_\\_Poxviridae.g\\_\\_Parapoxvirus & k\\_\\_Viruses.f\\_\\_Bicaudaviridae.g\\_\\_Bicaudavirus & k\\_\\_Viruses.o\\_\\_Picornavirales.f\\_\\_Picornaviridae.g\\_\\_Aquamavirus & k\\_\\_Viruses.o\\_\\_Herpesvirales.f\\_\\_Herpesviridae.g\\_\\_Mardivirus & k\\_\\_Viruses.f\\_\\_Baculoviridae.g\\_\\_Deltabaculovirus & ... & k\\_\\_Bacteria.p\\_\\_Synergistetes.c\\_\\_Synergistia.o\\_\\_Synergistales.f\\_\\_Synergistaceae.g\\_\\_Cloacibacillus & k\\_\\_Bacteria.p\\_\\_Firmicutes.c\\_\\_Clostridia.o\\_\\_Clostridiales.f\\_\\_Lachnospiraceae.g\\_\\_Sellimonas & k\\_\\_Archaea.p\\_\\_Thaumarchaeota.g\\_\\_Candidatus\\_Nitrosotenuis & k\\_\\_Bacteria.p\\_\\_Rhodothermaeota.c\\_\\_Balneolia.o\\_\\_Balneolales.f\\_\\_Balneolaceae.g\\_\\_Gracilimonas & k\\_\\_Archaea.p\\_\\_Crenarchaeota.c\\_\\_Thermoprotei.o\\_\\_Thermoproteales.f\\_\\_Thermoproteaceae.g\\_\\_Caldivirga & k\\_\\_Bacteria.p\\_\\_Firmicutes.c\\_\\_Clostridia.o\\_\\_Clostridiales.f\\_\\_Clostridiales\\_Family\\_XIII.\\_Incertae\\_Sedis.g\\_\\_Casaltella & k\\_\\_Bacteria.p\\_\\_Proteobacteria.c\\_\\_Betaproteobacteria.o\\_\\_Neisseriales.f\\_\\_Chromobacteriaceae.g\\_\\_Deefgea & k\\_\\_Bacteria.p\\_\\_Proteobacteria.c\\_\\_Alphaproteobacteria.o\\_\\_Rhizobiales.f\\_\\_Phyllobacteriaceae.g\\_\\_Aquamicrobium & k\\_\\_Bacteria.p\\_\\_Deferribacteres.c\\_\\_Deferribacteres.o\\_\\_Deferribacterales.f\\_\\_Deferribacteraceae.g\\_\\_Geovibrio & k\\_\\_Bacteria.p\\_\\_Firmicutes.c\\_\\_Clostridia.o\\_\\_Clostridiales.f\\_\\_Ruminococcaceae.g\\_\\_Subdoligranulum\\\\\n",
       "  & <fct> & <dbl> & <dbl> & <dbl> & <dbl> & <dbl> & <dbl> & <dbl> & <dbl> & <dbl> & ... & <dbl> & <dbl> & <dbl> & <dbl> & <dbl> & <dbl> & <dbl> & <dbl> & <dbl> & <dbl>\\\\\n",
       "\\hline\n",
       "\ts17489 & Canada's Michael Smith Genome Sciences Centre & -3.029573 & -3.029573 & 4.930429 & -3.029573 & -0.7076448 & -3.029573 & 2.698348 & 2.585137 & -0.7076448 & ... & -3.029573 & -3.029573 & -3.029573 & -3.029573 & -3.029573 & -3.029573 & -3.029573 & -3.029573 & -3.029573 & -3.029573\\\\\n",
       "\ts17512 & Canada's Michael Smith Genome Sciences Centre &  1.019243 & -2.150682 & 6.024243 & -2.150682 & -2.1506823 & -2.150682 & 1.936781 & 1.549757 & -2.1506823 & ... & -2.150682 & -2.150682 & -2.150682 & -2.150682 & -2.150682 & -2.150682 & -2.150682 & -2.150682 & -2.150682 & -2.150682\\\\\n",
       "\\end{tabular}\n"
      ],
      "text/markdown": [
       "\n",
       "A data.frame: 2 x 1796\n",
       "\n",
       "| <!--/--> | label &lt;fct&gt; | k__Viruses.f__Phycodnaviridae.g__Prasinovirus &lt;dbl&gt; | k__Viruses.o__Caudovirales.f__Siphoviridae.g__Sfi1unalikevirus &lt;dbl&gt; | k__Viruses.o__Herpesvirales.f__Herpesviridae.g__Simplexvirus &lt;dbl&gt; | k__Viruses.o__Caudovirales.f__Siphoviridae.g__C2likevirus &lt;dbl&gt; | k__Viruses.f__Poxviridae.g__Parapoxvirus &lt;dbl&gt; | k__Viruses.f__Bicaudaviridae.g__Bicaudavirus &lt;dbl&gt; | k__Viruses.o__Picornavirales.f__Picornaviridae.g__Aquamavirus &lt;dbl&gt; | k__Viruses.o__Herpesvirales.f__Herpesviridae.g__Mardivirus &lt;dbl&gt; | k__Viruses.f__Baculoviridae.g__Deltabaculovirus &lt;dbl&gt; | ... ... | k__Bacteria.p__Synergistetes.c__Synergistia.o__Synergistales.f__Synergistaceae.g__Cloacibacillus &lt;dbl&gt; | k__Bacteria.p__Firmicutes.c__Clostridia.o__Clostridiales.f__Lachnospiraceae.g__Sellimonas &lt;dbl&gt; | k__Archaea.p__Thaumarchaeota.g__Candidatus_Nitrosotenuis &lt;dbl&gt; | k__Bacteria.p__Rhodothermaeota.c__Balneolia.o__Balneolales.f__Balneolaceae.g__Gracilimonas &lt;dbl&gt; | k__Archaea.p__Crenarchaeota.c__Thermoprotei.o__Thermoproteales.f__Thermoproteaceae.g__Caldivirga &lt;dbl&gt; | k__Bacteria.p__Firmicutes.c__Clostridia.o__Clostridiales.f__Clostridiales_Family_XIII._Incertae_Sedis.g__Casaltella &lt;dbl&gt; | k__Bacteria.p__Proteobacteria.c__Betaproteobacteria.o__Neisseriales.f__Chromobacteriaceae.g__Deefgea &lt;dbl&gt; | k__Bacteria.p__Proteobacteria.c__Alphaproteobacteria.o__Rhizobiales.f__Phyllobacteriaceae.g__Aquamicrobium &lt;dbl&gt; | k__Bacteria.p__Deferribacteres.c__Deferribacteres.o__Deferribacterales.f__Deferribacteraceae.g__Geovibrio &lt;dbl&gt; | k__Bacteria.p__Firmicutes.c__Clostridia.o__Clostridiales.f__Ruminococcaceae.g__Subdoligranulum &lt;dbl&gt; |\n",
       "|---|---|---|---|---|---|---|---|---|---|---|---|---|---|---|---|---|---|---|---|---|---|\n",
       "| s17489 | Canada's Michael Smith Genome Sciences Centre | -3.029573 | -3.029573 | 4.930429 | -3.029573 | -0.7076448 | -3.029573 | 2.698348 | 2.585137 | -0.7076448 | ... | -3.029573 | -3.029573 | -3.029573 | -3.029573 | -3.029573 | -3.029573 | -3.029573 | -3.029573 | -3.029573 | -3.029573 |\n",
       "| s17512 | Canada's Michael Smith Genome Sciences Centre |  1.019243 | -2.150682 | 6.024243 | -2.150682 | -2.1506823 | -2.150682 | 1.936781 | 1.549757 | -2.1506823 | ... | -2.150682 | -2.150682 | -2.150682 | -2.150682 | -2.150682 | -2.150682 | -2.150682 | -2.150682 | -2.150682 | -2.150682 |\n",
       "\n"
      ],
      "text/plain": [
       "       label                                        \n",
       "s17489 Canada's Michael Smith Genome Sciences Centre\n",
       "s17512 Canada's Michael Smith Genome Sciences Centre\n",
       "       k__Viruses.f__Phycodnaviridae.g__Prasinovirus\n",
       "s17489 -3.029573                                    \n",
       "s17512  1.019243                                    \n",
       "       k__Viruses.o__Caudovirales.f__Siphoviridae.g__Sfi1unalikevirus\n",
       "s17489 -3.029573                                                     \n",
       "s17512 -2.150682                                                     \n",
       "       k__Viruses.o__Herpesvirales.f__Herpesviridae.g__Simplexvirus\n",
       "s17489 4.930429                                                    \n",
       "s17512 6.024243                                                    \n",
       "       k__Viruses.o__Caudovirales.f__Siphoviridae.g__C2likevirus\n",
       "s17489 -3.029573                                                \n",
       "s17512 -2.150682                                                \n",
       "       k__Viruses.f__Poxviridae.g__Parapoxvirus\n",
       "s17489 -0.7076448                              \n",
       "s17512 -2.1506823                              \n",
       "       k__Viruses.f__Bicaudaviridae.g__Bicaudavirus\n",
       "s17489 -3.029573                                   \n",
       "s17512 -2.150682                                   \n",
       "       k__Viruses.o__Picornavirales.f__Picornaviridae.g__Aquamavirus\n",
       "s17489 2.698348                                                     \n",
       "s17512 1.936781                                                     \n",
       "       k__Viruses.o__Herpesvirales.f__Herpesviridae.g__Mardivirus\n",
       "s17489 2.585137                                                  \n",
       "s17512 1.549757                                                  \n",
       "       k__Viruses.f__Baculoviridae.g__Deltabaculovirus ...\n",
       "s17489 -0.7076448                                      ...\n",
       "s17512 -2.1506823                                      ...\n",
       "       k__Bacteria.p__Synergistetes.c__Synergistia.o__Synergistales.f__Synergistaceae.g__Cloacibacillus\n",
       "s17489 -3.029573                                                                                       \n",
       "s17512 -2.150682                                                                                       \n",
       "       k__Bacteria.p__Firmicutes.c__Clostridia.o__Clostridiales.f__Lachnospiraceae.g__Sellimonas\n",
       "s17489 -3.029573                                                                                \n",
       "s17512 -2.150682                                                                                \n",
       "       k__Archaea.p__Thaumarchaeota.g__Candidatus_Nitrosotenuis\n",
       "s17489 -3.029573                                               \n",
       "s17512 -2.150682                                               \n",
       "       k__Bacteria.p__Rhodothermaeota.c__Balneolia.o__Balneolales.f__Balneolaceae.g__Gracilimonas\n",
       "s17489 -3.029573                                                                                 \n",
       "s17512 -2.150682                                                                                 \n",
       "       k__Archaea.p__Crenarchaeota.c__Thermoprotei.o__Thermoproteales.f__Thermoproteaceae.g__Caldivirga\n",
       "s17489 -3.029573                                                                                       \n",
       "s17512 -2.150682                                                                                       \n",
       "       k__Bacteria.p__Firmicutes.c__Clostridia.o__Clostridiales.f__Clostridiales_Family_XIII._Incertae_Sedis.g__Casaltella\n",
       "s17489 -3.029573                                                                                                          \n",
       "s17512 -2.150682                                                                                                          \n",
       "       k__Bacteria.p__Proteobacteria.c__Betaproteobacteria.o__Neisseriales.f__Chromobacteriaceae.g__Deefgea\n",
       "s17489 -3.029573                                                                                           \n",
       "s17512 -2.150682                                                                                           \n",
       "       k__Bacteria.p__Proteobacteria.c__Alphaproteobacteria.o__Rhizobiales.f__Phyllobacteriaceae.g__Aquamicrobium\n",
       "s17489 -3.029573                                                                                                 \n",
       "s17512 -2.150682                                                                                                 \n",
       "       k__Bacteria.p__Deferribacteres.c__Deferribacteres.o__Deferribacterales.f__Deferribacteraceae.g__Geovibrio\n",
       "s17489 -3.029573                                                                                                \n",
       "s17512 -2.150682                                                                                                \n",
       "       k__Bacteria.p__Firmicutes.c__Clostridia.o__Clostridiales.f__Ruminococcaceae.g__Subdoligranulum\n",
       "s17489 -3.029573                                                                                     \n",
       "s17512 -2.150682                                                                                     "
      ]
     },
     "metadata": {},
     "output_type": "display_data"
    },
    {
     "data": {
      "text/html": [
       "<style>\n",
       ".list-inline {list-style: none; margin:0; padding: 0}\n",
       ".list-inline>li {display: inline-block}\n",
       ".list-inline>li:not(:last-child)::after {content: \"\\00b7\"; padding: 0 .5ex}\n",
       "</style>\n",
       "<ol class=list-inline><li>17625</li><li>1795</li></ol>\n"
      ],
      "text/latex": [
       "\\begin{enumerate*}\n",
       "\\item 17625\n",
       "\\item 1795\n",
       "\\end{enumerate*}\n"
      ],
      "text/markdown": [
       "1. 17625\n",
       "2. 1795\n",
       "\n",
       "\n"
      ],
      "text/plain": [
       "[1] 17625  1795"
      ]
     },
     "metadata": {},
     "output_type": "display_data"
    },
    {
     "data": {
      "text/html": [
       "<style>\n",
       ".list-inline {list-style: none; margin:0; padding: 0}\n",
       ".list-inline>li {display: inline-block}\n",
       ".list-inline>li:not(:last-child)::after {content: \"\\00b7\"; padding: 0 .5ex}\n",
       "</style>\n",
       "<ol class=list-inline><li>17625</li><li>1795</li></ol>\n"
      ],
      "text/latex": [
       "\\begin{enumerate*}\n",
       "\\item 17625\n",
       "\\item 1795\n",
       "\\end{enumerate*}\n"
      ],
      "text/markdown": [
       "1. 17625\n",
       "2. 1795\n",
       "\n",
       "\n"
      ],
      "text/plain": [
       "[1] 17625  1795"
      ]
     },
     "metadata": {},
     "output_type": "display_data"
    },
    {
     "data": {
      "text/html": [
       "<style>\n",
       ".list-inline {list-style: none; margin:0; padding: 0}\n",
       ".list-inline>li {display: inline-block}\n",
       ".list-inline>li:not(:last-child)::after {content: \"\\00b7\"; padding: 0 .5ex}\n",
       "</style>\n",
       "<ol class=list-inline><li>17625</li><li>41</li></ol>\n"
      ],
      "text/latex": [
       "\\begin{enumerate*}\n",
       "\\item 17625\n",
       "\\item 41\n",
       "\\end{enumerate*}\n"
      ],
      "text/markdown": [
       "1. 17625\n",
       "2. 41\n",
       "\n",
       "\n"
      ],
      "text/plain": [
       "[1] 17625    41"
      ]
     },
     "metadata": {},
     "output_type": "display_data"
    },
    {
     "data": {
      "image/png": "[encoded data removed]",
      "text/plain": [
       "Plot with title “out_pca”"
      ]
     },
     "metadata": {
      "image/png": {
       "height": 420,
       "width": 420
      },
      "text/plain": {
       "height": 420,
       "width": 420
      }
     },
     "output_type": "display_data"
    },
    {
     "data": {
      "image/png": "[encoded data removed]",
      "text/plain": [
       "plot without title"
      ]
     },
     "metadata": {
      "image/png": {
       "height": 420,
       "width": 420
      },
      "text/plain": {
       "height": 420,
       "width": 420
      }
     },
     "output_type": "display_data"
    },
    {
     "data": {
      "image/png": "[encoded data removed]",
      "text/plain": [
       "Plot with title “out_pca”"
      ]
     },
     "metadata": {
      "image/png": {
       "height": 420,
       "width": 420
      },
      "text/plain": {
       "height": 420,
       "width": 420
      }
     },
     "output_type": "display_data"
    },
    {
     "data": {
      "image/png": "[encoded data removed]",
      "text/plain": [
       "plot without title"
      ]
     },
     "metadata": {
      "image/png": {
       "height": 420,
       "width": 420
      },
      "text/plain": {
       "height": 420,
       "width": 420
      }
     },
     "output_type": "display_data"
    }
   ],
   "source": [
    "#convert to numeric and combine label\n",
    "Rawdat<-as.data.frame(t(vdge$E))\n",
    "QNordat<-as.data.frame(snmDataSampleTypeWithExpStrategyFA)\n",
    "\n",
    "label<-metadataSamplesAllQC$data_submitting_center_label\n",
    "Rawdat <- as.data.frame(cbind(label,Rawdat),stringsAsFactors = F)\n",
    "QNordat <-as.data.frame(cbind(label,QNordat),stringsAsFactors = F)\n",
    "\n",
    "#import data\n",
    "QNordat[1:2,]\n",
    "Rawdat[1:2,]\n",
    "\n",
    "dim(snmDataSampleTypeWithExpStrategyFA)\n",
    "dim(t(vdge$E))\n",
    "dim(metadataSamplesAllQC)\n",
    "\n",
    "\n",
    "#install.packages('ggfortify')\n",
    "library(ggfortify)\n",
    "\n",
    "#pca for raw data\n",
    "# apply PCA - scale. = TRUE is highly advisable, but default is FALSE. \n",
    "out_pca <- prcomp(Rawdat[,-1])\n",
    "#out_pca$x[,1]   #extract pca1\n",
    "#write.csv(out_pca,file=\"data/pca.txt\",quote=F,row.names=T)\n",
    "plot(out_pca,type=\"l\")\n",
    "autoplot(prcomp(Rawdat[,-1]),data=Rawdat,colour='label',size=0.1,label=FALSE,label.size=3)\n",
    "\n",
    "#pca for norm data\n",
    "out_pca <- prcomp(QNordat[,-1])\n",
    "#out_pca[2]\n",
    "#write.csv(out_pca[2],file=\"data/pca_qnorm.txt\",quote=F,row.names=T)\n",
    "plot(out_pca,type=\"l\")\n",
    "#plot(out_pca$x[,1],out_pca$x[,2])\n",
    "autoplot(prcomp(QNordat[,-1]),data=QNordat,colour='label',size=0.1,label=FALSE,label.size=3)"
   ]
  },
  {
   "cell_type": "markdown",
   "metadata": {},
   "source": [
    "# PVCA using key filtered metadata features (i.e. narrowing down the extended version of this)"
   ]
  },
  {
   "cell_type": "code",
   "execution_count": 16,
   "metadata": {},
   "outputs": [
    {
     "name": "stdout",
     "output_type": "stream",
     "text": [
      "[1] 17625     7\n",
      "[1] 17625  1795\n",
      "[1] 17625  1993\n"
     ]
    },
    {
     "ename": "ERROR",
     "evalue": "Error in PVCA(counts = t(vbDataBarnDFReconciledQC), meta = metaPVCAExtendedFiltered, : could not find function \"PVCA\"\n",
     "output_type": "error",
     "traceback": [
      "Error in PVCA(counts = t(vbDataBarnDFReconciledQC), meta = metaPVCAExtendedFiltered, : could not find function \"PVCA\"\nTraceback:\n"
     ]
    }
   ],
   "source": [
    "# Implement PVCA\n",
    "# From extended model, remove variables that contribute very little if at all:\n",
    "# ethnicity, gender, reference_genome\n",
    "\n",
    "library(pvca)\n",
    "pct_threshold <- 0.8\n",
    "metaPVCAExtendedFiltered <- metadataSamplesAllQC[,c(\"sample_type\",\n",
    "                                            \"disease_type\",\n",
    "                                            \"data_submitting_center_label\",\n",
    "                                            \"platform\",\n",
    "                                            \"experimental_strategy\", \n",
    "                                            \"tissue_source_site_label\",\n",
    "                                            \"portion_is_ffpe\")]\n",
    "print(dim(metaPVCAExtendedFiltered))\n",
    "print(dim(snmDataSampleTypeWithExpStrategyFA))\n",
    "print(dim(vbDataBarnDFReconciledQC))\n",
    "\n",
    "\n",
    "par(mfcol=c(2,2))\n",
    "pvcaVbRawNoVoomNoSNM_ExtendedFiltered_FA <- PVCA(counts = t(vbDataBarnDFReconciledQC), \n",
    "                                               meta = metaPVCAExtendedFiltered, \n",
    "                                               threshold = pct_threshold,\n",
    "                                               inter = FALSE)\n",
    "#save(pvcaVbRawNoVoomNoSNM_ExtendedFiltered_FA, file = \"pvcaVbRawNoVoomNoSNM_ExtendedFiltered_FA.RData\")\n",
    "PlotPVCA(pvcaVbRawNoVoomNoSNM_ExtendedFiltered_FA, \"Raw count data\")\n",
    "\n",
    "pvcaVoomNoSNM_ExtendedFiltered_FA <- PVCA(counts = vdge$E,\n",
    "                                           meta = metaPVCAExtendedFiltered,\n",
    "                                           threshold = pct_threshold,\n",
    "                                           inter = FALSE)\n",
    "#save(pvcaVoomNoSNM_ExtendedFiltered_FA, file = \"pvcaVoomNoSNM_ExtendedFiltered_FA.RData\")\n",
    "PlotPVCA(pvcaVoomNoSNM_ExtendedFiltered_FA, \"Voom Normalized\")\n",
    "\n",
    "pvcaSampleWithExpStrategySNM_ExtendedFiltered_FA <- PVCA(counts = t(snmDataSampleTypeWithExpStrategyFA), \n",
    "                                                       meta = metaPVCAExtendedFiltered,\n",
    "                                                       threshold = pct_threshold,\n",
    "                                                       inter = FALSE)\n",
    "#save(pvcaSampleWithExpStrategySNM_ExtendedFiltered_FA, file = \"pvcnoaSampleWithExpStrategySNM_ExtendedFiltered_FA.RData\")\n",
    "PlotPVCA(pvcaSampleWithExpStrategySNM_ExtendedFiltered_FA, \n",
    "         \"Voom Normalized & SNM Corrected Plus Exp Strategy (Target is Sample Type)\")"
   ]
  },
  {
   "cell_type": "markdown",
   "metadata": {},
   "source": [
    "# loocv model training "
   ]
  },
  {
   "cell_type": "markdown",
   "metadata": {},
   "source": [
    "normalizaton with age and gender"
   ]
  },
  {
   "cell_type": "code",
   "execution_count": 10,
   "metadata": {},
   "outputs": [
    {
     "data": {
      "text/html": [
       "<table>\n",
       "<caption>A data.frame: 5 x 12</caption>\n",
       "<thead>\n",
       "\t<tr><th></th><th scope=col>specimen_id</th><th scope=col>diagnosis</th><th scope=col>disease_type</th><th scope=col>disease_type_consol</th><th scope=col>HvsC</th><th scope=col>host_age</th><th scope=col>host_age_ordered</th><th scope=col>host_age_binned</th><th scope=col>sex</th><th scope=col>tube_id</th><th scope=col>well_description</th><th scope=col>well_conc</th></tr>\n",
       "\t<tr><th></th><th scope=col>&lt;chr&gt;</th><th scope=col>&lt;chr&gt;</th><th scope=col>&lt;chr&gt;</th><th scope=col>&lt;chr&gt;</th><th scope=col>&lt;chr&gt;</th><th scope=col>&lt;int&gt;</th><th scope=col>&lt;int&gt;</th><th scope=col>&lt;chr&gt;</th><th scope=col>&lt;chr&gt;</th><th scope=col>&lt;chr&gt;</th><th scope=col>&lt;chr&gt;</th><th scope=col>&lt;dbl&gt;</th></tr>\n",
       "</thead>\n",
       "<tbody>\n",
       "\t<tr><th scope=row>12667.X3039009</th><td>not provided</td><td>not provided   </td><td>healthy control</td><td>Control</td><td>Control</td><td>46</td><td>46</td><td>X4</td><td>female</td><td>HNN21</td><td>HNN21</td><td>0.205</td></tr>\n",
       "\t<tr><th scope=row>12691.PC30</th><td>42899846    </td><td>Prostate Cancer</td><td>Prostate Cancer</td><td>PRAD   </td><td>Cancer </td><td>72</td><td>72</td><td>X7</td><td>male  </td><td>PC30 </td><td>PC30 </td><td>0.121</td></tr>\n",
       "\t<tr><th scope=row>12691.PC10</th><td>37286800    </td><td>Prostate Cancer</td><td>Prostate Cancer</td><td>PRAD   </td><td>Cancer </td><td>82</td><td>82</td><td>X8</td><td>male  </td><td>PC10 </td><td>PC10 </td><td>0.367</td></tr>\n",
       "\t<tr><th scope=row>12667.X2062971</th><td>not provided</td><td>not provided   </td><td>healthy control</td><td>Control</td><td>Control</td><td>30</td><td>30</td><td>X2</td><td>male  </td><td>HNL11</td><td>HNL11</td><td>0.243</td></tr>\n",
       "\t<tr><th scope=row>12667.X2051123</th><td>not provided</td><td>not provided   </td><td>healthy control</td><td>Control</td><td>Control</td><td>59</td><td>59</td><td>X5</td><td>female</td><td>HNL4 </td><td>HNL4 </td><td>0.199</td></tr>\n",
       "</tbody>\n",
       "</table>\n"
      ],
      "text/latex": [
       "A data.frame: 5 x 12\n",
       "\\begin{tabular}{r|llllllllllll}\n",
       "  & specimen\\_id & diagnosis & disease\\_type & disease\\_type\\_consol & HvsC & host\\_age & host\\_age\\_ordered & host\\_age\\_binned & sex & tube\\_id & well\\_description & well\\_conc\\\\\n",
       "  & <chr> & <chr> & <chr> & <chr> & <chr> & <int> & <int> & <chr> & <chr> & <chr> & <chr> & <dbl>\\\\\n",
       "\\hline\n",
       "\t12667.X3039009 & not provided & not provided    & healthy control & Control & Control & 46 & 46 & X4 & female & HNN21 & HNN21 & 0.205\\\\\n",
       "\t12691.PC30 & 42899846     & Prostate Cancer & Prostate Cancer & PRAD    & Cancer  & 72 & 72 & X7 & male   & PC30  & PC30  & 0.121\\\\\n",
       "\t12691.PC10 & 37286800     & Prostate Cancer & Prostate Cancer & PRAD    & Cancer  & 82 & 82 & X8 & male   & PC10  & PC10  & 0.367\\\\\n",
       "\t12667.X2062971 & not provided & not provided    & healthy control & Control & Control & 30 & 30 & X2 & male   & HNL11 & HNL11 & 0.243\\\\\n",
       "\t12667.X2051123 & not provided & not provided    & healthy control & Control & Control & 59 & 59 & X5 & female & HNL4  & HNL4  & 0.199\\\\\n",
       "\\end{tabular}\n"
      ],
      "text/markdown": [
       "\n",
       "A data.frame: 5 x 12\n",
       "\n",
       "| <!--/--> | specimen_id &lt;chr&gt; | diagnosis &lt;chr&gt; | disease_type &lt;chr&gt; | disease_type_consol &lt;chr&gt; | HvsC &lt;chr&gt; | host_age &lt;int&gt; | host_age_ordered &lt;int&gt; | host_age_binned &lt;chr&gt; | sex &lt;chr&gt; | tube_id &lt;chr&gt; | well_description &lt;chr&gt; | well_conc &lt;dbl&gt; |\n",
       "|---|---|---|---|---|---|---|---|---|---|---|---|---|\n",
       "| 12667.X3039009 | not provided | not provided    | healthy control | Control | Control | 46 | 46 | X4 | female | HNN21 | HNN21 | 0.205 |\n",
       "| 12691.PC30 | 42899846     | Prostate Cancer | Prostate Cancer | PRAD    | Cancer  | 72 | 72 | X7 | male   | PC30  | PC30  | 0.121 |\n",
       "| 12691.PC10 | 37286800     | Prostate Cancer | Prostate Cancer | PRAD    | Cancer  | 82 | 82 | X8 | male   | PC10  | PC10  | 0.367 |\n",
       "| 12667.X2062971 | not provided | not provided    | healthy control | Control | Control | 30 | 30 | X2 | male   | HNL11 | HNL11 | 0.243 |\n",
       "| 12667.X2051123 | not provided | not provided    | healthy control | Control | Control | 59 | 59 | X5 | female | HNL4  | HNL4  | 0.199 |\n",
       "\n"
      ],
      "text/plain": [
       "               specimen_id  diagnosis       disease_type    disease_type_consol\n",
       "12667.X3039009 not provided not provided    healthy control Control            \n",
       "12691.PC30     42899846     Prostate Cancer Prostate Cancer PRAD               \n",
       "12691.PC10     37286800     Prostate Cancer Prostate Cancer PRAD               \n",
       "12667.X2062971 not provided not provided    healthy control Control            \n",
       "12667.X2051123 not provided not provided    healthy control Control            \n",
       "               HvsC    host_age host_age_ordered host_age_binned sex    tube_id\n",
       "12667.X3039009 Control 46       46               X4              female HNN21  \n",
       "12691.PC30     Cancer  72       72               X7              male   PC30   \n",
       "12691.PC10     Cancer  82       82               X8              male   PC10   \n",
       "12667.X2062971 Control 30       30               X2              male   HNL11  \n",
       "12667.X2051123 Control 59       59               X5              female HNL4   \n",
       "               well_description well_conc\n",
       "12667.X3039009 HNN21            0.205    \n",
       "12691.PC30     PC30             0.121    \n",
       "12691.PC10     PC10             0.367    \n",
       "12667.X2062971 HNL11            0.243    \n",
       "12667.X2051123 HNL4             0.199    "
      ]
     },
     "metadata": {},
     "output_type": "display_data"
    },
    {
     "data": {
      "text/html": [
       "<table>\n",
       "<caption>A data.frame: 5 x 478</caption>\n",
       "<thead>\n",
       "\t<tr><th></th><th scope=col>k__Archaea.p__Thaumarchaeota.o__Nitrosopumilales.f__Nitrosopumilaceae.g__Candidatus_Nitrosoarchaeum</th><th scope=col>k__Bacteria.p__Actinobacteria.c__Actinobacteria.o__Micrococcales.f__Dermabacteraceae.g__Helcobacillus</th><th scope=col>k__Bacteria.p__Actinobacteria.c__Actinobacteria.o__Actinomycetales.f__Actinomycetaceae.g__Arcanobacterium</th><th scope=col>k__Bacteria.p__Proteobacteria.c__Gammaproteobacteria.o__Alteromonadales.f__Alteromonadaceae.g__Aliagarivorans</th><th scope=col>k__Bacteria.p__Proteobacteria.c__Gammaproteobacteria.o__Enterobacteriales.f__Enterobacteriaceae.g__Escherichia</th><th scope=col>k__Bacteria.p__Proteobacteria.c__Gammaproteobacteria.o__Pasteurellales.f__Pasteurellaceae.g__Bibersteinia</th><th scope=col>k__Bacteria.p__Actinobacteria.c__Actinobacteria.o__Corynebacteriales.f__Dietziaceae.g__Dietzia</th><th scope=col>k__Bacteria.p__Proteobacteria.c__Gammaproteobacteria.o__Enterobacteriales.f__Enterobacteriaceae.g__Enterobacter</th><th scope=col>k__Bacteria.p__Proteobacteria.c__Gammaproteobacteria.o__Enterobacteriales.f__Enterobacteriaceae.g__Candidatus_Moranella</th><th scope=col>k__Bacteria.p__Bacteroidetes.c__Flavobacteriia.o__Flavobacteriales.f__Flavobacteriaceae.g__Vitellibacter</th><th scope=col>...</th><th scope=col>k__Viruses.f__Mimiviridae.g__Mimivirus</th><th scope=col>k__Viruses.f__Phycodnaviridae.g__Phaeovirus</th><th scope=col>k__Viruses.o__Caudovirales.f__Siphoviridae.g__Skunalikevirus</th><th scope=col>k__Viruses.f__Parvoviridae.g__Tetraparvovirus</th><th scope=col>k__Viruses.o__Caudovirales.f__Myoviridae.g__Kayvirus</th><th scope=col>k__Viruses.o__Caudovirales.f__Podoviridae.g__Bcep22likevirus</th><th scope=col>k__Viruses.o__Caudovirales.f__Siphoviridae.g__Tm4likevirus</th><th scope=col>k__Viruses.f__Poxviridae.g__Yatapoxvirus</th><th scope=col>k__Viruses.f__Anelloviridae.g__Alphatorquevirus</th><th scope=col>k__Viruses.f__Sphaerolipoviridae.g__Gammasphaerolipovirus</th></tr>\n",
       "\t<tr><th></th><th scope=col>&lt;int&gt;</th><th scope=col>&lt;int&gt;</th><th scope=col>&lt;int&gt;</th><th scope=col>&lt;int&gt;</th><th scope=col>&lt;int&gt;</th><th scope=col>&lt;int&gt;</th><th scope=col>&lt;int&gt;</th><th scope=col>&lt;int&gt;</th><th scope=col>&lt;int&gt;</th><th scope=col>&lt;int&gt;</th><th scope=col>...</th><th scope=col>&lt;int&gt;</th><th scope=col>&lt;int&gt;</th><th scope=col>&lt;int&gt;</th><th scope=col>&lt;int&gt;</th><th scope=col>&lt;int&gt;</th><th scope=col>&lt;int&gt;</th><th scope=col>&lt;int&gt;</th><th scope=col>&lt;int&gt;</th><th scope=col>&lt;int&gt;</th><th scope=col>&lt;int&gt;</th></tr>\n",
       "</thead>\n",
       "<tbody>\n",
       "\t<tr><th scope=row>12667.X3039009</th><td> 4</td><td>4</td><td>0</td><td>0</td><td>68</td><td>0</td><td>0</td><td>28</td><td>0</td><td>31</td><td>...</td><td>0</td><td>0</td><td>0</td><td>0</td><td>0</td><td>0</td><td>0</td><td>0</td><td>0</td><td>0</td></tr>\n",
       "\t<tr><th scope=row>12691.PC30</th><td>12</td><td>0</td><td>0</td><td>5</td><td>31</td><td>0</td><td>0</td><td>22</td><td>0</td><td> 9</td><td>...</td><td>6</td><td>0</td><td>0</td><td>0</td><td>0</td><td>0</td><td>0</td><td>0</td><td>7</td><td>0</td></tr>\n",
       "\t<tr><th scope=row>12691.PC10</th><td> 0</td><td>0</td><td>0</td><td>0</td><td>51</td><td>0</td><td>2</td><td> 8</td><td>0</td><td>11</td><td>...</td><td>0</td><td>0</td><td>0</td><td>0</td><td>0</td><td>0</td><td>0</td><td>0</td><td>0</td><td>0</td></tr>\n",
       "\t<tr><th scope=row>12667.X2062971</th><td> 0</td><td>1</td><td>0</td><td>0</td><td>23</td><td>2</td><td>2</td><td> 5</td><td>0</td><td> 5</td><td>...</td><td>0</td><td>0</td><td>0</td><td>0</td><td>0</td><td>0</td><td>0</td><td>0</td><td>0</td><td>0</td></tr>\n",
       "\t<tr><th scope=row>12667.X2051123</th><td> 0</td><td>0</td><td>0</td><td>0</td><td> 7</td><td>0</td><td>0</td><td> 0</td><td>0</td><td> 0</td><td>...</td><td>0</td><td>0</td><td>0</td><td>0</td><td>0</td><td>0</td><td>0</td><td>0</td><td>0</td><td>0</td></tr>\n",
       "</tbody>\n",
       "</table>\n"
      ],
      "text/latex": [
       "A data.frame: 5 x 478\n",
       "\\begin{tabular}{r|lllllllllllllllllllll}\n",
       "  & k\\_\\_Archaea.p\\_\\_Thaumarchaeota.o\\_\\_Nitrosopumilales.f\\_\\_Nitrosopumilaceae.g\\_\\_Candidatus\\_Nitrosoarchaeum & k\\_\\_Bacteria.p\\_\\_Actinobacteria.c\\_\\_Actinobacteria.o\\_\\_Micrococcales.f\\_\\_Dermabacteraceae.g\\_\\_Helcobacillus & k\\_\\_Bacteria.p\\_\\_Actinobacteria.c\\_\\_Actinobacteria.o\\_\\_Actinomycetales.f\\_\\_Actinomycetaceae.g\\_\\_Arcanobacterium & k\\_\\_Bacteria.p\\_\\_Proteobacteria.c\\_\\_Gammaproteobacteria.o\\_\\_Alteromonadales.f\\_\\_Alteromonadaceae.g\\_\\_Aliagarivorans & k\\_\\_Bacteria.p\\_\\_Proteobacteria.c\\_\\_Gammaproteobacteria.o\\_\\_Enterobacteriales.f\\_\\_Enterobacteriaceae.g\\_\\_Escherichia & k\\_\\_Bacteria.p\\_\\_Proteobacteria.c\\_\\_Gammaproteobacteria.o\\_\\_Pasteurellales.f\\_\\_Pasteurellaceae.g\\_\\_Bibersteinia & k\\_\\_Bacteria.p\\_\\_Actinobacteria.c\\_\\_Actinobacteria.o\\_\\_Corynebacteriales.f\\_\\_Dietziaceae.g\\_\\_Dietzia & k\\_\\_Bacteria.p\\_\\_Proteobacteria.c\\_\\_Gammaproteobacteria.o\\_\\_Enterobacteriales.f\\_\\_Enterobacteriaceae.g\\_\\_Enterobacter & k\\_\\_Bacteria.p\\_\\_Proteobacteria.c\\_\\_Gammaproteobacteria.o\\_\\_Enterobacteriales.f\\_\\_Enterobacteriaceae.g\\_\\_Candidatus\\_Moranella & k\\_\\_Bacteria.p\\_\\_Bacteroidetes.c\\_\\_Flavobacteriia.o\\_\\_Flavobacteriales.f\\_\\_Flavobacteriaceae.g\\_\\_Vitellibacter & ... & k\\_\\_Viruses.f\\_\\_Mimiviridae.g\\_\\_Mimivirus & k\\_\\_Viruses.f\\_\\_Phycodnaviridae.g\\_\\_Phaeovirus & k\\_\\_Viruses.o\\_\\_Caudovirales.f\\_\\_Siphoviridae.g\\_\\_Skunalikevirus & k\\_\\_Viruses.f\\_\\_Parvoviridae.g\\_\\_Tetraparvovirus & k\\_\\_Viruses.o\\_\\_Caudovirales.f\\_\\_Myoviridae.g\\_\\_Kayvirus & k\\_\\_Viruses.o\\_\\_Caudovirales.f\\_\\_Podoviridae.g\\_\\_Bcep22likevirus & k\\_\\_Viruses.o\\_\\_Caudovirales.f\\_\\_Siphoviridae.g\\_\\_Tm4likevirus & k\\_\\_Viruses.f\\_\\_Poxviridae.g\\_\\_Yatapoxvirus & k\\_\\_Viruses.f\\_\\_Anelloviridae.g\\_\\_Alphatorquevirus & k\\_\\_Viruses.f\\_\\_Sphaerolipoviridae.g\\_\\_Gammasphaerolipovirus\\\\\n",
       "  & <int> & <int> & <int> & <int> & <int> & <int> & <int> & <int> & <int> & <int> & ... & <int> & <int> & <int> & <int> & <int> & <int> & <int> & <int> & <int> & <int>\\\\\n",
       "\\hline\n",
       "\t12667.X3039009 &  4 & 4 & 0 & 0 & 68 & 0 & 0 & 28 & 0 & 31 & ... & 0 & 0 & 0 & 0 & 0 & 0 & 0 & 0 & 0 & 0\\\\\n",
       "\t12691.PC30 & 12 & 0 & 0 & 5 & 31 & 0 & 0 & 22 & 0 &  9 & ... & 6 & 0 & 0 & 0 & 0 & 0 & 0 & 0 & 7 & 0\\\\\n",
       "\t12691.PC10 &  0 & 0 & 0 & 0 & 51 & 0 & 2 &  8 & 0 & 11 & ... & 0 & 0 & 0 & 0 & 0 & 0 & 0 & 0 & 0 & 0\\\\\n",
       "\t12667.X2062971 &  0 & 1 & 0 & 0 & 23 & 2 & 2 &  5 & 0 &  5 & ... & 0 & 0 & 0 & 0 & 0 & 0 & 0 & 0 & 0 & 0\\\\\n",
       "\t12667.X2051123 &  0 & 0 & 0 & 0 &  7 & 0 & 0 &  0 & 0 &  0 & ... & 0 & 0 & 0 & 0 & 0 & 0 & 0 & 0 & 0 & 0\\\\\n",
       "\\end{tabular}\n"
      ],
      "text/markdown": [
       "\n",
       "A data.frame: 5 x 478\n",
       "\n",
       "| <!--/--> | k__Archaea.p__Thaumarchaeota.o__Nitrosopumilales.f__Nitrosopumilaceae.g__Candidatus_Nitrosoarchaeum &lt;int&gt; | k__Bacteria.p__Actinobacteria.c__Actinobacteria.o__Micrococcales.f__Dermabacteraceae.g__Helcobacillus &lt;int&gt; | k__Bacteria.p__Actinobacteria.c__Actinobacteria.o__Actinomycetales.f__Actinomycetaceae.g__Arcanobacterium &lt;int&gt; | k__Bacteria.p__Proteobacteria.c__Gammaproteobacteria.o__Alteromonadales.f__Alteromonadaceae.g__Aliagarivorans &lt;int&gt; | k__Bacteria.p__Proteobacteria.c__Gammaproteobacteria.o__Enterobacteriales.f__Enterobacteriaceae.g__Escherichia &lt;int&gt; | k__Bacteria.p__Proteobacteria.c__Gammaproteobacteria.o__Pasteurellales.f__Pasteurellaceae.g__Bibersteinia &lt;int&gt; | k__Bacteria.p__Actinobacteria.c__Actinobacteria.o__Corynebacteriales.f__Dietziaceae.g__Dietzia &lt;int&gt; | k__Bacteria.p__Proteobacteria.c__Gammaproteobacteria.o__Enterobacteriales.f__Enterobacteriaceae.g__Enterobacter &lt;int&gt; | k__Bacteria.p__Proteobacteria.c__Gammaproteobacteria.o__Enterobacteriales.f__Enterobacteriaceae.g__Candidatus_Moranella &lt;int&gt; | k__Bacteria.p__Bacteroidetes.c__Flavobacteriia.o__Flavobacteriales.f__Flavobacteriaceae.g__Vitellibacter &lt;int&gt; | ... ... | k__Viruses.f__Mimiviridae.g__Mimivirus &lt;int&gt; | k__Viruses.f__Phycodnaviridae.g__Phaeovirus &lt;int&gt; | k__Viruses.o__Caudovirales.f__Siphoviridae.g__Skunalikevirus &lt;int&gt; | k__Viruses.f__Parvoviridae.g__Tetraparvovirus &lt;int&gt; | k__Viruses.o__Caudovirales.f__Myoviridae.g__Kayvirus &lt;int&gt; | k__Viruses.o__Caudovirales.f__Podoviridae.g__Bcep22likevirus &lt;int&gt; | k__Viruses.o__Caudovirales.f__Siphoviridae.g__Tm4likevirus &lt;int&gt; | k__Viruses.f__Poxviridae.g__Yatapoxvirus &lt;int&gt; | k__Viruses.f__Anelloviridae.g__Alphatorquevirus &lt;int&gt; | k__Viruses.f__Sphaerolipoviridae.g__Gammasphaerolipovirus &lt;int&gt; |\n",
       "|---|---|---|---|---|---|---|---|---|---|---|---|---|---|---|---|---|---|---|---|---|---|\n",
       "| 12667.X3039009 |  4 | 4 | 0 | 0 | 68 | 0 | 0 | 28 | 0 | 31 | ... | 0 | 0 | 0 | 0 | 0 | 0 | 0 | 0 | 0 | 0 |\n",
       "| 12691.PC30 | 12 | 0 | 0 | 5 | 31 | 0 | 0 | 22 | 0 |  9 | ... | 6 | 0 | 0 | 0 | 0 | 0 | 0 | 0 | 7 | 0 |\n",
       "| 12691.PC10 |  0 | 0 | 0 | 0 | 51 | 0 | 2 |  8 | 0 | 11 | ... | 0 | 0 | 0 | 0 | 0 | 0 | 0 | 0 | 0 | 0 |\n",
       "| 12667.X2062971 |  0 | 1 | 0 | 0 | 23 | 2 | 2 |  5 | 0 |  5 | ... | 0 | 0 | 0 | 0 | 0 | 0 | 0 | 0 | 0 | 0 |\n",
       "| 12667.X2051123 |  0 | 0 | 0 | 0 |  7 | 0 | 0 |  0 | 0 |  0 | ... | 0 | 0 | 0 | 0 | 0 | 0 | 0 | 0 | 0 | 0 |\n",
       "\n"
      ],
      "text/plain": [
       "               k__Archaea.p__Thaumarchaeota.o__Nitrosopumilales.f__Nitrosopumilaceae.g__Candidatus_Nitrosoarchaeum\n",
       "12667.X3039009  4                                                                                                 \n",
       "12691.PC30     12                                                                                                 \n",
       "12691.PC10      0                                                                                                 \n",
       "12667.X2062971  0                                                                                                 \n",
       "12667.X2051123  0                                                                                                 \n",
       "               k__Bacteria.p__Actinobacteria.c__Actinobacteria.o__Micrococcales.f__Dermabacteraceae.g__Helcobacillus\n",
       "12667.X3039009 4                                                                                                    \n",
       "12691.PC30     0                                                                                                    \n",
       "12691.PC10     0                                                                                                    \n",
       "12667.X2062971 1                                                                                                    \n",
       "12667.X2051123 0                                                                                                    \n",
       "               k__Bacteria.p__Actinobacteria.c__Actinobacteria.o__Actinomycetales.f__Actinomycetaceae.g__Arcanobacterium\n",
       "12667.X3039009 0                                                                                                        \n",
       "12691.PC30     0                                                                                                        \n",
       "12691.PC10     0                                                                                                        \n",
       "12667.X2062971 0                                                                                                        \n",
       "12667.X2051123 0                                                                                                        \n",
       "               k__Bacteria.p__Proteobacteria.c__Gammaproteobacteria.o__Alteromonadales.f__Alteromonadaceae.g__Aliagarivorans\n",
       "12667.X3039009 0                                                                                                            \n",
       "12691.PC30     5                                                                                                            \n",
       "12691.PC10     0                                                                                                            \n",
       "12667.X2062971 0                                                                                                            \n",
       "12667.X2051123 0                                                                                                            \n",
       "               k__Bacteria.p__Proteobacteria.c__Gammaproteobacteria.o__Enterobacteriales.f__Enterobacteriaceae.g__Escherichia\n",
       "12667.X3039009 68                                                                                                            \n",
       "12691.PC30     31                                                                                                            \n",
       "12691.PC10     51                                                                                                            \n",
       "12667.X2062971 23                                                                                                            \n",
       "12667.X2051123  7                                                                                                            \n",
       "               k__Bacteria.p__Proteobacteria.c__Gammaproteobacteria.o__Pasteurellales.f__Pasteurellaceae.g__Bibersteinia\n",
       "12667.X3039009 0                                                                                                        \n",
       "12691.PC30     0                                                                                                        \n",
       "12691.PC10     0                                                                                                        \n",
       "12667.X2062971 2                                                                                                        \n",
       "12667.X2051123 0                                                                                                        \n",
       "               k__Bacteria.p__Actinobacteria.c__Actinobacteria.o__Corynebacteriales.f__Dietziaceae.g__Dietzia\n",
       "12667.X3039009 0                                                                                             \n",
       "12691.PC30     0                                                                                             \n",
       "12691.PC10     2                                                                                             \n",
       "12667.X2062971 2                                                                                             \n",
       "12667.X2051123 0                                                                                             \n",
       "               k__Bacteria.p__Proteobacteria.c__Gammaproteobacteria.o__Enterobacteriales.f__Enterobacteriaceae.g__Enterobacter\n",
       "12667.X3039009 28                                                                                                             \n",
       "12691.PC30     22                                                                                                             \n",
       "12691.PC10      8                                                                                                             \n",
       "12667.X2062971  5                                                                                                             \n",
       "12667.X2051123  0                                                                                                             \n",
       "               k__Bacteria.p__Proteobacteria.c__Gammaproteobacteria.o__Enterobacteriales.f__Enterobacteriaceae.g__Candidatus_Moranella\n",
       "12667.X3039009 0                                                                                                                      \n",
       "12691.PC30     0                                                                                                                      \n",
       "12691.PC10     0                                                                                                                      \n",
       "12667.X2062971 0                                                                                                                      \n",
       "12667.X2051123 0                                                                                                                      \n",
       "               k__Bacteria.p__Bacteroidetes.c__Flavobacteriia.o__Flavobacteriales.f__Flavobacteriaceae.g__Vitellibacter\n",
       "12667.X3039009 31                                                                                                      \n",
       "12691.PC30      9                                                                                                      \n",
       "12691.PC10     11                                                                                                      \n",
       "12667.X2062971  5                                                                                                      \n",
       "12667.X2051123  0                                                                                                      \n",
       "               ... k__Viruses.f__Mimiviridae.g__Mimivirus\n",
       "12667.X3039009 ... 0                                     \n",
       "12691.PC30     ... 6                                     \n",
       "12691.PC10     ... 0                                     \n",
       "12667.X2062971 ... 0                                     \n",
       "12667.X2051123 ... 0                                     \n",
       "               k__Viruses.f__Phycodnaviridae.g__Phaeovirus\n",
       "12667.X3039009 0                                          \n",
       "12691.PC30     0                                          \n",
       "12691.PC10     0                                          \n",
       "12667.X2062971 0                                          \n",
       "12667.X2051123 0                                          \n",
       "               k__Viruses.o__Caudovirales.f__Siphoviridae.g__Skunalikevirus\n",
       "12667.X3039009 0                                                           \n",
       "12691.PC30     0                                                           \n",
       "12691.PC10     0                                                           \n",
       "12667.X2062971 0                                                           \n",
       "12667.X2051123 0                                                           \n",
       "               k__Viruses.f__Parvoviridae.g__Tetraparvovirus\n",
       "12667.X3039009 0                                            \n",
       "12691.PC30     0                                            \n",
       "12691.PC10     0                                            \n",
       "12667.X2062971 0                                            \n",
       "12667.X2051123 0                                            \n",
       "               k__Viruses.o__Caudovirales.f__Myoviridae.g__Kayvirus\n",
       "12667.X3039009 0                                                   \n",
       "12691.PC30     0                                                   \n",
       "12691.PC10     0                                                   \n",
       "12667.X2062971 0                                                   \n",
       "12667.X2051123 0                                                   \n",
       "               k__Viruses.o__Caudovirales.f__Podoviridae.g__Bcep22likevirus\n",
       "12667.X3039009 0                                                           \n",
       "12691.PC30     0                                                           \n",
       "12691.PC10     0                                                           \n",
       "12667.X2062971 0                                                           \n",
       "12667.X2051123 0                                                           \n",
       "               k__Viruses.o__Caudovirales.f__Siphoviridae.g__Tm4likevirus\n",
       "12667.X3039009 0                                                         \n",
       "12691.PC30     0                                                         \n",
       "12691.PC10     0                                                         \n",
       "12667.X2062971 0                                                         \n",
       "12667.X2051123 0                                                         \n",
       "               k__Viruses.f__Poxviridae.g__Yatapoxvirus\n",
       "12667.X3039009 0                                       \n",
       "12691.PC30     0                                       \n",
       "12691.PC10     0                                       \n",
       "12667.X2062971 0                                       \n",
       "12667.X2051123 0                                       \n",
       "               k__Viruses.f__Anelloviridae.g__Alphatorquevirus\n",
       "12667.X3039009 0                                              \n",
       "12691.PC30     7                                              \n",
       "12691.PC10     0                                              \n",
       "12667.X2062971 0                                              \n",
       "12667.X2051123 0                                              \n",
       "               k__Viruses.f__Sphaerolipoviridae.g__Gammasphaerolipovirus\n",
       "12667.X3039009 0                                                        \n",
       "12691.PC30     0                                                        \n",
       "12691.PC10     0                                                        \n",
       "12667.X2062971 0                                                        \n",
       "12667.X2051123 0                                                        "
      ]
     },
     "metadata": {},
     "output_type": "display_data"
    },
    {
     "name": "stderr",
     "output_type": "stream",
     "text": [
      "Loaded gbm 2.1.5\n",
      "\n"
     ]
    },
    {
     "data": {
      "text/html": [
       "TRUE"
      ],
      "text/latex": [
       "TRUE"
      ],
      "text/markdown": [
       "TRUE"
      ],
      "text/plain": [
       "[1] TRUE"
      ]
     },
     "metadata": {},
     "output_type": "display_data"
    },
    {
     "data": {
      "text/html": [
       "<table>\n",
       "<caption>A data.frame: 5 x 478</caption>\n",
       "<thead>\n",
       "\t<tr><th></th><th scope=col>k__Archaea.p__Thaumarchaeota.o__Nitrosopumilales.f__Nitrosopumilaceae.g__Candidatus_Nitrosoarchaeum</th><th scope=col>k__Bacteria.p__Actinobacteria.c__Actinobacteria.o__Micrococcales.f__Dermabacteraceae.g__Helcobacillus</th><th scope=col>k__Bacteria.p__Actinobacteria.c__Actinobacteria.o__Actinomycetales.f__Actinomycetaceae.g__Arcanobacterium</th><th scope=col>k__Bacteria.p__Proteobacteria.c__Gammaproteobacteria.o__Alteromonadales.f__Alteromonadaceae.g__Aliagarivorans</th><th scope=col>k__Bacteria.p__Proteobacteria.c__Gammaproteobacteria.o__Enterobacteriales.f__Enterobacteriaceae.g__Escherichia</th><th scope=col>k__Bacteria.p__Proteobacteria.c__Gammaproteobacteria.o__Pasteurellales.f__Pasteurellaceae.g__Bibersteinia</th><th scope=col>k__Bacteria.p__Actinobacteria.c__Actinobacteria.o__Corynebacteriales.f__Dietziaceae.g__Dietzia</th><th scope=col>k__Bacteria.p__Proteobacteria.c__Gammaproteobacteria.o__Enterobacteriales.f__Enterobacteriaceae.g__Enterobacter</th><th scope=col>k__Bacteria.p__Proteobacteria.c__Gammaproteobacteria.o__Enterobacteriales.f__Enterobacteriaceae.g__Candidatus_Moranella</th><th scope=col>k__Bacteria.p__Bacteroidetes.c__Flavobacteriia.o__Flavobacteriales.f__Flavobacteriaceae.g__Vitellibacter</th><th scope=col>...</th><th scope=col>k__Viruses.f__Mimiviridae.g__Mimivirus</th><th scope=col>k__Viruses.f__Phycodnaviridae.g__Phaeovirus</th><th scope=col>k__Viruses.o__Caudovirales.f__Siphoviridae.g__Skunalikevirus</th><th scope=col>k__Viruses.f__Parvoviridae.g__Tetraparvovirus</th><th scope=col>k__Viruses.o__Caudovirales.f__Myoviridae.g__Kayvirus</th><th scope=col>k__Viruses.o__Caudovirales.f__Podoviridae.g__Bcep22likevirus</th><th scope=col>k__Viruses.o__Caudovirales.f__Siphoviridae.g__Tm4likevirus</th><th scope=col>k__Viruses.f__Poxviridae.g__Yatapoxvirus</th><th scope=col>k__Viruses.f__Anelloviridae.g__Alphatorquevirus</th><th scope=col>k__Viruses.f__Sphaerolipoviridae.g__Gammasphaerolipovirus</th></tr>\n",
       "\t<tr><th></th><th scope=col>&lt;dbl&gt;</th><th scope=col>&lt;dbl&gt;</th><th scope=col>&lt;dbl&gt;</th><th scope=col>&lt;dbl&gt;</th><th scope=col>&lt;dbl&gt;</th><th scope=col>&lt;dbl&gt;</th><th scope=col>&lt;dbl&gt;</th><th scope=col>&lt;dbl&gt;</th><th scope=col>&lt;dbl&gt;</th><th scope=col>&lt;dbl&gt;</th><th scope=col>...</th><th scope=col>&lt;dbl&gt;</th><th scope=col>&lt;dbl&gt;</th><th scope=col>&lt;dbl&gt;</th><th scope=col>&lt;dbl&gt;</th><th scope=col>&lt;dbl&gt;</th><th scope=col>&lt;dbl&gt;</th><th scope=col>&lt;dbl&gt;</th><th scope=col>&lt;dbl&gt;</th><th scope=col>&lt;dbl&gt;</th><th scope=col>&lt;dbl&gt;</th></tr>\n",
       "</thead>\n",
       "<tbody>\n",
       "\t<tr><th scope=row>12667.X3039009</th><td>7.246565</td><td>6.938824</td><td>5.187512</td><td>5.143844</td><td>10.424536</td><td>5.356320</td><td>5.650819</td><td>9.418843</td><td>5.175996</td><td>9.069258</td><td>...</td><td>5.012192</td><td>5.207400</td><td>5.155473</td><td>5.170596</td><td>5.207424</td><td>5.332123</td><td>5.099636</td><td>5.155852</td><td>4.849753</td><td>5.277023</td></tr>\n",
       "\t<tr><th scope=row>12691.PC30</th><td>9.307107</td><td>4.956153</td><td>5.279706</td><td>7.125356</td><td> 9.501012</td><td>5.130560</td><td>5.880991</td><td>9.023874</td><td>5.209506</td><td>7.478062</td><td>...</td><td>7.374658</td><td>5.283447</td><td>5.305703</td><td>5.170617</td><td>5.298929</td><td>5.464818</td><td>5.059170</td><td>5.147460</td><td>7.499703</td><td>5.344538</td></tr>\n",
       "\t<tr><th scope=row>12691.PC10</th><td>5.656255</td><td>4.929795</td><td>5.283182</td><td>4.819280</td><td>11.467247</td><td>5.170733</td><td>8.521350</td><td>9.015381</td><td>5.210478</td><td>9.155838</td><td>...</td><td>4.765581</td><td>5.291247</td><td>5.302213</td><td>5.170415</td><td>5.306734</td><td>5.499731</td><td>5.043543</td><td>5.144053</td><td>4.568392</td><td>5.367472</td></tr>\n",
       "\t<tr><th scope=row>12667.X2062971</th><td>5.445431</td><td>6.294962</td><td>5.265108</td><td>4.850570</td><td>10.645505</td><td>6.958716</td><td>7.440257</td><td>8.027863</td><td>5.205423</td><td>8.281999</td><td>...</td><td>4.945695</td><td>5.250691</td><td>5.320358</td><td>5.171464</td><td>5.266150</td><td>5.318184</td><td>5.124807</td><td>5.161769</td><td>4.932133</td><td>5.248212</td></tr>\n",
       "\t<tr><th scope=row>12667.X2051123</th><td>5.434913</td><td>5.040201</td><td>5.216217</td><td>5.160208</td><td>11.427023</td><td>5.432731</td><td>5.810458</td><td>5.281194</td><td>5.201446</td><td>4.482105</td><td>...</td><td>4.991350</td><td>5.241726</td><td>5.175123</td><td>5.194520</td><td>5.241756</td><td>5.401696</td><td>5.103506</td><td>5.175609</td><td>4.783004</td><td>5.331025</td></tr>\n",
       "</tbody>\n",
       "</table>\n"
      ],
      "text/latex": [
       "A data.frame: 5 x 478\n",
       "\\begin{tabular}{r|lllllllllllllllllllll}\n",
       "  & k\\_\\_Archaea.p\\_\\_Thaumarchaeota.o\\_\\_Nitrosopumilales.f\\_\\_Nitrosopumilaceae.g\\_\\_Candidatus\\_Nitrosoarchaeum & k\\_\\_Bacteria.p\\_\\_Actinobacteria.c\\_\\_Actinobacteria.o\\_\\_Micrococcales.f\\_\\_Dermabacteraceae.g\\_\\_Helcobacillus & k\\_\\_Bacteria.p\\_\\_Actinobacteria.c\\_\\_Actinobacteria.o\\_\\_Actinomycetales.f\\_\\_Actinomycetaceae.g\\_\\_Arcanobacterium & k\\_\\_Bacteria.p\\_\\_Proteobacteria.c\\_\\_Gammaproteobacteria.o\\_\\_Alteromonadales.f\\_\\_Alteromonadaceae.g\\_\\_Aliagarivorans & k\\_\\_Bacteria.p\\_\\_Proteobacteria.c\\_\\_Gammaproteobacteria.o\\_\\_Enterobacteriales.f\\_\\_Enterobacteriaceae.g\\_\\_Escherichia & k\\_\\_Bacteria.p\\_\\_Proteobacteria.c\\_\\_Gammaproteobacteria.o\\_\\_Pasteurellales.f\\_\\_Pasteurellaceae.g\\_\\_Bibersteinia & k\\_\\_Bacteria.p\\_\\_Actinobacteria.c\\_\\_Actinobacteria.o\\_\\_Corynebacteriales.f\\_\\_Dietziaceae.g\\_\\_Dietzia & k\\_\\_Bacteria.p\\_\\_Proteobacteria.c\\_\\_Gammaproteobacteria.o\\_\\_Enterobacteriales.f\\_\\_Enterobacteriaceae.g\\_\\_Enterobacter & k\\_\\_Bacteria.p\\_\\_Proteobacteria.c\\_\\_Gammaproteobacteria.o\\_\\_Enterobacteriales.f\\_\\_Enterobacteriaceae.g\\_\\_Candidatus\\_Moranella & k\\_\\_Bacteria.p\\_\\_Bacteroidetes.c\\_\\_Flavobacteriia.o\\_\\_Flavobacteriales.f\\_\\_Flavobacteriaceae.g\\_\\_Vitellibacter & ... & k\\_\\_Viruses.f\\_\\_Mimiviridae.g\\_\\_Mimivirus & k\\_\\_Viruses.f\\_\\_Phycodnaviridae.g\\_\\_Phaeovirus & k\\_\\_Viruses.o\\_\\_Caudovirales.f\\_\\_Siphoviridae.g\\_\\_Skunalikevirus & k\\_\\_Viruses.f\\_\\_Parvoviridae.g\\_\\_Tetraparvovirus & k\\_\\_Viruses.o\\_\\_Caudovirales.f\\_\\_Myoviridae.g\\_\\_Kayvirus & k\\_\\_Viruses.o\\_\\_Caudovirales.f\\_\\_Podoviridae.g\\_\\_Bcep22likevirus & k\\_\\_Viruses.o\\_\\_Caudovirales.f\\_\\_Siphoviridae.g\\_\\_Tm4likevirus & k\\_\\_Viruses.f\\_\\_Poxviridae.g\\_\\_Yatapoxvirus & k\\_\\_Viruses.f\\_\\_Anelloviridae.g\\_\\_Alphatorquevirus & k\\_\\_Viruses.f\\_\\_Sphaerolipoviridae.g\\_\\_Gammasphaerolipovirus\\\\\n",
       "  & <dbl> & <dbl> & <dbl> & <dbl> & <dbl> & <dbl> & <dbl> & <dbl> & <dbl> & <dbl> & ... & <dbl> & <dbl> & <dbl> & <dbl> & <dbl> & <dbl> & <dbl> & <dbl> & <dbl> & <dbl>\\\\\n",
       "\\hline\n",
       "\t12667.X3039009 & 7.246565 & 6.938824 & 5.187512 & 5.143844 & 10.424536 & 5.356320 & 5.650819 & 9.418843 & 5.175996 & 9.069258 & ... & 5.012192 & 5.207400 & 5.155473 & 5.170596 & 5.207424 & 5.332123 & 5.099636 & 5.155852 & 4.849753 & 5.277023\\\\\n",
       "\t12691.PC30 & 9.307107 & 4.956153 & 5.279706 & 7.125356 &  9.501012 & 5.130560 & 5.880991 & 9.023874 & 5.209506 & 7.478062 & ... & 7.374658 & 5.283447 & 5.305703 & 5.170617 & 5.298929 & 5.464818 & 5.059170 & 5.147460 & 7.499703 & 5.344538\\\\\n",
       "\t12691.PC10 & 5.656255 & 4.929795 & 5.283182 & 4.819280 & 11.467247 & 5.170733 & 8.521350 & 9.015381 & 5.210478 & 9.155838 & ... & 4.765581 & 5.291247 & 5.302213 & 5.170415 & 5.306734 & 5.499731 & 5.043543 & 5.144053 & 4.568392 & 5.367472\\\\\n",
       "\t12667.X2062971 & 5.445431 & 6.294962 & 5.265108 & 4.850570 & 10.645505 & 6.958716 & 7.440257 & 8.027863 & 5.205423 & 8.281999 & ... & 4.945695 & 5.250691 & 5.320358 & 5.171464 & 5.266150 & 5.318184 & 5.124807 & 5.161769 & 4.932133 & 5.248212\\\\\n",
       "\t12667.X2051123 & 5.434913 & 5.040201 & 5.216217 & 5.160208 & 11.427023 & 5.432731 & 5.810458 & 5.281194 & 5.201446 & 4.482105 & ... & 4.991350 & 5.241726 & 5.175123 & 5.194520 & 5.241756 & 5.401696 & 5.103506 & 5.175609 & 4.783004 & 5.331025\\\\\n",
       "\\end{tabular}\n"
      ],
      "text/markdown": [
       "\n",
       "A data.frame: 5 x 478\n",
       "\n",
       "| <!--/--> | k__Archaea.p__Thaumarchaeota.o__Nitrosopumilales.f__Nitrosopumilaceae.g__Candidatus_Nitrosoarchaeum &lt;dbl&gt; | k__Bacteria.p__Actinobacteria.c__Actinobacteria.o__Micrococcales.f__Dermabacteraceae.g__Helcobacillus &lt;dbl&gt; | k__Bacteria.p__Actinobacteria.c__Actinobacteria.o__Actinomycetales.f__Actinomycetaceae.g__Arcanobacterium &lt;dbl&gt; | k__Bacteria.p__Proteobacteria.c__Gammaproteobacteria.o__Alteromonadales.f__Alteromonadaceae.g__Aliagarivorans &lt;dbl&gt; | k__Bacteria.p__Proteobacteria.c__Gammaproteobacteria.o__Enterobacteriales.f__Enterobacteriaceae.g__Escherichia &lt;dbl&gt; | k__Bacteria.p__Proteobacteria.c__Gammaproteobacteria.o__Pasteurellales.f__Pasteurellaceae.g__Bibersteinia &lt;dbl&gt; | k__Bacteria.p__Actinobacteria.c__Actinobacteria.o__Corynebacteriales.f__Dietziaceae.g__Dietzia &lt;dbl&gt; | k__Bacteria.p__Proteobacteria.c__Gammaproteobacteria.o__Enterobacteriales.f__Enterobacteriaceae.g__Enterobacter &lt;dbl&gt; | k__Bacteria.p__Proteobacteria.c__Gammaproteobacteria.o__Enterobacteriales.f__Enterobacteriaceae.g__Candidatus_Moranella &lt;dbl&gt; | k__Bacteria.p__Bacteroidetes.c__Flavobacteriia.o__Flavobacteriales.f__Flavobacteriaceae.g__Vitellibacter &lt;dbl&gt; | ... ... | k__Viruses.f__Mimiviridae.g__Mimivirus &lt;dbl&gt; | k__Viruses.f__Phycodnaviridae.g__Phaeovirus &lt;dbl&gt; | k__Viruses.o__Caudovirales.f__Siphoviridae.g__Skunalikevirus &lt;dbl&gt; | k__Viruses.f__Parvoviridae.g__Tetraparvovirus &lt;dbl&gt; | k__Viruses.o__Caudovirales.f__Myoviridae.g__Kayvirus &lt;dbl&gt; | k__Viruses.o__Caudovirales.f__Podoviridae.g__Bcep22likevirus &lt;dbl&gt; | k__Viruses.o__Caudovirales.f__Siphoviridae.g__Tm4likevirus &lt;dbl&gt; | k__Viruses.f__Poxviridae.g__Yatapoxvirus &lt;dbl&gt; | k__Viruses.f__Anelloviridae.g__Alphatorquevirus &lt;dbl&gt; | k__Viruses.f__Sphaerolipoviridae.g__Gammasphaerolipovirus &lt;dbl&gt; |\n",
       "|---|---|---|---|---|---|---|---|---|---|---|---|---|---|---|---|---|---|---|---|---|---|\n",
       "| 12667.X3039009 | 7.246565 | 6.938824 | 5.187512 | 5.143844 | 10.424536 | 5.356320 | 5.650819 | 9.418843 | 5.175996 | 9.069258 | ... | 5.012192 | 5.207400 | 5.155473 | 5.170596 | 5.207424 | 5.332123 | 5.099636 | 5.155852 | 4.849753 | 5.277023 |\n",
       "| 12691.PC30 | 9.307107 | 4.956153 | 5.279706 | 7.125356 |  9.501012 | 5.130560 | 5.880991 | 9.023874 | 5.209506 | 7.478062 | ... | 7.374658 | 5.283447 | 5.305703 | 5.170617 | 5.298929 | 5.464818 | 5.059170 | 5.147460 | 7.499703 | 5.344538 |\n",
       "| 12691.PC10 | 5.656255 | 4.929795 | 5.283182 | 4.819280 | 11.467247 | 5.170733 | 8.521350 | 9.015381 | 5.210478 | 9.155838 | ... | 4.765581 | 5.291247 | 5.302213 | 5.170415 | 5.306734 | 5.499731 | 5.043543 | 5.144053 | 4.568392 | 5.367472 |\n",
       "| 12667.X2062971 | 5.445431 | 6.294962 | 5.265108 | 4.850570 | 10.645505 | 6.958716 | 7.440257 | 8.027863 | 5.205423 | 8.281999 | ... | 4.945695 | 5.250691 | 5.320358 | 5.171464 | 5.266150 | 5.318184 | 5.124807 | 5.161769 | 4.932133 | 5.248212 |\n",
       "| 12667.X2051123 | 5.434913 | 5.040201 | 5.216217 | 5.160208 | 11.427023 | 5.432731 | 5.810458 | 5.281194 | 5.201446 | 4.482105 | ... | 4.991350 | 5.241726 | 5.175123 | 5.194520 | 5.241756 | 5.401696 | 5.103506 | 5.175609 | 4.783004 | 5.331025 |\n",
       "\n"
      ],
      "text/plain": [
       "               k__Archaea.p__Thaumarchaeota.o__Nitrosopumilales.f__Nitrosopumilaceae.g__Candidatus_Nitrosoarchaeum\n",
       "12667.X3039009 7.246565                                                                                           \n",
       "12691.PC30     9.307107                                                                                           \n",
       "12691.PC10     5.656255                                                                                           \n",
       "12667.X2062971 5.445431                                                                                           \n",
       "12667.X2051123 5.434913                                                                                           \n",
       "               k__Bacteria.p__Actinobacteria.c__Actinobacteria.o__Micrococcales.f__Dermabacteraceae.g__Helcobacillus\n",
       "12667.X3039009 6.938824                                                                                             \n",
       "12691.PC30     4.956153                                                                                             \n",
       "12691.PC10     4.929795                                                                                             \n",
       "12667.X2062971 6.294962                                                                                             \n",
       "12667.X2051123 5.040201                                                                                             \n",
       "               k__Bacteria.p__Actinobacteria.c__Actinobacteria.o__Actinomycetales.f__Actinomycetaceae.g__Arcanobacterium\n",
       "12667.X3039009 5.187512                                                                                                 \n",
       "12691.PC30     5.279706                                                                                                 \n",
       "12691.PC10     5.283182                                                                                                 \n",
       "12667.X2062971 5.265108                                                                                                 \n",
       "12667.X2051123 5.216217                                                                                                 \n",
       "               k__Bacteria.p__Proteobacteria.c__Gammaproteobacteria.o__Alteromonadales.f__Alteromonadaceae.g__Aliagarivorans\n",
       "12667.X3039009 5.143844                                                                                                     \n",
       "12691.PC30     7.125356                                                                                                     \n",
       "12691.PC10     4.819280                                                                                                     \n",
       "12667.X2062971 4.850570                                                                                                     \n",
       "12667.X2051123 5.160208                                                                                                     \n",
       "               k__Bacteria.p__Proteobacteria.c__Gammaproteobacteria.o__Enterobacteriales.f__Enterobacteriaceae.g__Escherichia\n",
       "12667.X3039009 10.424536                                                                                                     \n",
       "12691.PC30      9.501012                                                                                                     \n",
       "12691.PC10     11.467247                                                                                                     \n",
       "12667.X2062971 10.645505                                                                                                     \n",
       "12667.X2051123 11.427023                                                                                                     \n",
       "               k__Bacteria.p__Proteobacteria.c__Gammaproteobacteria.o__Pasteurellales.f__Pasteurellaceae.g__Bibersteinia\n",
       "12667.X3039009 5.356320                                                                                                 \n",
       "12691.PC30     5.130560                                                                                                 \n",
       "12691.PC10     5.170733                                                                                                 \n",
       "12667.X2062971 6.958716                                                                                                 \n",
       "12667.X2051123 5.432731                                                                                                 \n",
       "               k__Bacteria.p__Actinobacteria.c__Actinobacteria.o__Corynebacteriales.f__Dietziaceae.g__Dietzia\n",
       "12667.X3039009 5.650819                                                                                      \n",
       "12691.PC30     5.880991                                                                                      \n",
       "12691.PC10     8.521350                                                                                      \n",
       "12667.X2062971 7.440257                                                                                      \n",
       "12667.X2051123 5.810458                                                                                      \n",
       "               k__Bacteria.p__Proteobacteria.c__Gammaproteobacteria.o__Enterobacteriales.f__Enterobacteriaceae.g__Enterobacter\n",
       "12667.X3039009 9.418843                                                                                                       \n",
       "12691.PC30     9.023874                                                                                                       \n",
       "12691.PC10     9.015381                                                                                                       \n",
       "12667.X2062971 8.027863                                                                                                       \n",
       "12667.X2051123 5.281194                                                                                                       \n",
       "               k__Bacteria.p__Proteobacteria.c__Gammaproteobacteria.o__Enterobacteriales.f__Enterobacteriaceae.g__Candidatus_Moranella\n",
       "12667.X3039009 5.175996                                                                                                               \n",
       "12691.PC30     5.209506                                                                                                               \n",
       "12691.PC10     5.210478                                                                                                               \n",
       "12667.X2062971 5.205423                                                                                                               \n",
       "12667.X2051123 5.201446                                                                                                               \n",
       "               k__Bacteria.p__Bacteroidetes.c__Flavobacteriia.o__Flavobacteriales.f__Flavobacteriaceae.g__Vitellibacter\n",
       "12667.X3039009 9.069258                                                                                                \n",
       "12691.PC30     7.478062                                                                                                \n",
       "12691.PC10     9.155838                                                                                                \n",
       "12667.X2062971 8.281999                                                                                                \n",
       "12667.X2051123 4.482105                                                                                                \n",
       "               ... k__Viruses.f__Mimiviridae.g__Mimivirus\n",
       "12667.X3039009 ... 5.012192                              \n",
       "12691.PC30     ... 7.374658                              \n",
       "12691.PC10     ... 4.765581                              \n",
       "12667.X2062971 ... 4.945695                              \n",
       "12667.X2051123 ... 4.991350                              \n",
       "               k__Viruses.f__Phycodnaviridae.g__Phaeovirus\n",
       "12667.X3039009 5.207400                                   \n",
       "12691.PC30     5.283447                                   \n",
       "12691.PC10     5.291247                                   \n",
       "12667.X2062971 5.250691                                   \n",
       "12667.X2051123 5.241726                                   \n",
       "               k__Viruses.o__Caudovirales.f__Siphoviridae.g__Skunalikevirus\n",
       "12667.X3039009 5.155473                                                    \n",
       "12691.PC30     5.305703                                                    \n",
       "12691.PC10     5.302213                                                    \n",
       "12667.X2062971 5.320358                                                    \n",
       "12667.X2051123 5.175123                                                    \n",
       "               k__Viruses.f__Parvoviridae.g__Tetraparvovirus\n",
       "12667.X3039009 5.170596                                     \n",
       "12691.PC30     5.170617                                     \n",
       "12691.PC10     5.170415                                     \n",
       "12667.X2062971 5.171464                                     \n",
       "12667.X2051123 5.194520                                     \n",
       "               k__Viruses.o__Caudovirales.f__Myoviridae.g__Kayvirus\n",
       "12667.X3039009 5.207424                                            \n",
       "12691.PC30     5.298929                                            \n",
       "12691.PC10     5.306734                                            \n",
       "12667.X2062971 5.266150                                            \n",
       "12667.X2051123 5.241756                                            \n",
       "               k__Viruses.o__Caudovirales.f__Podoviridae.g__Bcep22likevirus\n",
       "12667.X3039009 5.332123                                                    \n",
       "12691.PC30     5.464818                                                    \n",
       "12691.PC10     5.499731                                                    \n",
       "12667.X2062971 5.318184                                                    \n",
       "12667.X2051123 5.401696                                                    \n",
       "               k__Viruses.o__Caudovirales.f__Siphoviridae.g__Tm4likevirus\n",
       "12667.X3039009 5.099636                                                  \n",
       "12691.PC30     5.059170                                                  \n",
       "12691.PC10     5.043543                                                  \n",
       "12667.X2062971 5.124807                                                  \n",
       "12667.X2051123 5.103506                                                  \n",
       "               k__Viruses.f__Poxviridae.g__Yatapoxvirus\n",
       "12667.X3039009 5.155852                                \n",
       "12691.PC30     5.147460                                \n",
       "12691.PC10     5.144053                                \n",
       "12667.X2062971 5.161769                                \n",
       "12667.X2051123 5.175609                                \n",
       "               k__Viruses.f__Anelloviridae.g__Alphatorquevirus\n",
       "12667.X3039009 4.849753                                       \n",
       "12691.PC30     7.499703                                       \n",
       "12691.PC10     4.568392                                       \n",
       "12667.X2062971 4.932133                                       \n",
       "12667.X2051123 4.783004                                       \n",
       "               k__Viruses.f__Sphaerolipoviridae.g__Gammasphaerolipovirus\n",
       "12667.X3039009 5.277023                                                 \n",
       "12691.PC30     5.344538                                                 \n",
       "12691.PC10     5.367472                                                 \n",
       "12667.X2062971 5.248212                                                 \n",
       "12667.X2051123 5.331025                                                 "
      ]
     },
     "metadata": {},
     "output_type": "display_data"
    },
    {
     "data": {
      "image/png": "[encoded data removed]",
      "text/plain": [
       "Plot with title “voom: Mean-variance trend”"
      ]
     },
     "metadata": {
      "image/png": {
       "height": 420,
       "width": 420
      },
      "text/plain": {
       "height": 420,
       "width": 420
      }
     },
     "output_type": "display_data"
    }
   ],
   "source": [
    "#read in data\n",
    "qcMetadata <- as.data.frame(read.csv(\"data/Metadata-Plasma-Filtered-For-Analysis.csv\", header = TRUE, sep = \",\", dec = \".\",stringsAsFactors=FALSE))\n",
    "row.names(qcMetadata) <- qcMetadata[,1]\n",
    "qcMetadata<-qcMetadata[,-1]\n",
    "qcMetadata[1:5,]\n",
    "\n",
    "qcData <- as.data.frame(read.csv(\"data/Kraken-Plasma-Validation-Raw-Data-cfDNA.csv\", header = TRUE, sep = \",\", dec = \".\",stringsAsFactors=FALSE))\n",
    "row.names(qcData) <- qcData[,1]\n",
    "qcData<-qcData[,-1]\n",
    "qcData[1:5,]\n",
    "\n",
    "## Load packages ##\n",
    "  library(limma)\n",
    "  library(edgeR)\n",
    "  library(dplyr)\n",
    "  library(snm)\n",
    "  library(doMC)\n",
    "  library(tibble)\n",
    "  library(gbm)\n",
    "  \n",
    "  numCores <- detectCores()\n",
    "  registerDoMC(cores=numCores)\n",
    "  \n",
    "  # Set up design matrix\n",
    "  covDesignNorm <- model.matrix(~0 + disease_type_consol +\n",
    "                                    host_age + # host_age should be numeric\n",
    "                                    sex, # sex should be a factor\n",
    "                                  data = qcMetadata)\n",
    "  \n",
    "  # Check row dimensions\n",
    "  dim(covDesignNorm)[1] == dim(qcData)[1]\n",
    "  \n",
    "  #print(colnames(covDesignNorm))\n",
    "  # The following corrects for column names that are incompatible with downstream processing\n",
    "  colnames(covDesignNorm) <- gsub('([[:punct:]])|\\\\s+','',colnames(covDesignNorm))\n",
    "  #print(colnames(covDesignNorm))\n",
    "  \n",
    "  # Set up counts matrix\n",
    "  counts <- t(qcData) # DGEList object from a table of counts (rows=features, columns=samples)\n",
    "  \n",
    "  # Quantile normalize and plug into voom\n",
    "  dge <- DGEList(counts = counts)\n",
    "  vdge <- voom(dge, design = covDesignNorm, plot = TRUE, save.plot = TRUE, \n",
    "                                              normalize.method=\"quantile\")\n",
    "  \n",
    "  # List biological and normalization variables in model matrices\n",
    "  bio.var <- model.matrix(~disease_type_consol,\n",
    "                          data=qcMetadata)\n",
    "  \n",
    "  adj.var <- model.matrix(~host_age + sex,\n",
    "                          data=qcMetadata)\n",
    "  \n",
    "  colnames(bio.var) <- gsub('([[:punct:]])|\\\\s+','',colnames(bio.var))\n",
    "  colnames(adj.var) <- gsub('([[:punct:]])|\\\\s+','',colnames(adj.var))\n",
    "  #print(dim(adj.var))\n",
    "  #print(dim(bio.var))\n",
    "  #print(dim(t(vdge$E)))\n",
    "  #print(dim(covDesignNorm))\n",
    "  \n",
    "  snmDataObjOnly <- snm(raw.dat = vdge$E, \n",
    "                        bio.var = bio.var, \n",
    "                        adj.var = adj.var, \n",
    "                        rm.adj=TRUE,\n",
    "                        verbose = TRUE,\n",
    "                        diagnose = TRUE)\n",
    "  snmData <- as.data.frame(t(snmDataObjOnly$norm.dat))\n",
    "  snmData[1:5,]"
   ]
  },
  {
   "cell_type": "markdown",
   "metadata": {},
   "source": [
    "model training"
   ]
  },
  {
   "cell_type": "code",
   "execution_count": 14,
   "metadata": {},
   "outputs": [],
   "source": [
    "# Load dependencies\n",
    "require(devtools)\n",
    "require(doMC)\n",
    "require(tibble)\n",
    "require(gbm)\n",
    "require(splitstackshape)\n",
    "require(reshape2)\n",
    "require(ggpubr)\n",
    "require(caret) # for model building\n",
    "require(pROC) # for AUC calculations\n",
    "require(purrr) # for functional programming using map()\n",
    "require(dplyr) # for data manipulation\n",
    "require(doMC) # for parallel computing\n",
    "require(gbm) # for machine learning\n",
    "require(tibble) # for df operations\n",
    "require(cowplot) # for plotting\n",
    "require(PRROC) # for precision-recall curves\n",
    "require(MLmetrics) # for multi-class learning\n",
    "require(caret) # for machine learning\n",
    "require(e1071)\n",
    "\n",
    "defaultGBMGrid <-  expand.grid(interaction.depth = seq(1,3),\n",
    "                               n.trees = floor((1:3) * 50),\n",
    "                               shrinkage = 0.1,\n",
    "                               n.minobsinnode = 5)\n",
    "customGBMGrid <-  expand.grid(interaction.depth = seq(1,3),\n",
    "                              n.trees = floor((1:3) * 50),\n",
    "                              shrinkage = 0.1,\n",
    "                              n.minobsinnode = 1)\n",
    "numKFold <- 4\n",
    "numResampleIter <- 1\n",
    "metadataPSMatchedDPQCFiltered<- qcMetadata\n",
    "\n",
    "ml2DTs <- function(snmData, \n",
    "                   classOfInterest = \"Lung Adenocarcinoma\", \n",
    "                   cutPoint = 0.5, \n",
    "                   samplingSize = 20, \n",
    "                   caretTuneGrid = defaultGBMGrid){\n",
    "  \n",
    "  metaTmp1 <- droplevels(metadataPSMatchedDPQCFiltered[(metadataPSMatchedDPQCFiltered$disease_type_consol %in% c(\"PRAD\",\n",
    "                                                                                                             \"SKCM\",\n",
    "                                                                                                             \"NSCLC\")),])\n",
    "  tmp <- metaTmp1\n",
    "  tmp$disease_type_consol <- factor(ifelse(metaTmp1$disease_type_consol == classOfInterest, yes = classOfInterest, no = \"Other\"))\n",
    "  metadataSimSampled <- as.data.frame(stratified(tmp,\n",
    "                                                 group = \"disease_type_consol\",\n",
    "                                                 size = samplingSize,\n",
    "                                                 keep.rownames = TRUE,\n",
    "                                                 replace = FALSE,\n",
    "                                                 bothSets = FALSE))\n",
    "  rownames(metadataSimSampled) <- metadataSimSampled$rn\n",
    "  mlDataY <- metadataSimSampled\n",
    "  mlDataX <- snmData[rownames(mlDataY),]\n",
    "  \n",
    "  set.seed(42)\n",
    "  index <- createDataPartition(mlDataY$disease_type_consol, p = 0.7, list = FALSE)\n",
    "  trainX <- mlDataX[index,]\n",
    "  trainY <- mlDataY[index,]$disease_type_consol\n",
    "  testX <- mlDataX[-index,]\n",
    "  testY <- mlDataY[-index,]$disease_type_consol\n",
    "  # print(testY)\n",
    "  \n",
    "  refactoredTrainY <- factor(gsub('([[:punct:]])|\\\\s+','',trainY))\n",
    "  refactoredTestY <- factor(gsub('([[:punct:]])|\\\\s+','',testY))\n",
    "  \n",
    "  set.seed(42)\n",
    "  ctrl <- trainControl(method = \"repeatedcv\",\n",
    "                       number = numKFold,\n",
    "                       repeats = numResampleIter,\n",
    "                       sampling = \"up\",\n",
    "                       summaryFunction = twoClassSummary,\n",
    "                       classProbs = TRUE,\n",
    "                       verboseIter = TRUE,\n",
    "                       savePredictions = TRUE,\n",
    "                       allowParallel=TRUE)\n",
    "  \n",
    "  mlModel <- train(x = trainX,\n",
    "                   y = refactoredTrainY,\n",
    "                   method = \"gbm\",\n",
    "                   preProcess = c(\"scale\",\"center\"),\n",
    "                   trControl = ctrl,\n",
    "                   verbose = TRUE,\n",
    "                   metric = \"ROC\",\n",
    "                   tuneGrid = customGBMGrid)\n",
    "  \n",
    "  positiveClass <- gsub(\" \",\"\", classOfInterest)\n",
    "  negativeClass <- \"Other\"\n",
    "  \n",
    "  predProbs <- as.numeric(predict(mlModel, newdata = testX, type = \"prob\")[,positiveClass])\n",
    "  fg <- predProbs[refactoredTestY == positiveClass]\n",
    "  bg <- predProbs[refactoredTestY == negativeClass]\n",
    "  \n",
    "  prroc_roc <- roc.curve(scores.class0 = fg, scores.class1 = bg, curve = T)\n",
    "  prroc_pr <- pr.curve(scores.class0 = fg, scores.class1 = bg, curve = T, rand.compute=T)\n",
    "  \n",
    "  # par(mfrow = c(1,2))\n",
    "  plot(prroc_roc)\n",
    "  plot(prroc_pr)\n",
    "  # dev.off()\n",
    "  \n",
    "  \n",
    "  predClass <- predict(mlModel, newdata = testX)\n",
    "  \n",
    "  confusionMatrix(table(predict(mlModel, newdata = testX, type=\"prob\")[,positiveClass] >= cutPoint,\n",
    "                        refactoredTestY == positiveClass))\n",
    "}\n",
    "\n",
    "#-----------------------------------------#\n",
    "# Machine learning\n",
    "#-----------------------------------------#\n",
    "\n",
    "\n",
    "# mlHvsC <- function(snmData){\n",
    "# Load dependencies\n",
    "\n",
    "\n",
    "mlHvsC <- function(snmData){\n",
    "  \n",
    "  numCores <- detectCores()\n",
    "  registerDoMC(cores=numCores)\n",
    "  \n",
    "  defaultGBMGrid <-  expand.grid(interaction.depth = seq(1,3),\n",
    "                                 n.trees = floor((1:3) * 50),\n",
    "                                 shrinkage = 0.1,\n",
    "                                 n.minobsinnode = 5)\n",
    "  customGBMGrid <-  expand.grid(interaction.depth = seq(1,3),\n",
    "                                n.trees = floor((1:3) * 50),\n",
    "                                shrinkage = 0.1,\n",
    "                                n.minobsinnode = 1)\n",
    "  \n",
    "  caretTuneGrid <- defaultGBMGrid\n",
    "  numKFold <- 4\n",
    "  numResampleIter <- 1\n",
    "  \n",
    "  mlDataY <- metadataPSMatchedDPQCFiltered\n",
    "  mlDataX <- snmData[rownames(mlDataY),]\n",
    "  \n",
    "  set.seed(42)\n",
    "  index <- createDataPartition(mlDataY$HvsC, p = 0.7, list = FALSE)\n",
    "  trainX <- mlDataX[index,]\n",
    "  trainY <- mlDataY[index,]$HvsC\n",
    "  testX <- mlDataX[-index,]\n",
    "  testY <- mlDataY[-index,]$HvsC\n",
    "  # print(testY)\n",
    "  \n",
    "  refactoredTrainY <- factor(gsub('([[:punct:]])|\\\\s+','',trainY))\n",
    "  refactoredTestY <- factor(gsub('([[:punct:]])|\\\\s+','',testY))\n",
    "  \n",
    "  set.seed(42)\n",
    "  ctrl <- trainControl(method = \"repeatedcv\",\n",
    "                       number = numKFold,\n",
    "                       repeats = numResampleIter,\n",
    "                       sampling = \"up\",\n",
    "                       summaryFunction = twoClassSummary,\n",
    "                       classProbs = TRUE,\n",
    "                       verboseIter = TRUE,\n",
    "                       savePredictions = TRUE,\n",
    "                       allowParallel=TRUE)\n",
    "  \n",
    "  mlModel <- train(x = trainX,\n",
    "                   y = refactoredTrainY,\n",
    "                   method = \"gbm\",\n",
    "                   preProcess = c(\"scale\",\"center\"),\n",
    "                   trControl = ctrl,\n",
    "                   verbose = TRUE,\n",
    "                   metric = \"ROC\",\n",
    "                   tuneGrid = defaultGBMGrid)\n",
    "  \n",
    "  positiveClass <- \"Cancer\"\n",
    "  negativeClass <- \"Control\"\n",
    "  predProbs <- as.numeric(predict(mlModel, newdata = testX, type = \"prob\")[,positiveClass])\n",
    "  fg <- predProbs[refactoredTestY == positiveClass]\n",
    "  bg <- predProbs[refactoredTestY == negativeClass]\n",
    "  \n",
    "  prroc_roc <- roc.curve(scores.class0 = fg, scores.class1 = bg, curve = T)\n",
    "  prroc_pr <- pr.curve(scores.class0 = fg, scores.class1 = bg, curve = T, rand.compute=T)\n",
    "  \n",
    "  plot(prroc_roc)\n",
    "  plot(prroc_pr)\n",
    "  \n",
    "  predClass <- predict(mlModel, newdata = testX)\n",
    "  print(confusionMatrix(data = predClass, reference = refactoredTestY, positive = positiveClass))\n",
    "}\n",
    "\n",
    "#-----------------------------------------------------\n",
    "\n",
    "loocvDTs <- function(snmData, samplingSize = 15, DTs, caretTuneGrid = defaultGBMGrid,\n",
    "                     filenameString = paste(DTs,collapse = \"__\"), HvsCFlag = FALSE){\n",
    "  \n",
    "  if(HvsCFlag){\n",
    "    metaTmpX <- droplevels(metadataPSMatchedDPQCFiltered[(metadataPSMatchedDPQCFiltered$disease_type_consol %in% DTs),])\n",
    "    metaTmpX$disease_type_consol <- metaTmpX$HvsC\n",
    "    classes <- gsub(\" \",\"\",levels(metaTmpX$disease_type_consol))\n",
    "  } else{\n",
    "    metaTmpX <- droplevels(metadataPSMatchedDPQCFiltered[(metadataPSMatchedDPQCFiltered$disease_type_consol %in% DTs),])\n",
    "    classes <- gsub(\" \",\"\",DTs)\n",
    "  }\n",
    "  \n",
    "  # Do LOOCV model building and testing\n",
    "  \n",
    "  multiClassSummaryStats <- list()\n",
    "  multiClassSummaryStatsDist <- list()\n",
    "  numKFold <- 4\n",
    "  numResampleIter <- 1\n",
    "  metaData <- metaTmpX\n",
    "  snmData <- snmData # dataPSUniqueDecontamQC # \n",
    "  iterSize <- 1\n",
    "  for(jj in 1:iterSize){\n",
    "    metadataSimSampled <- as.data.frame(stratified(metaData,\n",
    "                                                   group = \"disease_type_consol\",\n",
    "                                                   size = samplingSize,\n",
    "                                                   keep.rownames = TRUE,\n",
    "                                                   replace = FALSE,\n",
    "                                                   bothSets = FALSE))\n",
    "    rownames(metadataSimSampled) <- metadataSimSampled$rn\n",
    "    mlDataY <- metadataSimSampled\n",
    "    mlDataX <- snmData[rownames(mlDataY),]\n",
    "    dim(mlDataY)[1] == dim(mlDataX)[1] # Sanity check\n",
    "    \n",
    "    # Create data partitions\n",
    "    # set.seed(42)\n",
    "    indexSuper <- 1:dim(mlDataY)[1]\n",
    "    predProbs <- list()\n",
    "    obsClass <- vector()\n",
    "    predClass <- vector()\n",
    "    varImpBestModelDF2OrderedNonzeroList <- list()\n",
    "    \n",
    "    for(ii in 1:length(indexSuper)){\n",
    "      print(sprintf(\"Iteration: %d/%d\", ii, length(indexSuper)))\n",
    "      index <- indexSuper[ii]\n",
    "      # print(index)\n",
    "      trainX <- mlDataX[-index,]\n",
    "      trainY <- mlDataY[-index,]$disease_type_consol\n",
    "      testX <- mlDataX[index,,drop=FALSE]\n",
    "      testY <- mlDataY[index,,drop=FALSE]$disease_type_consol\n",
    "      # print(testY)\n",
    "      \n",
    "      refactoredTrainY <- factor(gsub('([[:punct:]])|\\\\s+','',trainY))\n",
    "      refactoredTestY <- factor(gsub('([[:punct:]])|\\\\s+','',testY))\n",
    "      \n",
    "      obsClass[ii] <- as.character(refactoredTestY)\n",
    "      \n",
    "      set.seed(42)\n",
    "      ctrl <- trainControl(method = \"repeatedcv\",\n",
    "                           number = numKFold,\n",
    "                           repeats = numResampleIter,\n",
    "                           sampling = \"up\",\n",
    "                           summaryFunction = multiClassSummary,\n",
    "                           classProbs = TRUE,\n",
    "                           verboseIter = FALSE,\n",
    "                           savePredictions = TRUE,\n",
    "                           allowParallel=TRUE)\n",
    "      \n",
    "      mlModel <- train(x = trainX,\n",
    "                       y = refactoredTrainY,\n",
    "                       method = \"gbm\",\n",
    "                       preProcess = c(\"scale\",\"center\"),\n",
    "                       trControl = ctrl,\n",
    "                       verbose = FALSE,\n",
    "                       metric = \"ROC\",\n",
    "                       tuneGrid = caretTuneGrid)\n",
    "      \n",
    "      predProbs[ii] <- list(predict(mlModel, newdata = testX, type = \"prob\"))\n",
    "      predClass[ii] <- as.character(predict(mlModel, newdata = testX, type = \"raw\"))\n",
    "      \n",
    "      varImpBestModelDF <- as.data.frame(varImp( mlModel$finalModel, scale = FALSE ))\n",
    "      varImpBestModelDF2 <- rownames_to_column(varImpBestModelDF, \"Taxa\")\n",
    "      varImpBestModelDF2Ordered <- varImpBestModelDF2[order(-varImpBestModelDF2$Overall),]\n",
    "      colnames(varImpBestModelDF2Ordered)[2] <- \"varImp\"\n",
    "      varImpBestModelDF2OrderedNonzero <- varImpBestModelDF2Ordered[varImpBestModelDF2Ordered$varImp != 0,]\n",
    "      varImpBestModelDF2OrderedNonzeroList[[ii]] <- varImpBestModelDF2OrderedNonzero\n",
    "      \n",
    "      rm(mlModel)\n",
    "    }\n",
    "    \n",
    "    loocvPreds <- cbind(obs = factor(obsClass,\n",
    "                                     levels = classes),\n",
    "                        pred = factor(predClass,\n",
    "                                      levels = classes),\n",
    "                        do.call(rbind,predProbs))\n",
    "    # multiClassSummaryStats <- multiClassSummary(loocvPreds, lev = classes)\n",
    "    # print(multiClassSummaryStats)\n",
    "    \n",
    "    multiClassSummaryStats[[jj]] <- multiClassSummary(loocvPreds, lev = classes)\n",
    "    print(multiClassSummaryStats[[jj]])\n",
    "    \n",
    "    filenameROC <- paste0(filenameString,\"__ROC.png\")\n",
    "    filenamePR <- paste0(filenameString,\"__PR.png\")\n",
    "    filenameROCData <- paste0(filenameString,\"__Data__ROC.csv\")\n",
    "    filenamePRData <- paste0(filenameString,\"__Data__PR.csv\")\n",
    "    filenameSink <- paste0(filenameString,\"__CM.txt\")\n",
    "    \n",
    "    predProbs <- loocvPreds[,DTs[1]]\n",
    "    fg <- predProbs[loocvPreds$obs == DTs[1]]\n",
    "    bg <- predProbs[loocvPreds$obs == DTs[2]]\n",
    "    \n",
    "    prroc_roc <- roc.curve(scores.class0 = fg, scores.class1 = bg, curve = T)\n",
    "    prroc_pr <- pr.curve(scores.class0 = fg, scores.class1 = bg, curve = T, rand.compute=T)\n",
    "    \n",
    "    png(filename=filenameROC, width = 6, height = 4, units = 'in', res = 300)\n",
    "    plot(prroc_roc)\n",
    "    dev.off()\n",
    "    \n",
    "    png(filename=filenamePR, width = 6, height = 4, units = 'in', res = 300)\n",
    "    plot(prroc_pr)\n",
    "    dev.off()\n",
    "    \n",
    "    rocCurveData <- cbind(as.data.frame(prroc_roc$curve), DT1 = DTs[1], DT2 = DTs[2])\n",
    "    prCurveData <- cbind(as.data.frame(prroc_pr$curve), DT1 = DTs[1], DT2 = DTs[2])\n",
    "    \n",
    "    write.table(prCurveData, sep=\",\", file = filenamePRData, col.names = FALSE)\n",
    "    write.table(rocCurveData, sep=\",\", file = filenameROCData, col.names = FALSE)\n",
    "  }\n",
    "  \n",
    "  print(confusionMatrix(loocvPreds$obs, loocvPreds$pred))\n",
    "  multiClassSummaryStatsDist <- data.frame(do.call(rbind, multiClassSummaryStats))\n",
    "  \n",
    "  sink(filenameSink)\n",
    "  print(print(confusionMatrix(loocvPreds$obs, loocvPreds$pred)))\n",
    "  sink()\n",
    "}\n",
    "\n",
    "#-----------------------------------------------------\n",
    "\n",
    "ml2DTs <- function(snmData, \n",
    "                   classOfInterest = \"Lung Adenocarcinoma\", \n",
    "                   cutPoint = 0.5, \n",
    "                   samplingSize = 20, \n",
    "                   caretTuneGrid = defaultGBMGrid){\n",
    "  \n",
    "  metaTmp1 <- droplevels(metadataPSMatchedDPQCFiltered[(metadataPSMatchedDPQCFiltered$disease_type_consol %in% c(\"PRAD\",\n",
    "                                                                                                             \"SKCM\",\n",
    "                                                                                                             \"NSCLC\")),])\n",
    "  tmp <- metaTmp1\n",
    "  tmp$disease_type_consol <- factor(ifelse(metaTmp1$disease_type_consol == classOfInterest, yes = classOfInterest, no = \"Other\"))\n",
    "  metadataSimSampled <- as.data.frame(stratified(tmp,\n",
    "                                                 group = \"disease_type_consol\",\n",
    "                                                 size = samplingSize,\n",
    "                                                 keep.rownames = TRUE,\n",
    "                                                 replace = FALSE,\n",
    "                                                 bothSets = FALSE))\n",
    "  rownames(metadataSimSampled) <- metadataSimSampled$rn\n",
    "  mlDataY <- metadataSimSampled\n",
    "  mlDataX <- snmData[rownames(mlDataY),]\n",
    "  \n",
    "  set.seed(42)\n",
    "  index <- createDataPartition(mlDataY$disease_type_consol, p = 0.7, list = FALSE)\n",
    "  trainX <- mlDataX[index,]\n",
    "  trainY <- mlDataY[index,]$disease_type_consol\n",
    "  testX <- mlDataX[-index,]\n",
    "  testY <- mlDataY[-index,]$disease_type_consol\n",
    "  # print(testY)\n",
    "  \n",
    "  refactoredTrainY <- factor(gsub('([[:punct:]])|\\\\s+','',trainY))\n",
    "  refactoredTestY <- factor(gsub('([[:punct:]])|\\\\s+','',testY))\n",
    "  \n",
    "  set.seed(42)\n",
    "  ctrl <- trainControl(method = \"repeatedcv\",\n",
    "                       number = numKFold,\n",
    "                       repeats = numResampleIter,\n",
    "                       sampling = \"up\",\n",
    "                       summaryFunction = twoClassSummary,\n",
    "                       classProbs = TRUE,\n",
    "                       verboseIter = TRUE,\n",
    "                       savePredictions = TRUE,\n",
    "                       allowParallel=TRUE)\n",
    "  \n",
    "  mlModel <- train(x = trainX,\n",
    "                   y = refactoredTrainY,\n",
    "                   method = \"gbm\",\n",
    "                   preProcess = c(\"scale\",\"center\"),\n",
    "                   trControl = ctrl,\n",
    "                   verbose = TRUE,\n",
    "                   metric = \"ROC\",\n",
    "                   tuneGrid = customGBMGrid)\n",
    "  \n",
    "  positiveClass <- gsub(\" \",\"\", classOfInterest)\n",
    "  negativeClass <- \"Other\"\n",
    "  \n",
    "  predProbs <- as.numeric(predict(mlModel, newdata = testX, type = \"prob\")[,positiveClass])\n",
    "  fg <- predProbs[refactoredTestY == positiveClass]\n",
    "  bg <- predProbs[refactoredTestY == negativeClass]\n",
    "  \n",
    "  prroc_roc <- roc.curve(scores.class0 = fg, scores.class1 = bg, curve = T)\n",
    "  prroc_pr <- pr.curve(scores.class0 = fg, scores.class1 = bg, curve = T, rand.compute=T)\n",
    "  \n",
    "  # par(mfrow = c(1,2))\n",
    "  plot(prroc_roc)\n",
    "  plot(prroc_pr)\n",
    "  # dev.off()\n",
    "  \n",
    "  \n",
    "  predClass <- predict(mlModel, newdata = testX)\n",
    "  \n",
    "  confusionMatrix(table(predict(mlModel, newdata = testX, type=\"prob\")[,positiveClass] >= cutPoint,\n",
    "                        refactoredTestY == positiveClass))\n",
    "}"
   ]
  },
  {
   "cell_type": "code",
   "execution_count": 17,
   "metadata": {
    "scrolled": true
   },
   "outputs": [
    {
     "name": "stderr",
     "output_type": "stream",
     "text": [
      "Groups Control contain fewer rows than requested. Returning all rows.\n",
      "\n"
     ]
    },
    {
     "name": "stdout",
     "output_type": "stream",
     "text": [
      "[1] \"Iteration: 1/169\"\n"
     ]
    },
    {
     "name": "stderr",
     "output_type": "stream",
     "text": [
      "Warning message in train.default(x = trainX, y = refactoredTrainY, method = \"gbm\", :\n",
      "“The metric \"ROC\" was not in the result set. logLoss will be used instead.”\n"
     ]
    },
    {
     "name": "stdout",
     "output_type": "stream",
     "text": [
      "[1] \"Iteration: 2/169\"\n"
     ]
    },
    {
     "name": "stderr",
     "output_type": "stream",
     "text": [
      "Warning message in train.default(x = trainX, y = refactoredTrainY, method = \"gbm\", :\n",
      "“The metric \"ROC\" was not in the result set. logLoss will be used instead.”\n"
     ]
    },
    {
     "name": "stdout",
     "output_type": "stream",
     "text": [
      "[1] \"Iteration: 3/169\"\n"
     ]
    },
    {
     "name": "stderr",
     "output_type": "stream",
     "text": [
      "Warning message in train.default(x = trainX, y = refactoredTrainY, method = \"gbm\", :\n",
      "“The metric \"ROC\" was not in the result set. logLoss will be used instead.”\n"
     ]
    },
    {
     "name": "stdout",
     "output_type": "stream",
     "text": [
      "[1] \"Iteration: 4/169\"\n"
     ]
    },
    {
     "name": "stderr",
     "output_type": "stream",
     "text": [
      "Warning message in train.default(x = trainX, y = refactoredTrainY, method = \"gbm\", :\n",
      "“The metric \"ROC\" was not in the result set. logLoss will be used instead.”\n"
     ]
    },
    {
     "name": "stdout",
     "output_type": "stream",
     "text": [
      "[1] \"Iteration: 5/169\"\n"
     ]
    },
    {
     "name": "stderr",
     "output_type": "stream",
     "text": [
      "Warning message in train.default(x = trainX, y = refactoredTrainY, method = \"gbm\", :\n",
      "“The metric \"ROC\" was not in the result set. logLoss will be used instead.”\n"
     ]
    },
    {
     "name": "stdout",
     "output_type": "stream",
     "text": [
      "[1] \"Iteration: 6/169\"\n"
     ]
    },
    {
     "name": "stderr",
     "output_type": "stream",
     "text": [
      "Warning message in train.default(x = trainX, y = refactoredTrainY, method = \"gbm\", :\n",
      "“The metric \"ROC\" was not in the result set. logLoss will be used instead.”\n"
     ]
    },
    {
     "name": "stdout",
     "output_type": "stream",
     "text": [
      "[1] \"Iteration: 7/169\"\n"
     ]
    },
    {
     "name": "stderr",
     "output_type": "stream",
     "text": [
      "Warning message in train.default(x = trainX, y = refactoredTrainY, method = \"gbm\", :\n",
      "“The metric \"ROC\" was not in the result set. logLoss will be used instead.”\n"
     ]
    },
    {
     "name": "stdout",
     "output_type": "stream",
     "text": [
      "[1] \"Iteration: 8/169\"\n"
     ]
    },
    {
     "name": "stderr",
     "output_type": "stream",
     "text": [
      "Warning message in train.default(x = trainX, y = refactoredTrainY, method = \"gbm\", :\n",
      "“The metric \"ROC\" was not in the result set. logLoss will be used instead.”\n"
     ]
    },
    {
     "name": "stdout",
     "output_type": "stream",
     "text": [
      "[1] \"Iteration: 9/169\"\n"
     ]
    },
    {
     "name": "stderr",
     "output_type": "stream",
     "text": [
      "Warning message in train.default(x = trainX, y = refactoredTrainY, method = \"gbm\", :\n",
      "“The metric \"ROC\" was not in the result set. logLoss will be used instead.”\n"
     ]
    },
    {
     "name": "stdout",
     "output_type": "stream",
     "text": [
      "[1] \"Iteration: 10/169\"\n"
     ]
    },
    {
     "name": "stderr",
     "output_type": "stream",
     "text": [
      "Warning message in train.default(x = trainX, y = refactoredTrainY, method = \"gbm\", :\n",
      "“The metric \"ROC\" was not in the result set. logLoss will be used instead.”\n"
     ]
    },
    {
     "name": "stdout",
     "output_type": "stream",
     "text": [
      "[1] \"Iteration: 11/169\"\n"
     ]
    },
    {
     "name": "stderr",
     "output_type": "stream",
     "text": [
      "Warning message in train.default(x = trainX, y = refactoredTrainY, method = \"gbm\", :\n",
      "“The metric \"ROC\" was not in the result set. logLoss will be used instead.”\n"
     ]
    },
    {
     "name": "stdout",
     "output_type": "stream",
     "text": [
      "[1] \"Iteration: 12/169\"\n"
     ]
    },
    {
     "name": "stderr",
     "output_type": "stream",
     "text": [
      "Warning message in train.default(x = trainX, y = refactoredTrainY, method = \"gbm\", :\n",
      "“The metric \"ROC\" was not in the result set. logLoss will be used instead.”\n"
     ]
    },
    {
     "name": "stdout",
     "output_type": "stream",
     "text": [
      "[1] \"Iteration: 13/169\"\n"
     ]
    },
    {
     "name": "stderr",
     "output_type": "stream",
     "text": [
      "Warning message in train.default(x = trainX, y = refactoredTrainY, method = \"gbm\", :\n",
      "“The metric \"ROC\" was not in the result set. logLoss will be used instead.”\n"
     ]
    },
    {
     "name": "stdout",
     "output_type": "stream",
     "text": [
      "[1] \"Iteration: 14/169\"\n"
     ]
    },
    {
     "name": "stderr",
     "output_type": "stream",
     "text": [
      "Warning message in train.default(x = trainX, y = refactoredTrainY, method = \"gbm\", :\n",
      "“The metric \"ROC\" was not in the result set. logLoss will be used instead.”\n"
     ]
    },
    {
     "name": "stdout",
     "output_type": "stream",
     "text": [
      "[1] \"Iteration: 15/169\"\n"
     ]
    },
    {
     "name": "stderr",
     "output_type": "stream",
     "text": [
      "Warning message in train.default(x = trainX, y = refactoredTrainY, method = \"gbm\", :\n",
      "“The metric \"ROC\" was not in the result set. logLoss will be used instead.”\n"
     ]
    },
    {
     "name": "stdout",
     "output_type": "stream",
     "text": [
      "[1] \"Iteration: 16/169\"\n"
     ]
    },
    {
     "name": "stderr",
     "output_type": "stream",
     "text": [
      "Warning message in train.default(x = trainX, y = refactoredTrainY, method = \"gbm\", :\n",
      "“The metric \"ROC\" was not in the result set. logLoss will be used instead.”\n"
     ]
    },
    {
     "name": "stdout",
     "output_type": "stream",
     "text": [
      "[1] \"Iteration: 17/169\"\n"
     ]
    },
    {
     "name": "stderr",
     "output_type": "stream",
     "text": [
      "Warning message in train.default(x = trainX, y = refactoredTrainY, method = \"gbm\", :\n",
      "“The metric \"ROC\" was not in the result set. logLoss will be used instead.”\n"
     ]
    },
    {
     "name": "stdout",
     "output_type": "stream",
     "text": [
      "[1] \"Iteration: 18/169\"\n"
     ]
    },
    {
     "name": "stderr",
     "output_type": "stream",
     "text": [
      "Warning message in train.default(x = trainX, y = refactoredTrainY, method = \"gbm\", :\n",
      "“The metric \"ROC\" was not in the result set. logLoss will be used instead.”\n"
     ]
    },
    {
     "name": "stdout",
     "output_type": "stream",
     "text": [
      "[1] \"Iteration: 19/169\"\n"
     ]
    },
    {
     "name": "stderr",
     "output_type": "stream",
     "text": [
      "Warning message in train.default(x = trainX, y = refactoredTrainY, method = \"gbm\", :\n",
      "“The metric \"ROC\" was not in the result set. logLoss will be used instead.”\n"
     ]
    },
    {
     "name": "stdout",
     "output_type": "stream",
     "text": [
      "[1] \"Iteration: 20/169\"\n"
     ]
    },
    {
     "name": "stderr",
     "output_type": "stream",
     "text": [
      "Warning message in train.default(x = trainX, y = refactoredTrainY, method = \"gbm\", :\n",
      "“The metric \"ROC\" was not in the result set. logLoss will be used instead.”\n"
     ]
    },
    {
     "name": "stdout",
     "output_type": "stream",
     "text": [
      "[1] \"Iteration: 21/169\"\n"
     ]
    },
    {
     "name": "stderr",
     "output_type": "stream",
     "text": [
      "Warning message in train.default(x = trainX, y = refactoredTrainY, method = \"gbm\", :\n",
      "“The metric \"ROC\" was not in the result set. logLoss will be used instead.”\n"
     ]
    },
    {
     "name": "stdout",
     "output_type": "stream",
     "text": [
      "[1] \"Iteration: 22/169\"\n"
     ]
    },
    {
     "name": "stderr",
     "output_type": "stream",
     "text": [
      "Warning message in train.default(x = trainX, y = refactoredTrainY, method = \"gbm\", :\n",
      "“The metric \"ROC\" was not in the result set. logLoss will be used instead.”\n"
     ]
    },
    {
     "name": "stdout",
     "output_type": "stream",
     "text": [
      "[1] \"Iteration: 23/169\"\n"
     ]
    },
    {
     "name": "stderr",
     "output_type": "stream",
     "text": [
      "Warning message in train.default(x = trainX, y = refactoredTrainY, method = \"gbm\", :\n",
      "“The metric \"ROC\" was not in the result set. logLoss will be used instead.”\n"
     ]
    },
    {
     "name": "stdout",
     "output_type": "stream",
     "text": [
      "[1] \"Iteration: 24/169\"\n"
     ]
    },
    {
     "name": "stderr",
     "output_type": "stream",
     "text": [
      "Warning message in train.default(x = trainX, y = refactoredTrainY, method = \"gbm\", :\n",
      "“The metric \"ROC\" was not in the result set. logLoss will be used instead.”\n"
     ]
    },
    {
     "name": "stdout",
     "output_type": "stream",
     "text": [
      "[1] \"Iteration: 25/169\"\n"
     ]
    },
    {
     "name": "stderr",
     "output_type": "stream",
     "text": [
      "Warning message in train.default(x = trainX, y = refactoredTrainY, method = \"gbm\", :\n",
      "“The metric \"ROC\" was not in the result set. logLoss will be used instead.”\n"
     ]
    },
    {
     "name": "stdout",
     "output_type": "stream",
     "text": [
      "[1] \"Iteration: 26/169\"\n"
     ]
    },
    {
     "name": "stderr",
     "output_type": "stream",
     "text": [
      "Warning message in train.default(x = trainX, y = refactoredTrainY, method = \"gbm\", :\n",
      "“The metric \"ROC\" was not in the result set. logLoss will be used instead.”\n"
     ]
    },
    {
     "name": "stdout",
     "output_type": "stream",
     "text": [
      "[1] \"Iteration: 27/169\"\n"
     ]
    },
    {
     "name": "stderr",
     "output_type": "stream",
     "text": [
      "Warning message in train.default(x = trainX, y = refactoredTrainY, method = \"gbm\", :\n",
      "“The metric \"ROC\" was not in the result set. logLoss will be used instead.”\n"
     ]
    },
    {
     "name": "stdout",
     "output_type": "stream",
     "text": [
      "[1] \"Iteration: 28/169\"\n"
     ]
    },
    {
     "name": "stderr",
     "output_type": "stream",
     "text": [
      "Warning message in train.default(x = trainX, y = refactoredTrainY, method = \"gbm\", :\n",
      "“The metric \"ROC\" was not in the result set. logLoss will be used instead.”\n"
     ]
    },
    {
     "name": "stdout",
     "output_type": "stream",
     "text": [
      "[1] \"Iteration: 29/169\"\n"
     ]
    },
    {
     "name": "stderr",
     "output_type": "stream",
     "text": [
      "Warning message in train.default(x = trainX, y = refactoredTrainY, method = \"gbm\", :\n",
      "“The metric \"ROC\" was not in the result set. logLoss will be used instead.”\n"
     ]
    },
    {
     "name": "stdout",
     "output_type": "stream",
     "text": [
      "[1] \"Iteration: 30/169\"\n"
     ]
    },
    {
     "name": "stderr",
     "output_type": "stream",
     "text": [
      "Warning message in train.default(x = trainX, y = refactoredTrainY, method = \"gbm\", :\n",
      "“The metric \"ROC\" was not in the result set. logLoss will be used instead.”\n"
     ]
    },
    {
     "name": "stdout",
     "output_type": "stream",
     "text": [
      "[1] \"Iteration: 31/169\"\n"
     ]
    },
    {
     "name": "stderr",
     "output_type": "stream",
     "text": [
      "Warning message in train.default(x = trainX, y = refactoredTrainY, method = \"gbm\", :\n",
      "“The metric \"ROC\" was not in the result set. logLoss will be used instead.”\n"
     ]
    },
    {
     "name": "stdout",
     "output_type": "stream",
     "text": [
      "[1] \"Iteration: 32/169\"\n"
     ]
    },
    {
     "name": "stderr",
     "output_type": "stream",
     "text": [
      "Warning message in train.default(x = trainX, y = refactoredTrainY, method = \"gbm\", :\n",
      "“The metric \"ROC\" was not in the result set. logLoss will be used instead.”\n"
     ]
    },
    {
     "name": "stdout",
     "output_type": "stream",
     "text": [
      "[1] \"Iteration: 33/169\"\n"
     ]
    },
    {
     "name": "stderr",
     "output_type": "stream",
     "text": [
      "Warning message in train.default(x = trainX, y = refactoredTrainY, method = \"gbm\", :\n",
      "“The metric \"ROC\" was not in the result set. logLoss will be used instead.”\n"
     ]
    },
    {
     "name": "stdout",
     "output_type": "stream",
     "text": [
      "[1] \"Iteration: 34/169\"\n"
     ]
    },
    {
     "name": "stderr",
     "output_type": "stream",
     "text": [
      "Warning message in train.default(x = trainX, y = refactoredTrainY, method = \"gbm\", :\n",
      "“The metric \"ROC\" was not in the result set. logLoss will be used instead.”\n"
     ]
    },
    {
     "name": "stdout",
     "output_type": "stream",
     "text": [
      "[1] \"Iteration: 35/169\"\n"
     ]
    },
    {
     "name": "stderr",
     "output_type": "stream",
     "text": [
      "Warning message in train.default(x = trainX, y = refactoredTrainY, method = \"gbm\", :\n",
      "“The metric \"ROC\" was not in the result set. logLoss will be used instead.”\n"
     ]
    },
    {
     "name": "stdout",
     "output_type": "stream",
     "text": [
      "[1] \"Iteration: 36/169\"\n"
     ]
    },
    {
     "name": "stderr",
     "output_type": "stream",
     "text": [
      "Warning message in train.default(x = trainX, y = refactoredTrainY, method = \"gbm\", :\n",
      "“The metric \"ROC\" was not in the result set. logLoss will be used instead.”\n"
     ]
    },
    {
     "name": "stdout",
     "output_type": "stream",
     "text": [
      "[1] \"Iteration: 37/169\"\n"
     ]
    },
    {
     "name": "stderr",
     "output_type": "stream",
     "text": [
      "Warning message in train.default(x = trainX, y = refactoredTrainY, method = \"gbm\", :\n",
      "“The metric \"ROC\" was not in the result set. logLoss will be used instead.”\n"
     ]
    },
    {
     "name": "stdout",
     "output_type": "stream",
     "text": [
      "[1] \"Iteration: 38/169\"\n"
     ]
    },
    {
     "name": "stderr",
     "output_type": "stream",
     "text": [
      "Warning message in train.default(x = trainX, y = refactoredTrainY, method = \"gbm\", :\n",
      "“The metric \"ROC\" was not in the result set. logLoss will be used instead.”\n"
     ]
    },
    {
     "name": "stdout",
     "output_type": "stream",
     "text": [
      "[1] \"Iteration: 39/169\"\n"
     ]
    },
    {
     "name": "stderr",
     "output_type": "stream",
     "text": [
      "Warning message in train.default(x = trainX, y = refactoredTrainY, method = \"gbm\", :\n",
      "“The metric \"ROC\" was not in the result set. logLoss will be used instead.”\n"
     ]
    },
    {
     "name": "stdout",
     "output_type": "stream",
     "text": [
      "[1] \"Iteration: 40/169\"\n"
     ]
    },
    {
     "name": "stderr",
     "output_type": "stream",
     "text": [
      "Warning message in train.default(x = trainX, y = refactoredTrainY, method = \"gbm\", :\n",
      "“The metric \"ROC\" was not in the result set. logLoss will be used instead.”\n"
     ]
    },
    {
     "name": "stdout",
     "output_type": "stream",
     "text": [
      "[1] \"Iteration: 41/169\"\n"
     ]
    },
    {
     "name": "stderr",
     "output_type": "stream",
     "text": [
      "Warning message in train.default(x = trainX, y = refactoredTrainY, method = \"gbm\", :\n",
      "“The metric \"ROC\" was not in the result set. logLoss will be used instead.”\n"
     ]
    },
    {
     "name": "stdout",
     "output_type": "stream",
     "text": [
      "[1] \"Iteration: 42/169\"\n"
     ]
    },
    {
     "name": "stderr",
     "output_type": "stream",
     "text": [
      "Warning message in train.default(x = trainX, y = refactoredTrainY, method = \"gbm\", :\n",
      "“The metric \"ROC\" was not in the result set. logLoss will be used instead.”\n"
     ]
    },
    {
     "name": "stdout",
     "output_type": "stream",
     "text": [
      "[1] \"Iteration: 43/169\"\n"
     ]
    },
    {
     "name": "stderr",
     "output_type": "stream",
     "text": [
      "Warning message in train.default(x = trainX, y = refactoredTrainY, method = \"gbm\", :\n",
      "“The metric \"ROC\" was not in the result set. logLoss will be used instead.”\n"
     ]
    },
    {
     "name": "stdout",
     "output_type": "stream",
     "text": [
      "[1] \"Iteration: 44/169\"\n"
     ]
    },
    {
     "name": "stderr",
     "output_type": "stream",
     "text": [
      "Warning message in train.default(x = trainX, y = refactoredTrainY, method = \"gbm\", :\n",
      "“The metric \"ROC\" was not in the result set. logLoss will be used instead.”\n"
     ]
    },
    {
     "name": "stdout",
     "output_type": "stream",
     "text": [
      "[1] \"Iteration: 45/169\"\n"
     ]
    },
    {
     "name": "stderr",
     "output_type": "stream",
     "text": [
      "Warning message in train.default(x = trainX, y = refactoredTrainY, method = \"gbm\", :\n",
      "“The metric \"ROC\" was not in the result set. logLoss will be used instead.”\n"
     ]
    },
    {
     "name": "stdout",
     "output_type": "stream",
     "text": [
      "[1] \"Iteration: 46/169\"\n"
     ]
    },
    {
     "name": "stderr",
     "output_type": "stream",
     "text": [
      "Warning message in train.default(x = trainX, y = refactoredTrainY, method = \"gbm\", :\n",
      "“The metric \"ROC\" was not in the result set. logLoss will be used instead.”\n"
     ]
    },
    {
     "name": "stdout",
     "output_type": "stream",
     "text": [
      "[1] \"Iteration: 47/169\"\n"
     ]
    },
    {
     "name": "stderr",
     "output_type": "stream",
     "text": [
      "Warning message in train.default(x = trainX, y = refactoredTrainY, method = \"gbm\", :\n",
      "“The metric \"ROC\" was not in the result set. logLoss will be used instead.”\n"
     ]
    },
    {
     "name": "stdout",
     "output_type": "stream",
     "text": [
      "[1] \"Iteration: 48/169\"\n"
     ]
    },
    {
     "name": "stderr",
     "output_type": "stream",
     "text": [
      "Warning message in train.default(x = trainX, y = refactoredTrainY, method = \"gbm\", :\n",
      "“The metric \"ROC\" was not in the result set. logLoss will be used instead.”\n"
     ]
    },
    {
     "name": "stdout",
     "output_type": "stream",
     "text": [
      "[1] \"Iteration: 49/169\"\n"
     ]
    },
    {
     "name": "stderr",
     "output_type": "stream",
     "text": [
      "Warning message in train.default(x = trainX, y = refactoredTrainY, method = \"gbm\", :\n",
      "“The metric \"ROC\" was not in the result set. logLoss will be used instead.”\n"
     ]
    },
    {
     "name": "stdout",
     "output_type": "stream",
     "text": [
      "[1] \"Iteration: 50/169\"\n"
     ]
    },
    {
     "name": "stderr",
     "output_type": "stream",
     "text": [
      "Warning message in train.default(x = trainX, y = refactoredTrainY, method = \"gbm\", :\n",
      "“The metric \"ROC\" was not in the result set. logLoss will be used instead.”\n"
     ]
    },
    {
     "name": "stdout",
     "output_type": "stream",
     "text": [
      "[1] \"Iteration: 51/169\"\n"
     ]
    },
    {
     "name": "stderr",
     "output_type": "stream",
     "text": [
      "Warning message in train.default(x = trainX, y = refactoredTrainY, method = \"gbm\", :\n",
      "“The metric \"ROC\" was not in the result set. logLoss will be used instead.”\n"
     ]
    },
    {
     "name": "stdout",
     "output_type": "stream",
     "text": [
      "[1] \"Iteration: 52/169\"\n"
     ]
    },
    {
     "name": "stderr",
     "output_type": "stream",
     "text": [
      "Warning message in train.default(x = trainX, y = refactoredTrainY, method = \"gbm\", :\n",
      "“The metric \"ROC\" was not in the result set. logLoss will be used instead.”\n"
     ]
    },
    {
     "name": "stdout",
     "output_type": "stream",
     "text": [
      "[1] \"Iteration: 53/169\"\n"
     ]
    },
    {
     "name": "stderr",
     "output_type": "stream",
     "text": [
      "Warning message in train.default(x = trainX, y = refactoredTrainY, method = \"gbm\", :\n",
      "“The metric \"ROC\" was not in the result set. logLoss will be used instead.”\n"
     ]
    },
    {
     "name": "stdout",
     "output_type": "stream",
     "text": [
      "[1] \"Iteration: 54/169\"\n"
     ]
    },
    {
     "name": "stderr",
     "output_type": "stream",
     "text": [
      "Warning message in train.default(x = trainX, y = refactoredTrainY, method = \"gbm\", :\n",
      "“The metric \"ROC\" was not in the result set. logLoss will be used instead.”\n"
     ]
    },
    {
     "name": "stdout",
     "output_type": "stream",
     "text": [
      "[1] \"Iteration: 55/169\"\n"
     ]
    },
    {
     "name": "stderr",
     "output_type": "stream",
     "text": [
      "Warning message in train.default(x = trainX, y = refactoredTrainY, method = \"gbm\", :\n",
      "“The metric \"ROC\" was not in the result set. logLoss will be used instead.”\n"
     ]
    },
    {
     "name": "stdout",
     "output_type": "stream",
     "text": [
      "[1] \"Iteration: 56/169\"\n"
     ]
    },
    {
     "name": "stderr",
     "output_type": "stream",
     "text": [
      "Warning message in train.default(x = trainX, y = refactoredTrainY, method = \"gbm\", :\n",
      "“The metric \"ROC\" was not in the result set. logLoss will be used instead.”\n"
     ]
    },
    {
     "name": "stdout",
     "output_type": "stream",
     "text": [
      "[1] \"Iteration: 57/169\"\n"
     ]
    },
    {
     "name": "stderr",
     "output_type": "stream",
     "text": [
      "Warning message in train.default(x = trainX, y = refactoredTrainY, method = \"gbm\", :\n",
      "“The metric \"ROC\" was not in the result set. logLoss will be used instead.”\n"
     ]
    },
    {
     "name": "stdout",
     "output_type": "stream",
     "text": [
      "[1] \"Iteration: 58/169\"\n"
     ]
    },
    {
     "name": "stderr",
     "output_type": "stream",
     "text": [
      "Warning message in train.default(x = trainX, y = refactoredTrainY, method = \"gbm\", :\n",
      "“The metric \"ROC\" was not in the result set. logLoss will be used instead.”\n"
     ]
    },
    {
     "name": "stdout",
     "output_type": "stream",
     "text": [
      "[1] \"Iteration: 59/169\"\n"
     ]
    },
    {
     "name": "stderr",
     "output_type": "stream",
     "text": [
      "Warning message in train.default(x = trainX, y = refactoredTrainY, method = \"gbm\", :\n",
      "“The metric \"ROC\" was not in the result set. logLoss will be used instead.”\n"
     ]
    },
    {
     "name": "stdout",
     "output_type": "stream",
     "text": [
      "[1] \"Iteration: 60/169\"\n"
     ]
    },
    {
     "name": "stderr",
     "output_type": "stream",
     "text": [
      "Warning message in train.default(x = trainX, y = refactoredTrainY, method = \"gbm\", :\n",
      "“The metric \"ROC\" was not in the result set. logLoss will be used instead.”\n"
     ]
    },
    {
     "name": "stdout",
     "output_type": "stream",
     "text": [
      "[1] \"Iteration: 61/169\"\n"
     ]
    },
    {
     "name": "stderr",
     "output_type": "stream",
     "text": [
      "Warning message in train.default(x = trainX, y = refactoredTrainY, method = \"gbm\", :\n",
      "“The metric \"ROC\" was not in the result set. logLoss will be used instead.”\n"
     ]
    },
    {
     "name": "stdout",
     "output_type": "stream",
     "text": [
      "[1] \"Iteration: 62/169\"\n"
     ]
    },
    {
     "name": "stderr",
     "output_type": "stream",
     "text": [
      "Warning message in train.default(x = trainX, y = refactoredTrainY, method = \"gbm\", :\n",
      "“The metric \"ROC\" was not in the result set. logLoss will be used instead.”\n"
     ]
    },
    {
     "name": "stdout",
     "output_type": "stream",
     "text": [
      "[1] \"Iteration: 63/169\"\n"
     ]
    },
    {
     "name": "stderr",
     "output_type": "stream",
     "text": [
      "Warning message in train.default(x = trainX, y = refactoredTrainY, method = \"gbm\", :\n",
      "“The metric \"ROC\" was not in the result set. logLoss will be used instead.”\n"
     ]
    },
    {
     "name": "stdout",
     "output_type": "stream",
     "text": [
      "[1] \"Iteration: 64/169\"\n"
     ]
    },
    {
     "name": "stderr",
     "output_type": "stream",
     "text": [
      "Warning message in train.default(x = trainX, y = refactoredTrainY, method = \"gbm\", :\n",
      "“The metric \"ROC\" was not in the result set. logLoss will be used instead.”\n"
     ]
    },
    {
     "name": "stdout",
     "output_type": "stream",
     "text": [
      "[1] \"Iteration: 65/169\"\n"
     ]
    },
    {
     "name": "stderr",
     "output_type": "stream",
     "text": [
      "Warning message in train.default(x = trainX, y = refactoredTrainY, method = \"gbm\", :\n",
      "“The metric \"ROC\" was not in the result set. logLoss will be used instead.”\n"
     ]
    },
    {
     "name": "stdout",
     "output_type": "stream",
     "text": [
      "[1] \"Iteration: 66/169\"\n"
     ]
    },
    {
     "name": "stderr",
     "output_type": "stream",
     "text": [
      "Warning message in train.default(x = trainX, y = refactoredTrainY, method = \"gbm\", :\n",
      "“The metric \"ROC\" was not in the result set. logLoss will be used instead.”\n"
     ]
    },
    {
     "name": "stdout",
     "output_type": "stream",
     "text": [
      "[1] \"Iteration: 67/169\"\n"
     ]
    },
    {
     "name": "stderr",
     "output_type": "stream",
     "text": [
      "Warning message in train.default(x = trainX, y = refactoredTrainY, method = \"gbm\", :\n",
      "“The metric \"ROC\" was not in the result set. logLoss will be used instead.”\n"
     ]
    },
    {
     "name": "stdout",
     "output_type": "stream",
     "text": [
      "[1] \"Iteration: 68/169\"\n"
     ]
    },
    {
     "name": "stderr",
     "output_type": "stream",
     "text": [
      "Warning message in train.default(x = trainX, y = refactoredTrainY, method = \"gbm\", :\n",
      "“The metric \"ROC\" was not in the result set. logLoss will be used instead.”\n"
     ]
    },
    {
     "name": "stdout",
     "output_type": "stream",
     "text": [
      "[1] \"Iteration: 69/169\"\n"
     ]
    },
    {
     "name": "stderr",
     "output_type": "stream",
     "text": [
      "Warning message in train.default(x = trainX, y = refactoredTrainY, method = \"gbm\", :\n",
      "“The metric \"ROC\" was not in the result set. logLoss will be used instead.”\n"
     ]
    },
    {
     "name": "stdout",
     "output_type": "stream",
     "text": [
      "[1] \"Iteration: 70/169\"\n"
     ]
    },
    {
     "name": "stderr",
     "output_type": "stream",
     "text": [
      "Warning message in train.default(x = trainX, y = refactoredTrainY, method = \"gbm\", :\n",
      "“The metric \"ROC\" was not in the result set. logLoss will be used instead.”\n"
     ]
    },
    {
     "name": "stdout",
     "output_type": "stream",
     "text": [
      "[1] \"Iteration: 71/169\"\n"
     ]
    },
    {
     "name": "stderr",
     "output_type": "stream",
     "text": [
      "Warning message in train.default(x = trainX, y = refactoredTrainY, method = \"gbm\", :\n",
      "“The metric \"ROC\" was not in the result set. logLoss will be used instead.”\n"
     ]
    },
    {
     "name": "stdout",
     "output_type": "stream",
     "text": [
      "[1] \"Iteration: 72/169\"\n"
     ]
    },
    {
     "name": "stderr",
     "output_type": "stream",
     "text": [
      "Warning message in train.default(x = trainX, y = refactoredTrainY, method = \"gbm\", :\n",
      "“The metric \"ROC\" was not in the result set. logLoss will be used instead.”\n"
     ]
    },
    {
     "name": "stdout",
     "output_type": "stream",
     "text": [
      "[1] \"Iteration: 73/169\"\n"
     ]
    },
    {
     "name": "stderr",
     "output_type": "stream",
     "text": [
      "Warning message in train.default(x = trainX, y = refactoredTrainY, method = \"gbm\", :\n",
      "“The metric \"ROC\" was not in the result set. logLoss will be used instead.”\n"
     ]
    },
    {
     "name": "stdout",
     "output_type": "stream",
     "text": [
      "[1] \"Iteration: 74/169\"\n"
     ]
    },
    {
     "name": "stderr",
     "output_type": "stream",
     "text": [
      "Warning message in train.default(x = trainX, y = refactoredTrainY, method = \"gbm\", :\n",
      "“The metric \"ROC\" was not in the result set. logLoss will be used instead.”\n"
     ]
    },
    {
     "name": "stdout",
     "output_type": "stream",
     "text": [
      "[1] \"Iteration: 75/169\"\n"
     ]
    },
    {
     "name": "stderr",
     "output_type": "stream",
     "text": [
      "Warning message in train.default(x = trainX, y = refactoredTrainY, method = \"gbm\", :\n",
      "“The metric \"ROC\" was not in the result set. logLoss will be used instead.”\n"
     ]
    },
    {
     "name": "stdout",
     "output_type": "stream",
     "text": [
      "[1] \"Iteration: 76/169\"\n"
     ]
    },
    {
     "name": "stderr",
     "output_type": "stream",
     "text": [
      "Warning message in train.default(x = trainX, y = refactoredTrainY, method = \"gbm\", :\n",
      "“The metric \"ROC\" was not in the result set. logLoss will be used instead.”\n"
     ]
    },
    {
     "name": "stdout",
     "output_type": "stream",
     "text": [
      "[1] \"Iteration: 77/169\"\n"
     ]
    },
    {
     "name": "stderr",
     "output_type": "stream",
     "text": [
      "Warning message in train.default(x = trainX, y = refactoredTrainY, method = \"gbm\", :\n",
      "“The metric \"ROC\" was not in the result set. logLoss will be used instead.”\n"
     ]
    },
    {
     "name": "stdout",
     "output_type": "stream",
     "text": [
      "[1] \"Iteration: 78/169\"\n"
     ]
    },
    {
     "name": "stderr",
     "output_type": "stream",
     "text": [
      "Warning message in train.default(x = trainX, y = refactoredTrainY, method = \"gbm\", :\n",
      "“The metric \"ROC\" was not in the result set. logLoss will be used instead.”\n"
     ]
    },
    {
     "name": "stdout",
     "output_type": "stream",
     "text": [
      "[1] \"Iteration: 79/169\"\n"
     ]
    },
    {
     "name": "stderr",
     "output_type": "stream",
     "text": [
      "Warning message in train.default(x = trainX, y = refactoredTrainY, method = \"gbm\", :\n",
      "“The metric \"ROC\" was not in the result set. logLoss will be used instead.”\n"
     ]
    },
    {
     "name": "stdout",
     "output_type": "stream",
     "text": [
      "[1] \"Iteration: 80/169\"\n"
     ]
    },
    {
     "name": "stderr",
     "output_type": "stream",
     "text": [
      "Warning message in train.default(x = trainX, y = refactoredTrainY, method = \"gbm\", :\n",
      "“The metric \"ROC\" was not in the result set. logLoss will be used instead.”\n"
     ]
    },
    {
     "name": "stdout",
     "output_type": "stream",
     "text": [
      "[1] \"Iteration: 81/169\"\n"
     ]
    },
    {
     "name": "stderr",
     "output_type": "stream",
     "text": [
      "Warning message in train.default(x = trainX, y = refactoredTrainY, method = \"gbm\", :\n",
      "“The metric \"ROC\" was not in the result set. logLoss will be used instead.”\n"
     ]
    },
    {
     "name": "stdout",
     "output_type": "stream",
     "text": [
      "[1] \"Iteration: 82/169\"\n"
     ]
    },
    {
     "name": "stderr",
     "output_type": "stream",
     "text": [
      "Warning message in train.default(x = trainX, y = refactoredTrainY, method = \"gbm\", :\n",
      "“The metric \"ROC\" was not in the result set. logLoss will be used instead.”\n"
     ]
    },
    {
     "name": "stdout",
     "output_type": "stream",
     "text": [
      "[1] \"Iteration: 83/169\"\n"
     ]
    },
    {
     "name": "stderr",
     "output_type": "stream",
     "text": [
      "Warning message in train.default(x = trainX, y = refactoredTrainY, method = \"gbm\", :\n",
      "“The metric \"ROC\" was not in the result set. logLoss will be used instead.”\n"
     ]
    },
    {
     "name": "stdout",
     "output_type": "stream",
     "text": [
      "[1] \"Iteration: 84/169\"\n"
     ]
    },
    {
     "name": "stderr",
     "output_type": "stream",
     "text": [
      "Warning message in train.default(x = trainX, y = refactoredTrainY, method = \"gbm\", :\n",
      "“The metric \"ROC\" was not in the result set. logLoss will be used instead.”\n"
     ]
    },
    {
     "name": "stdout",
     "output_type": "stream",
     "text": [
      "[1] \"Iteration: 85/169\"\n"
     ]
    },
    {
     "name": "stderr",
     "output_type": "stream",
     "text": [
      "Warning message in train.default(x = trainX, y = refactoredTrainY, method = \"gbm\", :\n",
      "“The metric \"ROC\" was not in the result set. logLoss will be used instead.”\n"
     ]
    },
    {
     "name": "stdout",
     "output_type": "stream",
     "text": [
      "[1] \"Iteration: 86/169\"\n"
     ]
    },
    {
     "name": "stderr",
     "output_type": "stream",
     "text": [
      "Warning message in train.default(x = trainX, y = refactoredTrainY, method = \"gbm\", :\n",
      "“The metric \"ROC\" was not in the result set. logLoss will be used instead.”\n"
     ]
    },
    {
     "name": "stdout",
     "output_type": "stream",
     "text": [
      "[1] \"Iteration: 87/169\"\n"
     ]
    },
    {
     "name": "stderr",
     "output_type": "stream",
     "text": [
      "Warning message in train.default(x = trainX, y = refactoredTrainY, method = \"gbm\", :\n",
      "“The metric \"ROC\" was not in the result set. logLoss will be used instead.”\n"
     ]
    },
    {
     "name": "stdout",
     "output_type": "stream",
     "text": [
      "[1] \"Iteration: 88/169\"\n"
     ]
    },
    {
     "name": "stderr",
     "output_type": "stream",
     "text": [
      "Warning message in train.default(x = trainX, y = refactoredTrainY, method = \"gbm\", :\n",
      "“The metric \"ROC\" was not in the result set. logLoss will be used instead.”\n"
     ]
    },
    {
     "name": "stdout",
     "output_type": "stream",
     "text": [
      "[1] \"Iteration: 89/169\"\n"
     ]
    },
    {
     "name": "stderr",
     "output_type": "stream",
     "text": [
      "Warning message in train.default(x = trainX, y = refactoredTrainY, method = \"gbm\", :\n",
      "“The metric \"ROC\" was not in the result set. logLoss will be used instead.”\n"
     ]
    },
    {
     "name": "stdout",
     "output_type": "stream",
     "text": [
      "[1] \"Iteration: 90/169\"\n"
     ]
    },
    {
     "name": "stderr",
     "output_type": "stream",
     "text": [
      "Warning message in train.default(x = trainX, y = refactoredTrainY, method = \"gbm\", :\n",
      "“The metric \"ROC\" was not in the result set. logLoss will be used instead.”\n"
     ]
    },
    {
     "name": "stdout",
     "output_type": "stream",
     "text": [
      "[1] \"Iteration: 91/169\"\n"
     ]
    },
    {
     "name": "stderr",
     "output_type": "stream",
     "text": [
      "Warning message in train.default(x = trainX, y = refactoredTrainY, method = \"gbm\", :\n",
      "“The metric \"ROC\" was not in the result set. logLoss will be used instead.”\n"
     ]
    },
    {
     "name": "stdout",
     "output_type": "stream",
     "text": [
      "[1] \"Iteration: 92/169\"\n"
     ]
    },
    {
     "name": "stderr",
     "output_type": "stream",
     "text": [
      "Warning message in train.default(x = trainX, y = refactoredTrainY, method = \"gbm\", :\n",
      "“The metric \"ROC\" was not in the result set. logLoss will be used instead.”\n"
     ]
    },
    {
     "name": "stdout",
     "output_type": "stream",
     "text": [
      "[1] \"Iteration: 93/169\"\n"
     ]
    },
    {
     "name": "stderr",
     "output_type": "stream",
     "text": [
      "Warning message in train.default(x = trainX, y = refactoredTrainY, method = \"gbm\", :\n",
      "“The metric \"ROC\" was not in the result set. logLoss will be used instead.”\n"
     ]
    },
    {
     "name": "stdout",
     "output_type": "stream",
     "text": [
      "[1] \"Iteration: 94/169\"\n"
     ]
    },
    {
     "name": "stderr",
     "output_type": "stream",
     "text": [
      "Warning message in train.default(x = trainX, y = refactoredTrainY, method = \"gbm\", :\n",
      "“The metric \"ROC\" was not in the result set. logLoss will be used instead.”\n"
     ]
    },
    {
     "name": "stdout",
     "output_type": "stream",
     "text": [
      "[1] \"Iteration: 95/169\"\n"
     ]
    },
    {
     "name": "stderr",
     "output_type": "stream",
     "text": [
      "Warning message in train.default(x = trainX, y = refactoredTrainY, method = \"gbm\", :\n",
      "“The metric \"ROC\" was not in the result set. logLoss will be used instead.”\n"
     ]
    },
    {
     "name": "stdout",
     "output_type": "stream",
     "text": [
      "[1] \"Iteration: 96/169\"\n"
     ]
    },
    {
     "name": "stderr",
     "output_type": "stream",
     "text": [
      "Warning message in train.default(x = trainX, y = refactoredTrainY, method = \"gbm\", :\n",
      "“The metric \"ROC\" was not in the result set. logLoss will be used instead.”\n"
     ]
    },
    {
     "name": "stdout",
     "output_type": "stream",
     "text": [
      "[1] \"Iteration: 97/169\"\n"
     ]
    },
    {
     "name": "stderr",
     "output_type": "stream",
     "text": [
      "Warning message in train.default(x = trainX, y = refactoredTrainY, method = \"gbm\", :\n",
      "“The metric \"ROC\" was not in the result set. logLoss will be used instead.”\n"
     ]
    },
    {
     "name": "stdout",
     "output_type": "stream",
     "text": [
      "[1] \"Iteration: 98/169\"\n"
     ]
    },
    {
     "name": "stderr",
     "output_type": "stream",
     "text": [
      "Warning message in train.default(x = trainX, y = refactoredTrainY, method = \"gbm\", :\n",
      "“The metric \"ROC\" was not in the result set. logLoss will be used instead.”\n"
     ]
    },
    {
     "name": "stdout",
     "output_type": "stream",
     "text": [
      "[1] \"Iteration: 99/169\"\n"
     ]
    },
    {
     "name": "stderr",
     "output_type": "stream",
     "text": [
      "Warning message in train.default(x = trainX, y = refactoredTrainY, method = \"gbm\", :\n",
      "“The metric \"ROC\" was not in the result set. logLoss will be used instead.”\n"
     ]
    },
    {
     "name": "stdout",
     "output_type": "stream",
     "text": [
      "[1] \"Iteration: 100/169\"\n"
     ]
    },
    {
     "name": "stderr",
     "output_type": "stream",
     "text": [
      "Warning message in train.default(x = trainX, y = refactoredTrainY, method = \"gbm\", :\n",
      "“The metric \"ROC\" was not in the result set. logLoss will be used instead.”\n"
     ]
    },
    {
     "name": "stdout",
     "output_type": "stream",
     "text": [
      "[1] \"Iteration: 101/169\"\n"
     ]
    },
    {
     "name": "stderr",
     "output_type": "stream",
     "text": [
      "Warning message in train.default(x = trainX, y = refactoredTrainY, method = \"gbm\", :\n",
      "“The metric \"ROC\" was not in the result set. logLoss will be used instead.”\n"
     ]
    },
    {
     "name": "stdout",
     "output_type": "stream",
     "text": [
      "[1] \"Iteration: 102/169\"\n"
     ]
    },
    {
     "name": "stderr",
     "output_type": "stream",
     "text": [
      "Warning message in train.default(x = trainX, y = refactoredTrainY, method = \"gbm\", :\n",
      "“The metric \"ROC\" was not in the result set. logLoss will be used instead.”\n"
     ]
    },
    {
     "name": "stdout",
     "output_type": "stream",
     "text": [
      "[1] \"Iteration: 103/169\"\n"
     ]
    },
    {
     "name": "stderr",
     "output_type": "stream",
     "text": [
      "Warning message in train.default(x = trainX, y = refactoredTrainY, method = \"gbm\", :\n",
      "“The metric \"ROC\" was not in the result set. logLoss will be used instead.”\n"
     ]
    },
    {
     "name": "stdout",
     "output_type": "stream",
     "text": [
      "[1] \"Iteration: 104/169\"\n"
     ]
    },
    {
     "name": "stderr",
     "output_type": "stream",
     "text": [
      "Warning message in train.default(x = trainX, y = refactoredTrainY, method = \"gbm\", :\n",
      "“The metric \"ROC\" was not in the result set. logLoss will be used instead.”\n"
     ]
    },
    {
     "name": "stdout",
     "output_type": "stream",
     "text": [
      "[1] \"Iteration: 105/169\"\n"
     ]
    },
    {
     "name": "stderr",
     "output_type": "stream",
     "text": [
      "Warning message in train.default(x = trainX, y = refactoredTrainY, method = \"gbm\", :\n",
      "“The metric \"ROC\" was not in the result set. logLoss will be used instead.”\n"
     ]
    },
    {
     "name": "stdout",
     "output_type": "stream",
     "text": [
      "[1] \"Iteration: 106/169\"\n"
     ]
    },
    {
     "name": "stderr",
     "output_type": "stream",
     "text": [
      "Warning message in train.default(x = trainX, y = refactoredTrainY, method = \"gbm\", :\n",
      "“The metric \"ROC\" was not in the result set. logLoss will be used instead.”\n"
     ]
    },
    {
     "name": "stdout",
     "output_type": "stream",
     "text": [
      "[1] \"Iteration: 107/169\"\n"
     ]
    },
    {
     "name": "stderr",
     "output_type": "stream",
     "text": [
      "Warning message in train.default(x = trainX, y = refactoredTrainY, method = \"gbm\", :\n",
      "“The metric \"ROC\" was not in the result set. logLoss will be used instead.”\n"
     ]
    },
    {
     "name": "stdout",
     "output_type": "stream",
     "text": [
      "[1] \"Iteration: 108/169\"\n"
     ]
    },
    {
     "name": "stderr",
     "output_type": "stream",
     "text": [
      "Warning message in train.default(x = trainX, y = refactoredTrainY, method = \"gbm\", :\n",
      "“The metric \"ROC\" was not in the result set. logLoss will be used instead.”\n"
     ]
    },
    {
     "name": "stdout",
     "output_type": "stream",
     "text": [
      "[1] \"Iteration: 109/169\"\n"
     ]
    },
    {
     "name": "stderr",
     "output_type": "stream",
     "text": [
      "Warning message in train.default(x = trainX, y = refactoredTrainY, method = \"gbm\", :\n",
      "“The metric \"ROC\" was not in the result set. logLoss will be used instead.”\n"
     ]
    },
    {
     "name": "stdout",
     "output_type": "stream",
     "text": [
      "[1] \"Iteration: 110/169\"\n"
     ]
    },
    {
     "name": "stderr",
     "output_type": "stream",
     "text": [
      "Warning message in train.default(x = trainX, y = refactoredTrainY, method = \"gbm\", :\n",
      "“The metric \"ROC\" was not in the result set. logLoss will be used instead.”\n"
     ]
    },
    {
     "name": "stdout",
     "output_type": "stream",
     "text": [
      "[1] \"Iteration: 111/169\"\n"
     ]
    },
    {
     "name": "stderr",
     "output_type": "stream",
     "text": [
      "Warning message in train.default(x = trainX, y = refactoredTrainY, method = \"gbm\", :\n",
      "“The metric \"ROC\" was not in the result set. logLoss will be used instead.”\n"
     ]
    },
    {
     "name": "stdout",
     "output_type": "stream",
     "text": [
      "[1] \"Iteration: 112/169\"\n"
     ]
    },
    {
     "name": "stderr",
     "output_type": "stream",
     "text": [
      "Warning message in train.default(x = trainX, y = refactoredTrainY, method = \"gbm\", :\n",
      "“The metric \"ROC\" was not in the result set. logLoss will be used instead.”\n"
     ]
    },
    {
     "name": "stdout",
     "output_type": "stream",
     "text": [
      "[1] \"Iteration: 113/169\"\n"
     ]
    },
    {
     "name": "stderr",
     "output_type": "stream",
     "text": [
      "Warning message in train.default(x = trainX, y = refactoredTrainY, method = \"gbm\", :\n",
      "“The metric \"ROC\" was not in the result set. logLoss will be used instead.”\n"
     ]
    },
    {
     "name": "stdout",
     "output_type": "stream",
     "text": [
      "[1] \"Iteration: 114/169\"\n"
     ]
    },
    {
     "name": "stderr",
     "output_type": "stream",
     "text": [
      "Warning message in train.default(x = trainX, y = refactoredTrainY, method = \"gbm\", :\n",
      "“The metric \"ROC\" was not in the result set. logLoss will be used instead.”\n"
     ]
    },
    {
     "name": "stdout",
     "output_type": "stream",
     "text": [
      "[1] \"Iteration: 115/169\"\n"
     ]
    },
    {
     "name": "stderr",
     "output_type": "stream",
     "text": [
      "Warning message in train.default(x = trainX, y = refactoredTrainY, method = \"gbm\", :\n",
      "“The metric \"ROC\" was not in the result set. logLoss will be used instead.”\n"
     ]
    },
    {
     "name": "stdout",
     "output_type": "stream",
     "text": [
      "[1] \"Iteration: 116/169\"\n"
     ]
    },
    {
     "name": "stderr",
     "output_type": "stream",
     "text": [
      "Warning message in train.default(x = trainX, y = refactoredTrainY, method = \"gbm\", :\n",
      "“The metric \"ROC\" was not in the result set. logLoss will be used instead.”\n"
     ]
    },
    {
     "name": "stdout",
     "output_type": "stream",
     "text": [
      "[1] \"Iteration: 117/169\"\n"
     ]
    },
    {
     "name": "stderr",
     "output_type": "stream",
     "text": [
      "Warning message in train.default(x = trainX, y = refactoredTrainY, method = \"gbm\", :\n",
      "“The metric \"ROC\" was not in the result set. logLoss will be used instead.”\n"
     ]
    },
    {
     "name": "stdout",
     "output_type": "stream",
     "text": [
      "[1] \"Iteration: 118/169\"\n"
     ]
    },
    {
     "name": "stderr",
     "output_type": "stream",
     "text": [
      "Warning message in train.default(x = trainX, y = refactoredTrainY, method = \"gbm\", :\n",
      "“The metric \"ROC\" was not in the result set. logLoss will be used instead.”\n"
     ]
    },
    {
     "name": "stdout",
     "output_type": "stream",
     "text": [
      "[1] \"Iteration: 119/169\"\n"
     ]
    },
    {
     "name": "stderr",
     "output_type": "stream",
     "text": [
      "Warning message in train.default(x = trainX, y = refactoredTrainY, method = \"gbm\", :\n",
      "“The metric \"ROC\" was not in the result set. logLoss will be used instead.”\n"
     ]
    },
    {
     "name": "stdout",
     "output_type": "stream",
     "text": [
      "[1] \"Iteration: 120/169\"\n"
     ]
    },
    {
     "name": "stderr",
     "output_type": "stream",
     "text": [
      "Warning message in train.default(x = trainX, y = refactoredTrainY, method = \"gbm\", :\n",
      "“The metric \"ROC\" was not in the result set. logLoss will be used instead.”\n"
     ]
    },
    {
     "name": "stdout",
     "output_type": "stream",
     "text": [
      "[1] \"Iteration: 121/169\"\n"
     ]
    },
    {
     "name": "stderr",
     "output_type": "stream",
     "text": [
      "Warning message in train.default(x = trainX, y = refactoredTrainY, method = \"gbm\", :\n",
      "“The metric \"ROC\" was not in the result set. logLoss will be used instead.”\n"
     ]
    },
    {
     "name": "stdout",
     "output_type": "stream",
     "text": [
      "[1] \"Iteration: 122/169\"\n"
     ]
    },
    {
     "name": "stderr",
     "output_type": "stream",
     "text": [
      "Warning message in train.default(x = trainX, y = refactoredTrainY, method = \"gbm\", :\n",
      "“The metric \"ROC\" was not in the result set. logLoss will be used instead.”\n"
     ]
    },
    {
     "name": "stdout",
     "output_type": "stream",
     "text": [
      "[1] \"Iteration: 123/169\"\n"
     ]
    },
    {
     "name": "stderr",
     "output_type": "stream",
     "text": [
      "Warning message in train.default(x = trainX, y = refactoredTrainY, method = \"gbm\", :\n",
      "“The metric \"ROC\" was not in the result set. logLoss will be used instead.”\n"
     ]
    },
    {
     "name": "stdout",
     "output_type": "stream",
     "text": [
      "[1] \"Iteration: 124/169\"\n"
     ]
    },
    {
     "name": "stderr",
     "output_type": "stream",
     "text": [
      "Warning message in train.default(x = trainX, y = refactoredTrainY, method = \"gbm\", :\n",
      "“The metric \"ROC\" was not in the result set. logLoss will be used instead.”\n"
     ]
    },
    {
     "name": "stdout",
     "output_type": "stream",
     "text": [
      "[1] \"Iteration: 125/169\"\n"
     ]
    },
    {
     "name": "stderr",
     "output_type": "stream",
     "text": [
      "Warning message in train.default(x = trainX, y = refactoredTrainY, method = \"gbm\", :\n",
      "“The metric \"ROC\" was not in the result set. logLoss will be used instead.”\n"
     ]
    },
    {
     "name": "stdout",
     "output_type": "stream",
     "text": [
      "[1] \"Iteration: 126/169\"\n"
     ]
    },
    {
     "name": "stderr",
     "output_type": "stream",
     "text": [
      "Warning message in train.default(x = trainX, y = refactoredTrainY, method = \"gbm\", :\n",
      "“The metric \"ROC\" was not in the result set. logLoss will be used instead.”\n"
     ]
    },
    {
     "name": "stdout",
     "output_type": "stream",
     "text": [
      "[1] \"Iteration: 127/169\"\n"
     ]
    },
    {
     "name": "stderr",
     "output_type": "stream",
     "text": [
      "Warning message in train.default(x = trainX, y = refactoredTrainY, method = \"gbm\", :\n",
      "“The metric \"ROC\" was not in the result set. logLoss will be used instead.”\n"
     ]
    },
    {
     "name": "stdout",
     "output_type": "stream",
     "text": [
      "[1] \"Iteration: 128/169\"\n"
     ]
    },
    {
     "name": "stderr",
     "output_type": "stream",
     "text": [
      "Warning message in train.default(x = trainX, y = refactoredTrainY, method = \"gbm\", :\n",
      "“The metric \"ROC\" was not in the result set. logLoss will be used instead.”\n"
     ]
    },
    {
     "name": "stdout",
     "output_type": "stream",
     "text": [
      "[1] \"Iteration: 129/169\"\n"
     ]
    },
    {
     "name": "stderr",
     "output_type": "stream",
     "text": [
      "Warning message in train.default(x = trainX, y = refactoredTrainY, method = \"gbm\", :\n",
      "“The metric \"ROC\" was not in the result set. logLoss will be used instead.”\n"
     ]
    },
    {
     "name": "stdout",
     "output_type": "stream",
     "text": [
      "[1] \"Iteration: 130/169\"\n"
     ]
    },
    {
     "name": "stderr",
     "output_type": "stream",
     "text": [
      "Warning message in train.default(x = trainX, y = refactoredTrainY, method = \"gbm\", :\n",
      "“The metric \"ROC\" was not in the result set. logLoss will be used instead.”\n"
     ]
    },
    {
     "name": "stdout",
     "output_type": "stream",
     "text": [
      "[1] \"Iteration: 131/169\"\n"
     ]
    },
    {
     "name": "stderr",
     "output_type": "stream",
     "text": [
      "Warning message in train.default(x = trainX, y = refactoredTrainY, method = \"gbm\", :\n",
      "“The metric \"ROC\" was not in the result set. logLoss will be used instead.”\n"
     ]
    },
    {
     "name": "stdout",
     "output_type": "stream",
     "text": [
      "[1] \"Iteration: 132/169\"\n"
     ]
    },
    {
     "name": "stderr",
     "output_type": "stream",
     "text": [
      "Warning message in train.default(x = trainX, y = refactoredTrainY, method = \"gbm\", :\n",
      "“The metric \"ROC\" was not in the result set. logLoss will be used instead.”\n"
     ]
    },
    {
     "name": "stdout",
     "output_type": "stream",
     "text": [
      "[1] \"Iteration: 133/169\"\n"
     ]
    },
    {
     "name": "stderr",
     "output_type": "stream",
     "text": [
      "Warning message in train.default(x = trainX, y = refactoredTrainY, method = \"gbm\", :\n",
      "“The metric \"ROC\" was not in the result set. logLoss will be used instead.”\n"
     ]
    },
    {
     "name": "stdout",
     "output_type": "stream",
     "text": [
      "[1] \"Iteration: 134/169\"\n"
     ]
    },
    {
     "name": "stderr",
     "output_type": "stream",
     "text": [
      "Warning message in train.default(x = trainX, y = refactoredTrainY, method = \"gbm\", :\n",
      "“The metric \"ROC\" was not in the result set. logLoss will be used instead.”\n"
     ]
    },
    {
     "name": "stdout",
     "output_type": "stream",
     "text": [
      "[1] \"Iteration: 135/169\"\n"
     ]
    },
    {
     "name": "stderr",
     "output_type": "stream",
     "text": [
      "Warning message in train.default(x = trainX, y = refactoredTrainY, method = \"gbm\", :\n",
      "“The metric \"ROC\" was not in the result set. logLoss will be used instead.”\n"
     ]
    },
    {
     "name": "stdout",
     "output_type": "stream",
     "text": [
      "[1] \"Iteration: 136/169\"\n"
     ]
    },
    {
     "name": "stderr",
     "output_type": "stream",
     "text": [
      "Warning message in train.default(x = trainX, y = refactoredTrainY, method = \"gbm\", :\n",
      "“The metric \"ROC\" was not in the result set. logLoss will be used instead.”\n"
     ]
    },
    {
     "name": "stdout",
     "output_type": "stream",
     "text": [
      "[1] \"Iteration: 137/169\"\n"
     ]
    },
    {
     "name": "stderr",
     "output_type": "stream",
     "text": [
      "Warning message in train.default(x = trainX, y = refactoredTrainY, method = \"gbm\", :\n",
      "“The metric \"ROC\" was not in the result set. logLoss will be used instead.”\n"
     ]
    },
    {
     "name": "stdout",
     "output_type": "stream",
     "text": [
      "[1] \"Iteration: 138/169\"\n"
     ]
    },
    {
     "name": "stderr",
     "output_type": "stream",
     "text": [
      "Warning message in train.default(x = trainX, y = refactoredTrainY, method = \"gbm\", :\n",
      "“The metric \"ROC\" was not in the result set. logLoss will be used instead.”\n"
     ]
    },
    {
     "name": "stdout",
     "output_type": "stream",
     "text": [
      "[1] \"Iteration: 139/169\"\n"
     ]
    },
    {
     "name": "stderr",
     "output_type": "stream",
     "text": [
      "Warning message in train.default(x = trainX, y = refactoredTrainY, method = \"gbm\", :\n",
      "“The metric \"ROC\" was not in the result set. logLoss will be used instead.”\n"
     ]
    },
    {
     "name": "stdout",
     "output_type": "stream",
     "text": [
      "[1] \"Iteration: 140/169\"\n"
     ]
    },
    {
     "name": "stderr",
     "output_type": "stream",
     "text": [
      "Warning message in train.default(x = trainX, y = refactoredTrainY, method = \"gbm\", :\n",
      "“The metric \"ROC\" was not in the result set. logLoss will be used instead.”\n"
     ]
    },
    {
     "name": "stdout",
     "output_type": "stream",
     "text": [
      "[1] \"Iteration: 141/169\"\n"
     ]
    },
    {
     "name": "stderr",
     "output_type": "stream",
     "text": [
      "Warning message in train.default(x = trainX, y = refactoredTrainY, method = \"gbm\", :\n",
      "“The metric \"ROC\" was not in the result set. logLoss will be used instead.”\n"
     ]
    },
    {
     "name": "stdout",
     "output_type": "stream",
     "text": [
      "[1] \"Iteration: 142/169\"\n"
     ]
    },
    {
     "name": "stderr",
     "output_type": "stream",
     "text": [
      "Warning message in train.default(x = trainX, y = refactoredTrainY, method = \"gbm\", :\n",
      "“The metric \"ROC\" was not in the result set. logLoss will be used instead.”\n"
     ]
    },
    {
     "name": "stdout",
     "output_type": "stream",
     "text": [
      "[1] \"Iteration: 143/169\"\n"
     ]
    },
    {
     "name": "stderr",
     "output_type": "stream",
     "text": [
      "Warning message in train.default(x = trainX, y = refactoredTrainY, method = \"gbm\", :\n",
      "“The metric \"ROC\" was not in the result set. logLoss will be used instead.”\n"
     ]
    },
    {
     "name": "stdout",
     "output_type": "stream",
     "text": [
      "[1] \"Iteration: 144/169\"\n"
     ]
    },
    {
     "name": "stderr",
     "output_type": "stream",
     "text": [
      "Warning message in train.default(x = trainX, y = refactoredTrainY, method = \"gbm\", :\n",
      "“The metric \"ROC\" was not in the result set. logLoss will be used instead.”\n"
     ]
    },
    {
     "name": "stdout",
     "output_type": "stream",
     "text": [
      "[1] \"Iteration: 145/169\"\n"
     ]
    },
    {
     "name": "stderr",
     "output_type": "stream",
     "text": [
      "Warning message in train.default(x = trainX, y = refactoredTrainY, method = \"gbm\", :\n",
      "“The metric \"ROC\" was not in the result set. logLoss will be used instead.”\n"
     ]
    },
    {
     "name": "stdout",
     "output_type": "stream",
     "text": [
      "[1] \"Iteration: 146/169\"\n"
     ]
    },
    {
     "name": "stderr",
     "output_type": "stream",
     "text": [
      "Warning message in train.default(x = trainX, y = refactoredTrainY, method = \"gbm\", :\n",
      "“The metric \"ROC\" was not in the result set. logLoss will be used instead.”\n"
     ]
    },
    {
     "name": "stdout",
     "output_type": "stream",
     "text": [
      "[1] \"Iteration: 147/169\"\n"
     ]
    },
    {
     "name": "stderr",
     "output_type": "stream",
     "text": [
      "Warning message in train.default(x = trainX, y = refactoredTrainY, method = \"gbm\", :\n",
      "“The metric \"ROC\" was not in the result set. logLoss will be used instead.”\n"
     ]
    },
    {
     "name": "stdout",
     "output_type": "stream",
     "text": [
      "[1] \"Iteration: 148/169\"\n"
     ]
    },
    {
     "name": "stderr",
     "output_type": "stream",
     "text": [
      "Warning message in train.default(x = trainX, y = refactoredTrainY, method = \"gbm\", :\n",
      "“The metric \"ROC\" was not in the result set. logLoss will be used instead.”\n"
     ]
    },
    {
     "name": "stdout",
     "output_type": "stream",
     "text": [
      "[1] \"Iteration: 149/169\"\n"
     ]
    },
    {
     "name": "stderr",
     "output_type": "stream",
     "text": [
      "Warning message in train.default(x = trainX, y = refactoredTrainY, method = \"gbm\", :\n",
      "“The metric \"ROC\" was not in the result set. logLoss will be used instead.”\n"
     ]
    },
    {
     "name": "stdout",
     "output_type": "stream",
     "text": [
      "[1] \"Iteration: 150/169\"\n"
     ]
    },
    {
     "name": "stderr",
     "output_type": "stream",
     "text": [
      "Warning message in train.default(x = trainX, y = refactoredTrainY, method = \"gbm\", :\n",
      "“The metric \"ROC\" was not in the result set. logLoss will be used instead.”\n"
     ]
    },
    {
     "name": "stdout",
     "output_type": "stream",
     "text": [
      "[1] \"Iteration: 151/169\"\n"
     ]
    },
    {
     "name": "stderr",
     "output_type": "stream",
     "text": [
      "Warning message in train.default(x = trainX, y = refactoredTrainY, method = \"gbm\", :\n",
      "“The metric \"ROC\" was not in the result set. logLoss will be used instead.”\n"
     ]
    },
    {
     "name": "stdout",
     "output_type": "stream",
     "text": [
      "[1] \"Iteration: 152/169\"\n"
     ]
    },
    {
     "name": "stderr",
     "output_type": "stream",
     "text": [
      "Warning message in train.default(x = trainX, y = refactoredTrainY, method = \"gbm\", :\n",
      "“The metric \"ROC\" was not in the result set. logLoss will be used instead.”\n"
     ]
    },
    {
     "name": "stdout",
     "output_type": "stream",
     "text": [
      "[1] \"Iteration: 153/169\"\n"
     ]
    },
    {
     "name": "stderr",
     "output_type": "stream",
     "text": [
      "Warning message in train.default(x = trainX, y = refactoredTrainY, method = \"gbm\", :\n",
      "“The metric \"ROC\" was not in the result set. logLoss will be used instead.”\n"
     ]
    },
    {
     "name": "stdout",
     "output_type": "stream",
     "text": [
      "[1] \"Iteration: 154/169\"\n"
     ]
    },
    {
     "name": "stderr",
     "output_type": "stream",
     "text": [
      "Warning message in train.default(x = trainX, y = refactoredTrainY, method = \"gbm\", :\n",
      "“The metric \"ROC\" was not in the result set. logLoss will be used instead.”\n"
     ]
    },
    {
     "name": "stdout",
     "output_type": "stream",
     "text": [
      "[1] \"Iteration: 155/169\"\n"
     ]
    },
    {
     "name": "stderr",
     "output_type": "stream",
     "text": [
      "Warning message in train.default(x = trainX, y = refactoredTrainY, method = \"gbm\", :\n",
      "“The metric \"ROC\" was not in the result set. logLoss will be used instead.”\n"
     ]
    },
    {
     "name": "stdout",
     "output_type": "stream",
     "text": [
      "[1] \"Iteration: 156/169\"\n"
     ]
    },
    {
     "name": "stderr",
     "output_type": "stream",
     "text": [
      "Warning message in train.default(x = trainX, y = refactoredTrainY, method = \"gbm\", :\n",
      "“The metric \"ROC\" was not in the result set. logLoss will be used instead.”\n"
     ]
    },
    {
     "name": "stdout",
     "output_type": "stream",
     "text": [
      "[1] \"Iteration: 157/169\"\n"
     ]
    },
    {
     "name": "stderr",
     "output_type": "stream",
     "text": [
      "Warning message in train.default(x = trainX, y = refactoredTrainY, method = \"gbm\", :\n",
      "“The metric \"ROC\" was not in the result set. logLoss will be used instead.”\n"
     ]
    },
    {
     "name": "stdout",
     "output_type": "stream",
     "text": [
      "[1] \"Iteration: 158/169\"\n"
     ]
    },
    {
     "name": "stderr",
     "output_type": "stream",
     "text": [
      "Warning message in train.default(x = trainX, y = refactoredTrainY, method = \"gbm\", :\n",
      "“The metric \"ROC\" was not in the result set. logLoss will be used instead.”\n"
     ]
    },
    {
     "name": "stdout",
     "output_type": "stream",
     "text": [
      "[1] \"Iteration: 159/169\"\n"
     ]
    },
    {
     "name": "stderr",
     "output_type": "stream",
     "text": [
      "Warning message in train.default(x = trainX, y = refactoredTrainY, method = \"gbm\", :\n",
      "“The metric \"ROC\" was not in the result set. logLoss will be used instead.”\n"
     ]
    },
    {
     "name": "stdout",
     "output_type": "stream",
     "text": [
      "[1] \"Iteration: 160/169\"\n"
     ]
    },
    {
     "name": "stderr",
     "output_type": "stream",
     "text": [
      "Warning message in train.default(x = trainX, y = refactoredTrainY, method = \"gbm\", :\n",
      "“The metric \"ROC\" was not in the result set. logLoss will be used instead.”\n"
     ]
    },
    {
     "name": "stdout",
     "output_type": "stream",
     "text": [
      "[1] \"Iteration: 161/169\"\n"
     ]
    },
    {
     "name": "stderr",
     "output_type": "stream",
     "text": [
      "Warning message in train.default(x = trainX, y = refactoredTrainY, method = \"gbm\", :\n",
      "“The metric \"ROC\" was not in the result set. logLoss will be used instead.”\n"
     ]
    },
    {
     "name": "stdout",
     "output_type": "stream",
     "text": [
      "[1] \"Iteration: 162/169\"\n"
     ]
    },
    {
     "name": "stderr",
     "output_type": "stream",
     "text": [
      "Warning message in train.default(x = trainX, y = refactoredTrainY, method = \"gbm\", :\n",
      "“The metric \"ROC\" was not in the result set. logLoss will be used instead.”\n"
     ]
    },
    {
     "name": "stdout",
     "output_type": "stream",
     "text": [
      "[1] \"Iteration: 163/169\"\n"
     ]
    },
    {
     "name": "stderr",
     "output_type": "stream",
     "text": [
      "Warning message in train.default(x = trainX, y = refactoredTrainY, method = \"gbm\", :\n",
      "“The metric \"ROC\" was not in the result set. logLoss will be used instead.”\n"
     ]
    },
    {
     "name": "stdout",
     "output_type": "stream",
     "text": [
      "[1] \"Iteration: 164/169\"\n"
     ]
    },
    {
     "name": "stderr",
     "output_type": "stream",
     "text": [
      "Warning message in train.default(x = trainX, y = refactoredTrainY, method = \"gbm\", :\n",
      "“The metric \"ROC\" was not in the result set. logLoss will be used instead.”\n"
     ]
    },
    {
     "name": "stdout",
     "output_type": "stream",
     "text": [
      "[1] \"Iteration: 165/169\"\n"
     ]
    },
    {
     "name": "stderr",
     "output_type": "stream",
     "text": [
      "Warning message in train.default(x = trainX, y = refactoredTrainY, method = \"gbm\", :\n",
      "“The metric \"ROC\" was not in the result set. logLoss will be used instead.”\n"
     ]
    },
    {
     "name": "stdout",
     "output_type": "stream",
     "text": [
      "[1] \"Iteration: 166/169\"\n"
     ]
    },
    {
     "name": "stderr",
     "output_type": "stream",
     "text": [
      "Warning message in train.default(x = trainX, y = refactoredTrainY, method = \"gbm\", :\n",
      "“The metric \"ROC\" was not in the result set. logLoss will be used instead.”\n"
     ]
    },
    {
     "name": "stdout",
     "output_type": "stream",
     "text": [
      "[1] \"Iteration: 167/169\"\n"
     ]
    },
    {
     "name": "stderr",
     "output_type": "stream",
     "text": [
      "Warning message in train.default(x = trainX, y = refactoredTrainY, method = \"gbm\", :\n",
      "“The metric \"ROC\" was not in the result set. logLoss will be used instead.”\n"
     ]
    },
    {
     "name": "stdout",
     "output_type": "stream",
     "text": [
      "[1] \"Iteration: 168/169\"\n"
     ]
    },
    {
     "name": "stderr",
     "output_type": "stream",
     "text": [
      "Warning message in train.default(x = trainX, y = refactoredTrainY, method = \"gbm\", :\n",
      "“The metric \"ROC\" was not in the result set. logLoss will be used instead.”\n"
     ]
    },
    {
     "name": "stdout",
     "output_type": "stream",
     "text": [
      "[1] \"Iteration: 169/169\"\n"
     ]
    },
    {
     "name": "stderr",
     "output_type": "stream",
     "text": [
      "Warning message in train.default(x = trainX, y = refactoredTrainY, method = \"gbm\", :\n",
      "“The metric \"ROC\" was not in the result set. logLoss will be used instead.”\n"
     ]
    },
    {
     "ename": "ERROR",
     "evalue": "Error in colMeans(prob_stats, na.rm = TRUE): 'x' must be an array of at least two dimensions\n",
     "output_type": "error",
     "traceback": [
      "Error in colMeans(prob_stats, na.rm = TRUE): 'x' must be an array of at least two dimensions\nTraceback:\n",
      "1. loocvDTs(snmData = snmDataKrakenCFDecontamDPQC, samplingSize = 100, \n .     DTs = c(\"Control\", \"SKCM\", \"PRAD\", \"NSCLC\"), caretTuneGrid = defaultGBMGrid, \n .     HvsCFlag = TRUE)",
      "2. multiClassSummary(loocvPreds, lev = classes)   # at line 284 of file <text>",
      "3. colMeans(prob_stats, na.rm = TRUE)",
      "4. stop(\"'x' must be an array of at least two dimensions\")"
     ]
    }
   ],
   "source": [
    "snmDataKrakenCFDecontamDPQC<-snmData\n",
    "hVsC4 <- loocvDTs(snmData = snmDataKrakenCFDecontamDPQC,\n",
    "                 samplingSize = 100, \n",
    "                 DTs = c(\"Control\",\"SKCM\", \"PRAD\", \"NSCLC\"),\n",
    "                 caretTuneGrid = defaultGBMGrid, HvsCFlag = TRUE)"
   ]
  },
  {
   "cell_type": "code",
   "execution_count": 49,
   "metadata": {},
   "outputs": [
    {
     "name": "stderr",
     "output_type": "stream",
     "text": [
      "Groups NSCLC contain fewer rows than requested. Returning all rows.\n",
      "\n"
     ]
    },
    {
     "name": "stdout",
     "output_type": "stream",
     "text": [
      "[1] \"Iteration: 1/94\"\n"
     ]
    },
    {
     "name": "stderr",
     "output_type": "stream",
     "text": [
      "Warning message in train.default(x = trainX, y = refactoredTrainY, method = \"gbm\", :\n",
      "“The metric \"ROC\" was not in the result set. logLoss will be used instead.”\n"
     ]
    },
    {
     "name": "stdout",
     "output_type": "stream",
     "text": [
      "[1] \"Iteration: 2/94\"\n"
     ]
    },
    {
     "name": "stderr",
     "output_type": "stream",
     "text": [
      "Warning message in train.default(x = trainX, y = refactoredTrainY, method = \"gbm\", :\n",
      "“The metric \"ROC\" was not in the result set. logLoss will be used instead.”\n"
     ]
    },
    {
     "name": "stdout",
     "output_type": "stream",
     "text": [
      "[1] \"Iteration: 3/94\"\n"
     ]
    },
    {
     "name": "stderr",
     "output_type": "stream",
     "text": [
      "Warning message in train.default(x = trainX, y = refactoredTrainY, method = \"gbm\", :\n",
      "“The metric \"ROC\" was not in the result set. logLoss will be used instead.”\n"
     ]
    },
    {
     "name": "stdout",
     "output_type": "stream",
     "text": [
      "[1] \"Iteration: 4/94\"\n"
     ]
    },
    {
     "name": "stderr",
     "output_type": "stream",
     "text": [
      "Warning message in train.default(x = trainX, y = refactoredTrainY, method = \"gbm\", :\n",
      "“The metric \"ROC\" was not in the result set. logLoss will be used instead.”\n"
     ]
    },
    {
     "name": "stdout",
     "output_type": "stream",
     "text": [
      "[1] \"Iteration: 5/94\"\n"
     ]
    },
    {
     "name": "stderr",
     "output_type": "stream",
     "text": [
      "Warning message in train.default(x = trainX, y = refactoredTrainY, method = \"gbm\", :\n",
      "“The metric \"ROC\" was not in the result set. logLoss will be used instead.”\n"
     ]
    },
    {
     "name": "stdout",
     "output_type": "stream",
     "text": [
      "[1] \"Iteration: 6/94\"\n"
     ]
    },
    {
     "name": "stderr",
     "output_type": "stream",
     "text": [
      "Warning message in train.default(x = trainX, y = refactoredTrainY, method = \"gbm\", :\n",
      "“The metric \"ROC\" was not in the result set. logLoss will be used instead.”\n"
     ]
    },
    {
     "name": "stdout",
     "output_type": "stream",
     "text": [
      "[1] \"Iteration: 7/94\"\n"
     ]
    },
    {
     "name": "stderr",
     "output_type": "stream",
     "text": [
      "Warning message in train.default(x = trainX, y = refactoredTrainY, method = \"gbm\", :\n",
      "“The metric \"ROC\" was not in the result set. logLoss will be used instead.”\n"
     ]
    },
    {
     "name": "stdout",
     "output_type": "stream",
     "text": [
      "[1] \"Iteration: 8/94\"\n"
     ]
    },
    {
     "name": "stderr",
     "output_type": "stream",
     "text": [
      "Warning message in train.default(x = trainX, y = refactoredTrainY, method = \"gbm\", :\n",
      "“The metric \"ROC\" was not in the result set. logLoss will be used instead.”\n"
     ]
    },
    {
     "name": "stdout",
     "output_type": "stream",
     "text": [
      "[1] \"Iteration: 9/94\"\n"
     ]
    },
    {
     "name": "stderr",
     "output_type": "stream",
     "text": [
      "Warning message in train.default(x = trainX, y = refactoredTrainY, method = \"gbm\", :\n",
      "“The metric \"ROC\" was not in the result set. logLoss will be used instead.”\n"
     ]
    },
    {
     "name": "stdout",
     "output_type": "stream",
     "text": [
      "[1] \"Iteration: 10/94\"\n"
     ]
    },
    {
     "name": "stderr",
     "output_type": "stream",
     "text": [
      "Warning message in train.default(x = trainX, y = refactoredTrainY, method = \"gbm\", :\n",
      "“The metric \"ROC\" was not in the result set. logLoss will be used instead.”\n"
     ]
    },
    {
     "name": "stdout",
     "output_type": "stream",
     "text": [
      "[1] \"Iteration: 11/94\"\n"
     ]
    },
    {
     "name": "stderr",
     "output_type": "stream",
     "text": [
      "Warning message in train.default(x = trainX, y = refactoredTrainY, method = \"gbm\", :\n",
      "“The metric \"ROC\" was not in the result set. logLoss will be used instead.”\n"
     ]
    },
    {
     "name": "stdout",
     "output_type": "stream",
     "text": [
      "[1] \"Iteration: 12/94\"\n"
     ]
    },
    {
     "name": "stderr",
     "output_type": "stream",
     "text": [
      "Warning message in train.default(x = trainX, y = refactoredTrainY, method = \"gbm\", :\n",
      "“The metric \"ROC\" was not in the result set. logLoss will be used instead.”\n"
     ]
    },
    {
     "name": "stdout",
     "output_type": "stream",
     "text": [
      "[1] \"Iteration: 13/94\"\n"
     ]
    },
    {
     "name": "stderr",
     "output_type": "stream",
     "text": [
      "Warning message in train.default(x = trainX, y = refactoredTrainY, method = \"gbm\", :\n",
      "“The metric \"ROC\" was not in the result set. logLoss will be used instead.”\n"
     ]
    },
    {
     "name": "stdout",
     "output_type": "stream",
     "text": [
      "[1] \"Iteration: 14/94\"\n"
     ]
    },
    {
     "name": "stderr",
     "output_type": "stream",
     "text": [
      "Warning message in train.default(x = trainX, y = refactoredTrainY, method = \"gbm\", :\n",
      "“The metric \"ROC\" was not in the result set. logLoss will be used instead.”\n"
     ]
    },
    {
     "name": "stdout",
     "output_type": "stream",
     "text": [
      "[1] \"Iteration: 15/94\"\n"
     ]
    },
    {
     "name": "stderr",
     "output_type": "stream",
     "text": [
      "Warning message in train.default(x = trainX, y = refactoredTrainY, method = \"gbm\", :\n",
      "“The metric \"ROC\" was not in the result set. logLoss will be used instead.”\n"
     ]
    },
    {
     "name": "stdout",
     "output_type": "stream",
     "text": [
      "[1] \"Iteration: 16/94\"\n"
     ]
    },
    {
     "name": "stderr",
     "output_type": "stream",
     "text": [
      "Warning message in train.default(x = trainX, y = refactoredTrainY, method = \"gbm\", :\n",
      "“The metric \"ROC\" was not in the result set. logLoss will be used instead.”\n"
     ]
    },
    {
     "name": "stdout",
     "output_type": "stream",
     "text": [
      "[1] \"Iteration: 17/94\"\n"
     ]
    },
    {
     "name": "stderr",
     "output_type": "stream",
     "text": [
      "Warning message in train.default(x = trainX, y = refactoredTrainY, method = \"gbm\", :\n",
      "“The metric \"ROC\" was not in the result set. logLoss will be used instead.”\n"
     ]
    },
    {
     "name": "stdout",
     "output_type": "stream",
     "text": [
      "[1] \"Iteration: 18/94\"\n"
     ]
    },
    {
     "name": "stderr",
     "output_type": "stream",
     "text": [
      "Warning message in train.default(x = trainX, y = refactoredTrainY, method = \"gbm\", :\n",
      "“The metric \"ROC\" was not in the result set. logLoss will be used instead.”\n"
     ]
    },
    {
     "name": "stdout",
     "output_type": "stream",
     "text": [
      "[1] \"Iteration: 19/94\"\n"
     ]
    },
    {
     "name": "stderr",
     "output_type": "stream",
     "text": [
      "Warning message in train.default(x = trainX, y = refactoredTrainY, method = \"gbm\", :\n",
      "“The metric \"ROC\" was not in the result set. logLoss will be used instead.”\n"
     ]
    },
    {
     "name": "stdout",
     "output_type": "stream",
     "text": [
      "[1] \"Iteration: 20/94\"\n"
     ]
    },
    {
     "name": "stderr",
     "output_type": "stream",
     "text": [
      "Warning message in train.default(x = trainX, y = refactoredTrainY, method = \"gbm\", :\n",
      "“The metric \"ROC\" was not in the result set. logLoss will be used instead.”\n"
     ]
    },
    {
     "name": "stdout",
     "output_type": "stream",
     "text": [
      "[1] \"Iteration: 21/94\"\n"
     ]
    },
    {
     "name": "stderr",
     "output_type": "stream",
     "text": [
      "Warning message in train.default(x = trainX, y = refactoredTrainY, method = \"gbm\", :\n",
      "“The metric \"ROC\" was not in the result set. logLoss will be used instead.”\n"
     ]
    },
    {
     "name": "stdout",
     "output_type": "stream",
     "text": [
      "[1] \"Iteration: 22/94\"\n"
     ]
    },
    {
     "name": "stderr",
     "output_type": "stream",
     "text": [
      "Warning message in train.default(x = trainX, y = refactoredTrainY, method = \"gbm\", :\n",
      "“The metric \"ROC\" was not in the result set. logLoss will be used instead.”\n"
     ]
    },
    {
     "name": "stdout",
     "output_type": "stream",
     "text": [
      "[1] \"Iteration: 23/94\"\n"
     ]
    },
    {
     "name": "stderr",
     "output_type": "stream",
     "text": [
      "Warning message in train.default(x = trainX, y = refactoredTrainY, method = \"gbm\", :\n",
      "“The metric \"ROC\" was not in the result set. logLoss will be used instead.”\n"
     ]
    },
    {
     "name": "stdout",
     "output_type": "stream",
     "text": [
      "[1] \"Iteration: 24/94\"\n"
     ]
    },
    {
     "name": "stderr",
     "output_type": "stream",
     "text": [
      "Warning message in train.default(x = trainX, y = refactoredTrainY, method = \"gbm\", :\n",
      "“The metric \"ROC\" was not in the result set. logLoss will be used instead.”\n"
     ]
    },
    {
     "name": "stdout",
     "output_type": "stream",
     "text": [
      "[1] \"Iteration: 25/94\"\n"
     ]
    },
    {
     "name": "stderr",
     "output_type": "stream",
     "text": [
      "Warning message in train.default(x = trainX, y = refactoredTrainY, method = \"gbm\", :\n",
      "“The metric \"ROC\" was not in the result set. logLoss will be used instead.”\n"
     ]
    },
    {
     "name": "stdout",
     "output_type": "stream",
     "text": [
      "[1] \"Iteration: 26/94\"\n"
     ]
    },
    {
     "name": "stderr",
     "output_type": "stream",
     "text": [
      "Warning message in train.default(x = trainX, y = refactoredTrainY, method = \"gbm\", :\n",
      "“The metric \"ROC\" was not in the result set. logLoss will be used instead.”\n"
     ]
    },
    {
     "name": "stdout",
     "output_type": "stream",
     "text": [
      "[1] \"Iteration: 27/94\"\n"
     ]
    },
    {
     "name": "stderr",
     "output_type": "stream",
     "text": [
      "Warning message in train.default(x = trainX, y = refactoredTrainY, method = \"gbm\", :\n",
      "“The metric \"ROC\" was not in the result set. logLoss will be used instead.”\n"
     ]
    },
    {
     "name": "stdout",
     "output_type": "stream",
     "text": [
      "[1] \"Iteration: 28/94\"\n"
     ]
    },
    {
     "name": "stderr",
     "output_type": "stream",
     "text": [
      "Warning message in train.default(x = trainX, y = refactoredTrainY, method = \"gbm\", :\n",
      "“The metric \"ROC\" was not in the result set. logLoss will be used instead.”\n"
     ]
    },
    {
     "name": "stdout",
     "output_type": "stream",
     "text": [
      "[1] \"Iteration: 29/94\"\n"
     ]
    },
    {
     "name": "stderr",
     "output_type": "stream",
     "text": [
      "Warning message in train.default(x = trainX, y = refactoredTrainY, method = \"gbm\", :\n",
      "“The metric \"ROC\" was not in the result set. logLoss will be used instead.”\n"
     ]
    },
    {
     "name": "stdout",
     "output_type": "stream",
     "text": [
      "[1] \"Iteration: 30/94\"\n"
     ]
    },
    {
     "name": "stderr",
     "output_type": "stream",
     "text": [
      "Warning message in train.default(x = trainX, y = refactoredTrainY, method = \"gbm\", :\n",
      "“The metric \"ROC\" was not in the result set. logLoss will be used instead.”\n"
     ]
    },
    {
     "name": "stdout",
     "output_type": "stream",
     "text": [
      "[1] \"Iteration: 31/94\"\n"
     ]
    },
    {
     "name": "stderr",
     "output_type": "stream",
     "text": [
      "Warning message in train.default(x = trainX, y = refactoredTrainY, method = \"gbm\", :\n",
      "“The metric \"ROC\" was not in the result set. logLoss will be used instead.”\n"
     ]
    },
    {
     "name": "stdout",
     "output_type": "stream",
     "text": [
      "[1] \"Iteration: 32/94\"\n"
     ]
    },
    {
     "name": "stderr",
     "output_type": "stream",
     "text": [
      "Warning message in train.default(x = trainX, y = refactoredTrainY, method = \"gbm\", :\n",
      "“The metric \"ROC\" was not in the result set. logLoss will be used instead.”\n"
     ]
    },
    {
     "name": "stdout",
     "output_type": "stream",
     "text": [
      "[1] \"Iteration: 33/94\"\n"
     ]
    },
    {
     "name": "stderr",
     "output_type": "stream",
     "text": [
      "Warning message in train.default(x = trainX, y = refactoredTrainY, method = \"gbm\", :\n",
      "“The metric \"ROC\" was not in the result set. logLoss will be used instead.”\n"
     ]
    },
    {
     "name": "stdout",
     "output_type": "stream",
     "text": [
      "[1] \"Iteration: 34/94\"\n"
     ]
    },
    {
     "name": "stderr",
     "output_type": "stream",
     "text": [
      "Warning message in train.default(x = trainX, y = refactoredTrainY, method = \"gbm\", :\n",
      "“The metric \"ROC\" was not in the result set. logLoss will be used instead.”\n"
     ]
    },
    {
     "name": "stdout",
     "output_type": "stream",
     "text": [
      "[1] \"Iteration: 35/94\"\n"
     ]
    },
    {
     "name": "stderr",
     "output_type": "stream",
     "text": [
      "Warning message in train.default(x = trainX, y = refactoredTrainY, method = \"gbm\", :\n",
      "“The metric \"ROC\" was not in the result set. logLoss will be used instead.”\n"
     ]
    },
    {
     "name": "stdout",
     "output_type": "stream",
     "text": [
      "[1] \"Iteration: 36/94\"\n"
     ]
    },
    {
     "name": "stderr",
     "output_type": "stream",
     "text": [
      "Warning message in train.default(x = trainX, y = refactoredTrainY, method = \"gbm\", :\n",
      "“The metric \"ROC\" was not in the result set. logLoss will be used instead.”\n"
     ]
    },
    {
     "name": "stdout",
     "output_type": "stream",
     "text": [
      "[1] \"Iteration: 37/94\"\n"
     ]
    },
    {
     "name": "stderr",
     "output_type": "stream",
     "text": [
      "Warning message in train.default(x = trainX, y = refactoredTrainY, method = \"gbm\", :\n",
      "“The metric \"ROC\" was not in the result set. logLoss will be used instead.”\n"
     ]
    },
    {
     "name": "stdout",
     "output_type": "stream",
     "text": [
      "[1] \"Iteration: 38/94\"\n"
     ]
    },
    {
     "name": "stderr",
     "output_type": "stream",
     "text": [
      "Warning message in train.default(x = trainX, y = refactoredTrainY, method = \"gbm\", :\n",
      "“The metric \"ROC\" was not in the result set. logLoss will be used instead.”\n"
     ]
    },
    {
     "name": "stdout",
     "output_type": "stream",
     "text": [
      "[1] \"Iteration: 39/94\"\n"
     ]
    },
    {
     "name": "stderr",
     "output_type": "stream",
     "text": [
      "Warning message in train.default(x = trainX, y = refactoredTrainY, method = \"gbm\", :\n",
      "“The metric \"ROC\" was not in the result set. logLoss will be used instead.”\n"
     ]
    },
    {
     "name": "stdout",
     "output_type": "stream",
     "text": [
      "[1] \"Iteration: 40/94\"\n"
     ]
    },
    {
     "name": "stderr",
     "output_type": "stream",
     "text": [
      "Warning message in train.default(x = trainX, y = refactoredTrainY, method = \"gbm\", :\n",
      "“The metric \"ROC\" was not in the result set. logLoss will be used instead.”\n"
     ]
    },
    {
     "name": "stdout",
     "output_type": "stream",
     "text": [
      "[1] \"Iteration: 41/94\"\n"
     ]
    },
    {
     "name": "stderr",
     "output_type": "stream",
     "text": [
      "Warning message in train.default(x = trainX, y = refactoredTrainY, method = \"gbm\", :\n",
      "“The metric \"ROC\" was not in the result set. logLoss will be used instead.”\n"
     ]
    },
    {
     "name": "stdout",
     "output_type": "stream",
     "text": [
      "[1] \"Iteration: 42/94\"\n"
     ]
    },
    {
     "name": "stderr",
     "output_type": "stream",
     "text": [
      "Warning message in train.default(x = trainX, y = refactoredTrainY, method = \"gbm\", :\n",
      "“The metric \"ROC\" was not in the result set. logLoss will be used instead.”\n"
     ]
    },
    {
     "name": "stdout",
     "output_type": "stream",
     "text": [
      "[1] \"Iteration: 43/94\"\n"
     ]
    },
    {
     "name": "stderr",
     "output_type": "stream",
     "text": [
      "Warning message in train.default(x = trainX, y = refactoredTrainY, method = \"gbm\", :\n",
      "“The metric \"ROC\" was not in the result set. logLoss will be used instead.”\n"
     ]
    },
    {
     "name": "stdout",
     "output_type": "stream",
     "text": [
      "[1] \"Iteration: 44/94\"\n"
     ]
    },
    {
     "name": "stderr",
     "output_type": "stream",
     "text": [
      "Warning message in train.default(x = trainX, y = refactoredTrainY, method = \"gbm\", :\n",
      "“The metric \"ROC\" was not in the result set. logLoss will be used instead.”\n"
     ]
    },
    {
     "name": "stdout",
     "output_type": "stream",
     "text": [
      "[1] \"Iteration: 45/94\"\n"
     ]
    },
    {
     "name": "stderr",
     "output_type": "stream",
     "text": [
      "Warning message in train.default(x = trainX, y = refactoredTrainY, method = \"gbm\", :\n",
      "“The metric \"ROC\" was not in the result set. logLoss will be used instead.”\n"
     ]
    },
    {
     "name": "stdout",
     "output_type": "stream",
     "text": [
      "[1] \"Iteration: 46/94\"\n"
     ]
    },
    {
     "name": "stderr",
     "output_type": "stream",
     "text": [
      "Warning message in train.default(x = trainX, y = refactoredTrainY, method = \"gbm\", :\n",
      "“The metric \"ROC\" was not in the result set. logLoss will be used instead.”\n"
     ]
    },
    {
     "name": "stdout",
     "output_type": "stream",
     "text": [
      "[1] \"Iteration: 47/94\"\n"
     ]
    },
    {
     "name": "stderr",
     "output_type": "stream",
     "text": [
      "Warning message in train.default(x = trainX, y = refactoredTrainY, method = \"gbm\", :\n",
      "“The metric \"ROC\" was not in the result set. logLoss will be used instead.”\n"
     ]
    },
    {
     "name": "stdout",
     "output_type": "stream",
     "text": [
      "[1] \"Iteration: 48/94\"\n"
     ]
    },
    {
     "name": "stderr",
     "output_type": "stream",
     "text": [
      "Warning message in train.default(x = trainX, y = refactoredTrainY, method = \"gbm\", :\n",
      "“The metric \"ROC\" was not in the result set. logLoss will be used instead.”\n"
     ]
    },
    {
     "name": "stdout",
     "output_type": "stream",
     "text": [
      "[1] \"Iteration: 49/94\"\n"
     ]
    },
    {
     "name": "stderr",
     "output_type": "stream",
     "text": [
      "Warning message in train.default(x = trainX, y = refactoredTrainY, method = \"gbm\", :\n",
      "“The metric \"ROC\" was not in the result set. logLoss will be used instead.”\n"
     ]
    },
    {
     "name": "stdout",
     "output_type": "stream",
     "text": [
      "[1] \"Iteration: 50/94\"\n"
     ]
    },
    {
     "name": "stderr",
     "output_type": "stream",
     "text": [
      "Warning message in train.default(x = trainX, y = refactoredTrainY, method = \"gbm\", :\n",
      "“The metric \"ROC\" was not in the result set. logLoss will be used instead.”\n"
     ]
    },
    {
     "name": "stdout",
     "output_type": "stream",
     "text": [
      "[1] \"Iteration: 51/94\"\n"
     ]
    },
    {
     "name": "stderr",
     "output_type": "stream",
     "text": [
      "Warning message in train.default(x = trainX, y = refactoredTrainY, method = \"gbm\", :\n",
      "“The metric \"ROC\" was not in the result set. logLoss will be used instead.”\n"
     ]
    },
    {
     "name": "stdout",
     "output_type": "stream",
     "text": [
      "[1] \"Iteration: 52/94\"\n"
     ]
    },
    {
     "name": "stderr",
     "output_type": "stream",
     "text": [
      "Warning message in train.default(x = trainX, y = refactoredTrainY, method = \"gbm\", :\n",
      "“The metric \"ROC\" was not in the result set. logLoss will be used instead.”\n"
     ]
    },
    {
     "name": "stdout",
     "output_type": "stream",
     "text": [
      "[1] \"Iteration: 53/94\"\n"
     ]
    },
    {
     "name": "stderr",
     "output_type": "stream",
     "text": [
      "Warning message in train.default(x = trainX, y = refactoredTrainY, method = \"gbm\", :\n",
      "“The metric \"ROC\" was not in the result set. logLoss will be used instead.”\n"
     ]
    },
    {
     "name": "stdout",
     "output_type": "stream",
     "text": [
      "[1] \"Iteration: 54/94\"\n"
     ]
    },
    {
     "name": "stderr",
     "output_type": "stream",
     "text": [
      "Warning message in train.default(x = trainX, y = refactoredTrainY, method = \"gbm\", :\n",
      "“The metric \"ROC\" was not in the result set. logLoss will be used instead.”\n"
     ]
    },
    {
     "name": "stdout",
     "output_type": "stream",
     "text": [
      "[1] \"Iteration: 55/94\"\n"
     ]
    },
    {
     "name": "stderr",
     "output_type": "stream",
     "text": [
      "Warning message in train.default(x = trainX, y = refactoredTrainY, method = \"gbm\", :\n",
      "“The metric \"ROC\" was not in the result set. logLoss will be used instead.”\n"
     ]
    },
    {
     "name": "stdout",
     "output_type": "stream",
     "text": [
      "[1] \"Iteration: 56/94\"\n"
     ]
    },
    {
     "name": "stderr",
     "output_type": "stream",
     "text": [
      "Warning message in train.default(x = trainX, y = refactoredTrainY, method = \"gbm\", :\n",
      "“The metric \"ROC\" was not in the result set. logLoss will be used instead.”\n"
     ]
    },
    {
     "name": "stdout",
     "output_type": "stream",
     "text": [
      "[1] \"Iteration: 57/94\"\n"
     ]
    },
    {
     "name": "stderr",
     "output_type": "stream",
     "text": [
      "Warning message in train.default(x = trainX, y = refactoredTrainY, method = \"gbm\", :\n",
      "“The metric \"ROC\" was not in the result set. logLoss will be used instead.”\n"
     ]
    },
    {
     "name": "stdout",
     "output_type": "stream",
     "text": [
      "[1] \"Iteration: 58/94\"\n"
     ]
    },
    {
     "name": "stderr",
     "output_type": "stream",
     "text": [
      "Warning message in train.default(x = trainX, y = refactoredTrainY, method = \"gbm\", :\n",
      "“The metric \"ROC\" was not in the result set. logLoss will be used instead.”\n"
     ]
    },
    {
     "name": "stdout",
     "output_type": "stream",
     "text": [
      "[1] \"Iteration: 59/94\"\n"
     ]
    },
    {
     "name": "stderr",
     "output_type": "stream",
     "text": [
      "Warning message in train.default(x = trainX, y = refactoredTrainY, method = \"gbm\", :\n",
      "“The metric \"ROC\" was not in the result set. logLoss will be used instead.”\n"
     ]
    },
    {
     "name": "stdout",
     "output_type": "stream",
     "text": [
      "[1] \"Iteration: 60/94\"\n"
     ]
    },
    {
     "name": "stderr",
     "output_type": "stream",
     "text": [
      "Warning message in train.default(x = trainX, y = refactoredTrainY, method = \"gbm\", :\n",
      "“The metric \"ROC\" was not in the result set. logLoss will be used instead.”\n"
     ]
    },
    {
     "name": "stdout",
     "output_type": "stream",
     "text": [
      "[1] \"Iteration: 61/94\"\n"
     ]
    },
    {
     "name": "stderr",
     "output_type": "stream",
     "text": [
      "Warning message in train.default(x = trainX, y = refactoredTrainY, method = \"gbm\", :\n",
      "“The metric \"ROC\" was not in the result set. logLoss will be used instead.”\n"
     ]
    },
    {
     "name": "stdout",
     "output_type": "stream",
     "text": [
      "[1] \"Iteration: 62/94\"\n"
     ]
    },
    {
     "name": "stderr",
     "output_type": "stream",
     "text": [
      "Warning message in train.default(x = trainX, y = refactoredTrainY, method = \"gbm\", :\n",
      "“The metric \"ROC\" was not in the result set. logLoss will be used instead.”\n"
     ]
    },
    {
     "name": "stdout",
     "output_type": "stream",
     "text": [
      "[1] \"Iteration: 63/94\"\n"
     ]
    },
    {
     "name": "stderr",
     "output_type": "stream",
     "text": [
      "Warning message in train.default(x = trainX, y = refactoredTrainY, method = \"gbm\", :\n",
      "“The metric \"ROC\" was not in the result set. logLoss will be used instead.”\n"
     ]
    },
    {
     "name": "stdout",
     "output_type": "stream",
     "text": [
      "[1] \"Iteration: 64/94\"\n"
     ]
    },
    {
     "name": "stderr",
     "output_type": "stream",
     "text": [
      "Warning message in train.default(x = trainX, y = refactoredTrainY, method = \"gbm\", :\n",
      "“The metric \"ROC\" was not in the result set. logLoss will be used instead.”\n"
     ]
    },
    {
     "name": "stdout",
     "output_type": "stream",
     "text": [
      "[1] \"Iteration: 65/94\"\n"
     ]
    },
    {
     "name": "stderr",
     "output_type": "stream",
     "text": [
      "Warning message in train.default(x = trainX, y = refactoredTrainY, method = \"gbm\", :\n",
      "“The metric \"ROC\" was not in the result set. logLoss will be used instead.”\n"
     ]
    },
    {
     "name": "stdout",
     "output_type": "stream",
     "text": [
      "[1] \"Iteration: 66/94\"\n"
     ]
    },
    {
     "name": "stderr",
     "output_type": "stream",
     "text": [
      "Warning message in train.default(x = trainX, y = refactoredTrainY, method = \"gbm\", :\n",
      "“The metric \"ROC\" was not in the result set. logLoss will be used instead.”\n"
     ]
    },
    {
     "name": "stdout",
     "output_type": "stream",
     "text": [
      "[1] \"Iteration: 67/94\"\n"
     ]
    },
    {
     "name": "stderr",
     "output_type": "stream",
     "text": [
      "Warning message in train.default(x = trainX, y = refactoredTrainY, method = \"gbm\", :\n",
      "“The metric \"ROC\" was not in the result set. logLoss will be used instead.”\n"
     ]
    },
    {
     "name": "stdout",
     "output_type": "stream",
     "text": [
      "[1] \"Iteration: 68/94\"\n"
     ]
    },
    {
     "name": "stderr",
     "output_type": "stream",
     "text": [
      "Warning message in train.default(x = trainX, y = refactoredTrainY, method = \"gbm\", :\n",
      "“The metric \"ROC\" was not in the result set. logLoss will be used instead.”\n"
     ]
    },
    {
     "name": "stdout",
     "output_type": "stream",
     "text": [
      "[1] \"Iteration: 69/94\"\n"
     ]
    },
    {
     "name": "stderr",
     "output_type": "stream",
     "text": [
      "Warning message in train.default(x = trainX, y = refactoredTrainY, method = \"gbm\", :\n",
      "“The metric \"ROC\" was not in the result set. logLoss will be used instead.”\n"
     ]
    },
    {
     "name": "stdout",
     "output_type": "stream",
     "text": [
      "[1] \"Iteration: 70/94\"\n"
     ]
    },
    {
     "name": "stderr",
     "output_type": "stream",
     "text": [
      "Warning message in train.default(x = trainX, y = refactoredTrainY, method = \"gbm\", :\n",
      "“The metric \"ROC\" was not in the result set. logLoss will be used instead.”\n"
     ]
    },
    {
     "name": "stdout",
     "output_type": "stream",
     "text": [
      "[1] \"Iteration: 71/94\"\n"
     ]
    },
    {
     "name": "stderr",
     "output_type": "stream",
     "text": [
      "Warning message in train.default(x = trainX, y = refactoredTrainY, method = \"gbm\", :\n",
      "“The metric \"ROC\" was not in the result set. logLoss will be used instead.”\n"
     ]
    },
    {
     "name": "stdout",
     "output_type": "stream",
     "text": [
      "[1] \"Iteration: 72/94\"\n"
     ]
    },
    {
     "name": "stderr",
     "output_type": "stream",
     "text": [
      "Warning message in train.default(x = trainX, y = refactoredTrainY, method = \"gbm\", :\n",
      "“The metric \"ROC\" was not in the result set. logLoss will be used instead.”\n"
     ]
    },
    {
     "name": "stdout",
     "output_type": "stream",
     "text": [
      "[1] \"Iteration: 73/94\"\n"
     ]
    },
    {
     "name": "stderr",
     "output_type": "stream",
     "text": [
      "Warning message in train.default(x = trainX, y = refactoredTrainY, method = \"gbm\", :\n",
      "“The metric \"ROC\" was not in the result set. logLoss will be used instead.”\n"
     ]
    },
    {
     "name": "stdout",
     "output_type": "stream",
     "text": [
      "[1] \"Iteration: 74/94\"\n"
     ]
    },
    {
     "name": "stderr",
     "output_type": "stream",
     "text": [
      "Warning message in train.default(x = trainX, y = refactoredTrainY, method = \"gbm\", :\n",
      "“The metric \"ROC\" was not in the result set. logLoss will be used instead.”\n"
     ]
    },
    {
     "name": "stdout",
     "output_type": "stream",
     "text": [
      "[1] \"Iteration: 75/94\"\n"
     ]
    },
    {
     "name": "stderr",
     "output_type": "stream",
     "text": [
      "Warning message in train.default(x = trainX, y = refactoredTrainY, method = \"gbm\", :\n",
      "“The metric \"ROC\" was not in the result set. logLoss will be used instead.”\n"
     ]
    },
    {
     "name": "stdout",
     "output_type": "stream",
     "text": [
      "[1] \"Iteration: 76/94\"\n"
     ]
    },
    {
     "name": "stderr",
     "output_type": "stream",
     "text": [
      "Warning message in train.default(x = trainX, y = refactoredTrainY, method = \"gbm\", :\n",
      "“The metric \"ROC\" was not in the result set. logLoss will be used instead.”\n"
     ]
    },
    {
     "name": "stdout",
     "output_type": "stream",
     "text": [
      "[1] \"Iteration: 77/94\"\n"
     ]
    },
    {
     "name": "stderr",
     "output_type": "stream",
     "text": [
      "Warning message in train.default(x = trainX, y = refactoredTrainY, method = \"gbm\", :\n",
      "“The metric \"ROC\" was not in the result set. logLoss will be used instead.”\n"
     ]
    },
    {
     "name": "stdout",
     "output_type": "stream",
     "text": [
      "[1] \"Iteration: 78/94\"\n"
     ]
    },
    {
     "name": "stderr",
     "output_type": "stream",
     "text": [
      "Warning message in train.default(x = trainX, y = refactoredTrainY, method = \"gbm\", :\n",
      "“The metric \"ROC\" was not in the result set. logLoss will be used instead.”\n"
     ]
    },
    {
     "name": "stdout",
     "output_type": "stream",
     "text": [
      "[1] \"Iteration: 79/94\"\n"
     ]
    },
    {
     "name": "stderr",
     "output_type": "stream",
     "text": [
      "Warning message in train.default(x = trainX, y = refactoredTrainY, method = \"gbm\", :\n",
      "“The metric \"ROC\" was not in the result set. logLoss will be used instead.”\n"
     ]
    },
    {
     "name": "stdout",
     "output_type": "stream",
     "text": [
      "[1] \"Iteration: 80/94\"\n"
     ]
    },
    {
     "name": "stderr",
     "output_type": "stream",
     "text": [
      "Warning message in train.default(x = trainX, y = refactoredTrainY, method = \"gbm\", :\n",
      "“The metric \"ROC\" was not in the result set. logLoss will be used instead.”\n"
     ]
    },
    {
     "name": "stdout",
     "output_type": "stream",
     "text": [
      "[1] \"Iteration: 81/94\"\n"
     ]
    },
    {
     "name": "stderr",
     "output_type": "stream",
     "text": [
      "Warning message in train.default(x = trainX, y = refactoredTrainY, method = \"gbm\", :\n",
      "“The metric \"ROC\" was not in the result set. logLoss will be used instead.”\n"
     ]
    },
    {
     "name": "stdout",
     "output_type": "stream",
     "text": [
      "[1] \"Iteration: 82/94\"\n"
     ]
    },
    {
     "name": "stderr",
     "output_type": "stream",
     "text": [
      "Warning message in train.default(x = trainX, y = refactoredTrainY, method = \"gbm\", :\n",
      "“The metric \"ROC\" was not in the result set. logLoss will be used instead.”\n"
     ]
    },
    {
     "name": "stdout",
     "output_type": "stream",
     "text": [
      "[1] \"Iteration: 83/94\"\n"
     ]
    },
    {
     "name": "stderr",
     "output_type": "stream",
     "text": [
      "Warning message in train.default(x = trainX, y = refactoredTrainY, method = \"gbm\", :\n",
      "“The metric \"ROC\" was not in the result set. logLoss will be used instead.”\n"
     ]
    },
    {
     "name": "stdout",
     "output_type": "stream",
     "text": [
      "[1] \"Iteration: 84/94\"\n"
     ]
    },
    {
     "name": "stderr",
     "output_type": "stream",
     "text": [
      "Warning message in train.default(x = trainX, y = refactoredTrainY, method = \"gbm\", :\n",
      "“The metric \"ROC\" was not in the result set. logLoss will be used instead.”\n"
     ]
    },
    {
     "name": "stdout",
     "output_type": "stream",
     "text": [
      "[1] \"Iteration: 85/94\"\n"
     ]
    },
    {
     "name": "stderr",
     "output_type": "stream",
     "text": [
      "Warning message in train.default(x = trainX, y = refactoredTrainY, method = \"gbm\", :\n",
      "“The metric \"ROC\" was not in the result set. logLoss will be used instead.”\n"
     ]
    },
    {
     "name": "stdout",
     "output_type": "stream",
     "text": [
      "[1] \"Iteration: 86/94\"\n"
     ]
    },
    {
     "name": "stderr",
     "output_type": "stream",
     "text": [
      "Warning message in train.default(x = trainX, y = refactoredTrainY, method = \"gbm\", :\n",
      "“The metric \"ROC\" was not in the result set. logLoss will be used instead.”\n"
     ]
    },
    {
     "name": "stdout",
     "output_type": "stream",
     "text": [
      "[1] \"Iteration: 87/94\"\n"
     ]
    },
    {
     "name": "stderr",
     "output_type": "stream",
     "text": [
      "Warning message in train.default(x = trainX, y = refactoredTrainY, method = \"gbm\", :\n",
      "“The metric \"ROC\" was not in the result set. logLoss will be used instead.”\n"
     ]
    },
    {
     "name": "stdout",
     "output_type": "stream",
     "text": [
      "[1] \"Iteration: 88/94\"\n"
     ]
    },
    {
     "name": "stderr",
     "output_type": "stream",
     "text": [
      "Warning message in train.default(x = trainX, y = refactoredTrainY, method = \"gbm\", :\n",
      "“The metric \"ROC\" was not in the result set. logLoss will be used instead.”\n"
     ]
    },
    {
     "name": "stdout",
     "output_type": "stream",
     "text": [
      "[1] \"Iteration: 89/94\"\n"
     ]
    },
    {
     "name": "stderr",
     "output_type": "stream",
     "text": [
      "Warning message in train.default(x = trainX, y = refactoredTrainY, method = \"gbm\", :\n",
      "“The metric \"ROC\" was not in the result set. logLoss will be used instead.”\n"
     ]
    },
    {
     "name": "stdout",
     "output_type": "stream",
     "text": [
      "[1] \"Iteration: 90/94\"\n"
     ]
    },
    {
     "name": "stderr",
     "output_type": "stream",
     "text": [
      "Warning message in train.default(x = trainX, y = refactoredTrainY, method = \"gbm\", :\n",
      "“The metric \"ROC\" was not in the result set. logLoss will be used instead.”\n"
     ]
    },
    {
     "name": "stdout",
     "output_type": "stream",
     "text": [
      "[1] \"Iteration: 91/94\"\n"
     ]
    },
    {
     "name": "stderr",
     "output_type": "stream",
     "text": [
      "Warning message in train.default(x = trainX, y = refactoredTrainY, method = \"gbm\", :\n",
      "“The metric \"ROC\" was not in the result set. logLoss will be used instead.”\n"
     ]
    },
    {
     "name": "stdout",
     "output_type": "stream",
     "text": [
      "[1] \"Iteration: 92/94\"\n"
     ]
    },
    {
     "name": "stderr",
     "output_type": "stream",
     "text": [
      "Warning message in train.default(x = trainX, y = refactoredTrainY, method = \"gbm\", :\n",
      "“The metric \"ROC\" was not in the result set. logLoss will be used instead.”\n"
     ]
    },
    {
     "name": "stdout",
     "output_type": "stream",
     "text": [
      "[1] \"Iteration: 93/94\"\n"
     ]
    },
    {
     "name": "stderr",
     "output_type": "stream",
     "text": [
      "Warning message in train.default(x = trainX, y = refactoredTrainY, method = \"gbm\", :\n",
      "“The metric \"ROC\" was not in the result set. logLoss will be used instead.”\n"
     ]
    },
    {
     "name": "stdout",
     "output_type": "stream",
     "text": [
      "[1] \"Iteration: 94/94\"\n"
     ]
    },
    {
     "name": "stderr",
     "output_type": "stream",
     "text": [
      "Warning message in train.default(x = trainX, y = refactoredTrainY, method = \"gbm\", :\n",
      "“The metric \"ROC\" was not in the result set. logLoss will be used instead.”\n"
     ]
    },
    {
     "name": "stdout",
     "output_type": "stream",
     "text": [
      "          logLoss               AUC             prAUC          Accuracy \n",
      "        0.2182512         0.9710145         0.9346630         0.9042553 \n",
      "            Kappa                F1       Sensitivity       Specificity \n",
      "        0.7638191         0.8301887         0.8800000         0.9130435 \n",
      "   Pos_Pred_Value    Neg_Pred_Value         Precision            Recall \n",
      "        0.7857143         0.9545455         0.7857143         0.8800000 \n",
      "   Detection_Rate Balanced_Accuracy \n",
      "        0.2340426         0.8965217 \n",
      "Confusion Matrix and Statistics\n",
      "\n",
      "          Reference\n",
      "Prediction NSCLC Control\n",
      "   NSCLC      22       3\n",
      "   Control     6      63\n",
      "                                         \n",
      "               Accuracy : 0.9043         \n",
      "                 95% CI : (0.826, 0.9553)\n",
      "    No Information Rate : 0.7021         \n",
      "    P-Value [Acc > NIR] : 2.272e-06      \n",
      "                                         \n",
      "                  Kappa : 0.7638         \n",
      "                                         \n",
      " Mcnemar's Test P-Value : 0.505          \n",
      "                                         \n",
      "            Sensitivity : 0.7857         \n",
      "            Specificity : 0.9545         \n",
      "         Pos Pred Value : 0.8800         \n",
      "         Neg Pred Value : 0.9130         \n",
      "             Prevalence : 0.2979         \n",
      "         Detection Rate : 0.2340         \n",
      "   Detection Prevalence : 0.2660         \n",
      "      Balanced Accuracy : 0.8701         \n",
      "                                         \n",
      "       'Positive' Class : NSCLC          \n",
      "                                         \n"
     ]
    }
   ],
   "source": [
    "hVsC_NSCLC <- loocvDTs(snmData = snmDataKrakenCFDecontamDPQC,\n",
    "                 samplingSize = 69, \n",
    "                 DTs = c(\"NSCLC\",\"Control\"),\n",
    "                 caretTuneGrid = defaultGBMGrid)"
   ]
  },
  {
   "cell_type": "code",
   "execution_count": 50,
   "metadata": {},
   "outputs": [
    {
     "name": "stderr",
     "output_type": "stream",
     "text": [
      "Groups NSCLC contain fewer rows than requested. Returning all rows.\n",
      "\n"
     ]
    },
    {
     "name": "stdout",
     "output_type": "stream",
     "text": [
      "[1] \"Iteration: 1/84\"\n"
     ]
    },
    {
     "name": "stderr",
     "output_type": "stream",
     "text": [
      "Warning message in train.default(x = trainX, y = refactoredTrainY, method = \"gbm\", :\n",
      "“The metric \"ROC\" was not in the result set. logLoss will be used instead.”\n"
     ]
    },
    {
     "name": "stdout",
     "output_type": "stream",
     "text": [
      "[1] \"Iteration: 2/84\"\n"
     ]
    },
    {
     "name": "stderr",
     "output_type": "stream",
     "text": [
      "Warning message in train.default(x = trainX, y = refactoredTrainY, method = \"gbm\", :\n",
      "“The metric \"ROC\" was not in the result set. logLoss will be used instead.”\n"
     ]
    },
    {
     "name": "stdout",
     "output_type": "stream",
     "text": [
      "[1] \"Iteration: 3/84\"\n"
     ]
    },
    {
     "name": "stderr",
     "output_type": "stream",
     "text": [
      "Warning message in train.default(x = trainX, y = refactoredTrainY, method = \"gbm\", :\n",
      "“The metric \"ROC\" was not in the result set. logLoss will be used instead.”\n"
     ]
    },
    {
     "name": "stdout",
     "output_type": "stream",
     "text": [
      "[1] \"Iteration: 4/84\"\n"
     ]
    },
    {
     "name": "stderr",
     "output_type": "stream",
     "text": [
      "Warning message in train.default(x = trainX, y = refactoredTrainY, method = \"gbm\", :\n",
      "“The metric \"ROC\" was not in the result set. logLoss will be used instead.”\n"
     ]
    },
    {
     "name": "stdout",
     "output_type": "stream",
     "text": [
      "[1] \"Iteration: 5/84\"\n"
     ]
    },
    {
     "name": "stderr",
     "output_type": "stream",
     "text": [
      "Warning message in train.default(x = trainX, y = refactoredTrainY, method = \"gbm\", :\n",
      "“The metric \"ROC\" was not in the result set. logLoss will be used instead.”\n"
     ]
    },
    {
     "name": "stdout",
     "output_type": "stream",
     "text": [
      "[1] \"Iteration: 6/84\"\n"
     ]
    },
    {
     "name": "stderr",
     "output_type": "stream",
     "text": [
      "Warning message in train.default(x = trainX, y = refactoredTrainY, method = \"gbm\", :\n",
      "“The metric \"ROC\" was not in the result set. logLoss will be used instead.”\n"
     ]
    },
    {
     "name": "stdout",
     "output_type": "stream",
     "text": [
      "[1] \"Iteration: 7/84\"\n"
     ]
    },
    {
     "name": "stderr",
     "output_type": "stream",
     "text": [
      "Warning message in train.default(x = trainX, y = refactoredTrainY, method = \"gbm\", :\n",
      "“The metric \"ROC\" was not in the result set. logLoss will be used instead.”\n"
     ]
    },
    {
     "name": "stdout",
     "output_type": "stream",
     "text": [
      "[1] \"Iteration: 8/84\"\n"
     ]
    },
    {
     "name": "stderr",
     "output_type": "stream",
     "text": [
      "Warning message in train.default(x = trainX, y = refactoredTrainY, method = \"gbm\", :\n",
      "“The metric \"ROC\" was not in the result set. logLoss will be used instead.”\n"
     ]
    },
    {
     "name": "stdout",
     "output_type": "stream",
     "text": [
      "[1] \"Iteration: 9/84\"\n"
     ]
    },
    {
     "name": "stderr",
     "output_type": "stream",
     "text": [
      "Warning message in train.default(x = trainX, y = refactoredTrainY, method = \"gbm\", :\n",
      "“The metric \"ROC\" was not in the result set. logLoss will be used instead.”\n"
     ]
    },
    {
     "name": "stdout",
     "output_type": "stream",
     "text": [
      "[1] \"Iteration: 10/84\"\n"
     ]
    },
    {
     "name": "stderr",
     "output_type": "stream",
     "text": [
      "Warning message in train.default(x = trainX, y = refactoredTrainY, method = \"gbm\", :\n",
      "“The metric \"ROC\" was not in the result set. logLoss will be used instead.”\n"
     ]
    },
    {
     "name": "stdout",
     "output_type": "stream",
     "text": [
      "[1] \"Iteration: 11/84\"\n"
     ]
    },
    {
     "name": "stderr",
     "output_type": "stream",
     "text": [
      "Warning message in train.default(x = trainX, y = refactoredTrainY, method = \"gbm\", :\n",
      "“The metric \"ROC\" was not in the result set. logLoss will be used instead.”\n"
     ]
    },
    {
     "name": "stdout",
     "output_type": "stream",
     "text": [
      "[1] \"Iteration: 12/84\"\n"
     ]
    },
    {
     "name": "stderr",
     "output_type": "stream",
     "text": [
      "Warning message in train.default(x = trainX, y = refactoredTrainY, method = \"gbm\", :\n",
      "“The metric \"ROC\" was not in the result set. logLoss will be used instead.”\n"
     ]
    },
    {
     "name": "stdout",
     "output_type": "stream",
     "text": [
      "[1] \"Iteration: 13/84\"\n"
     ]
    },
    {
     "name": "stderr",
     "output_type": "stream",
     "text": [
      "Warning message in train.default(x = trainX, y = refactoredTrainY, method = \"gbm\", :\n",
      "“The metric \"ROC\" was not in the result set. logLoss will be used instead.”\n"
     ]
    },
    {
     "name": "stdout",
     "output_type": "stream",
     "text": [
      "[1] \"Iteration: 14/84\"\n"
     ]
    },
    {
     "name": "stderr",
     "output_type": "stream",
     "text": [
      "Warning message in train.default(x = trainX, y = refactoredTrainY, method = \"gbm\", :\n",
      "“The metric \"ROC\" was not in the result set. logLoss will be used instead.”\n"
     ]
    },
    {
     "name": "stdout",
     "output_type": "stream",
     "text": [
      "[1] \"Iteration: 15/84\"\n"
     ]
    },
    {
     "name": "stderr",
     "output_type": "stream",
     "text": [
      "Warning message in train.default(x = trainX, y = refactoredTrainY, method = \"gbm\", :\n",
      "“The metric \"ROC\" was not in the result set. logLoss will be used instead.”\n"
     ]
    },
    {
     "name": "stdout",
     "output_type": "stream",
     "text": [
      "[1] \"Iteration: 16/84\"\n"
     ]
    },
    {
     "name": "stderr",
     "output_type": "stream",
     "text": [
      "Warning message in train.default(x = trainX, y = refactoredTrainY, method = \"gbm\", :\n",
      "“The metric \"ROC\" was not in the result set. logLoss will be used instead.”\n"
     ]
    },
    {
     "name": "stdout",
     "output_type": "stream",
     "text": [
      "[1] \"Iteration: 17/84\"\n"
     ]
    },
    {
     "name": "stderr",
     "output_type": "stream",
     "text": [
      "Warning message in train.default(x = trainX, y = refactoredTrainY, method = \"gbm\", :\n",
      "“The metric \"ROC\" was not in the result set. logLoss will be used instead.”\n"
     ]
    },
    {
     "name": "stdout",
     "output_type": "stream",
     "text": [
      "[1] \"Iteration: 18/84\"\n"
     ]
    },
    {
     "name": "stderr",
     "output_type": "stream",
     "text": [
      "Warning message in train.default(x = trainX, y = refactoredTrainY, method = \"gbm\", :\n",
      "“The metric \"ROC\" was not in the result set. logLoss will be used instead.”\n"
     ]
    },
    {
     "name": "stdout",
     "output_type": "stream",
     "text": [
      "[1] \"Iteration: 19/84\"\n"
     ]
    },
    {
     "name": "stderr",
     "output_type": "stream",
     "text": [
      "Warning message in train.default(x = trainX, y = refactoredTrainY, method = \"gbm\", :\n",
      "“The metric \"ROC\" was not in the result set. logLoss will be used instead.”\n"
     ]
    },
    {
     "name": "stdout",
     "output_type": "stream",
     "text": [
      "[1] \"Iteration: 20/84\"\n"
     ]
    },
    {
     "name": "stderr",
     "output_type": "stream",
     "text": [
      "Warning message in train.default(x = trainX, y = refactoredTrainY, method = \"gbm\", :\n",
      "“The metric \"ROC\" was not in the result set. logLoss will be used instead.”\n"
     ]
    },
    {
     "name": "stdout",
     "output_type": "stream",
     "text": [
      "[1] \"Iteration: 21/84\"\n"
     ]
    },
    {
     "name": "stderr",
     "output_type": "stream",
     "text": [
      "Warning message in train.default(x = trainX, y = refactoredTrainY, method = \"gbm\", :\n",
      "“The metric \"ROC\" was not in the result set. logLoss will be used instead.”\n"
     ]
    },
    {
     "name": "stdout",
     "output_type": "stream",
     "text": [
      "[1] \"Iteration: 22/84\"\n"
     ]
    },
    {
     "name": "stderr",
     "output_type": "stream",
     "text": [
      "Warning message in train.default(x = trainX, y = refactoredTrainY, method = \"gbm\", :\n",
      "“The metric \"ROC\" was not in the result set. logLoss will be used instead.”\n"
     ]
    },
    {
     "name": "stdout",
     "output_type": "stream",
     "text": [
      "[1] \"Iteration: 23/84\"\n"
     ]
    },
    {
     "name": "stderr",
     "output_type": "stream",
     "text": [
      "Warning message in train.default(x = trainX, y = refactoredTrainY, method = \"gbm\", :\n",
      "“The metric \"ROC\" was not in the result set. logLoss will be used instead.”\n"
     ]
    },
    {
     "name": "stdout",
     "output_type": "stream",
     "text": [
      "[1] \"Iteration: 24/84\"\n"
     ]
    },
    {
     "name": "stderr",
     "output_type": "stream",
     "text": [
      "Warning message in train.default(x = trainX, y = refactoredTrainY, method = \"gbm\", :\n",
      "“The metric \"ROC\" was not in the result set. logLoss will be used instead.”\n"
     ]
    },
    {
     "name": "stdout",
     "output_type": "stream",
     "text": [
      "[1] \"Iteration: 25/84\"\n"
     ]
    },
    {
     "name": "stderr",
     "output_type": "stream",
     "text": [
      "Warning message in train.default(x = trainX, y = refactoredTrainY, method = \"gbm\", :\n",
      "“The metric \"ROC\" was not in the result set. logLoss will be used instead.”\n"
     ]
    },
    {
     "name": "stdout",
     "output_type": "stream",
     "text": [
      "[1] \"Iteration: 26/84\"\n"
     ]
    },
    {
     "name": "stderr",
     "output_type": "stream",
     "text": [
      "Warning message in train.default(x = trainX, y = refactoredTrainY, method = \"gbm\", :\n",
      "“The metric \"ROC\" was not in the result set. logLoss will be used instead.”\n"
     ]
    },
    {
     "name": "stdout",
     "output_type": "stream",
     "text": [
      "[1] \"Iteration: 27/84\"\n"
     ]
    },
    {
     "name": "stderr",
     "output_type": "stream",
     "text": [
      "Warning message in train.default(x = trainX, y = refactoredTrainY, method = \"gbm\", :\n",
      "“The metric \"ROC\" was not in the result set. logLoss will be used instead.”\n"
     ]
    },
    {
     "name": "stdout",
     "output_type": "stream",
     "text": [
      "[1] \"Iteration: 28/84\"\n"
     ]
    },
    {
     "name": "stderr",
     "output_type": "stream",
     "text": [
      "Warning message in train.default(x = trainX, y = refactoredTrainY, method = \"gbm\", :\n",
      "“The metric \"ROC\" was not in the result set. logLoss will be used instead.”\n"
     ]
    },
    {
     "name": "stdout",
     "output_type": "stream",
     "text": [
      "[1] \"Iteration: 29/84\"\n"
     ]
    },
    {
     "name": "stderr",
     "output_type": "stream",
     "text": [
      "Warning message in train.default(x = trainX, y = refactoredTrainY, method = \"gbm\", :\n",
      "“The metric \"ROC\" was not in the result set. logLoss will be used instead.”\n"
     ]
    },
    {
     "name": "stdout",
     "output_type": "stream",
     "text": [
      "[1] \"Iteration: 30/84\"\n"
     ]
    },
    {
     "name": "stderr",
     "output_type": "stream",
     "text": [
      "Warning message in train.default(x = trainX, y = refactoredTrainY, method = \"gbm\", :\n",
      "“The metric \"ROC\" was not in the result set. logLoss will be used instead.”\n"
     ]
    },
    {
     "name": "stdout",
     "output_type": "stream",
     "text": [
      "[1] \"Iteration: 31/84\"\n"
     ]
    },
    {
     "name": "stderr",
     "output_type": "stream",
     "text": [
      "Warning message in train.default(x = trainX, y = refactoredTrainY, method = \"gbm\", :\n",
      "“The metric \"ROC\" was not in the result set. logLoss will be used instead.”\n"
     ]
    },
    {
     "name": "stdout",
     "output_type": "stream",
     "text": [
      "[1] \"Iteration: 32/84\"\n"
     ]
    },
    {
     "name": "stderr",
     "output_type": "stream",
     "text": [
      "Warning message in train.default(x = trainX, y = refactoredTrainY, method = \"gbm\", :\n",
      "“The metric \"ROC\" was not in the result set. logLoss will be used instead.”\n"
     ]
    },
    {
     "name": "stdout",
     "output_type": "stream",
     "text": [
      "[1] \"Iteration: 33/84\"\n"
     ]
    },
    {
     "name": "stderr",
     "output_type": "stream",
     "text": [
      "Warning message in train.default(x = trainX, y = refactoredTrainY, method = \"gbm\", :\n",
      "“The metric \"ROC\" was not in the result set. logLoss will be used instead.”\n"
     ]
    },
    {
     "name": "stdout",
     "output_type": "stream",
     "text": [
      "[1] \"Iteration: 34/84\"\n"
     ]
    },
    {
     "name": "stderr",
     "output_type": "stream",
     "text": [
      "Warning message in train.default(x = trainX, y = refactoredTrainY, method = \"gbm\", :\n",
      "“The metric \"ROC\" was not in the result set. logLoss will be used instead.”\n"
     ]
    },
    {
     "name": "stdout",
     "output_type": "stream",
     "text": [
      "[1] \"Iteration: 35/84\"\n"
     ]
    },
    {
     "name": "stderr",
     "output_type": "stream",
     "text": [
      "Warning message in train.default(x = trainX, y = refactoredTrainY, method = \"gbm\", :\n",
      "“The metric \"ROC\" was not in the result set. logLoss will be used instead.”\n"
     ]
    },
    {
     "name": "stdout",
     "output_type": "stream",
     "text": [
      "[1] \"Iteration: 36/84\"\n"
     ]
    },
    {
     "name": "stderr",
     "output_type": "stream",
     "text": [
      "Warning message in train.default(x = trainX, y = refactoredTrainY, method = \"gbm\", :\n",
      "“The metric \"ROC\" was not in the result set. logLoss will be used instead.”\n"
     ]
    },
    {
     "name": "stdout",
     "output_type": "stream",
     "text": [
      "[1] \"Iteration: 37/84\"\n"
     ]
    },
    {
     "name": "stderr",
     "output_type": "stream",
     "text": [
      "Warning message in train.default(x = trainX, y = refactoredTrainY, method = \"gbm\", :\n",
      "“The metric \"ROC\" was not in the result set. logLoss will be used instead.”\n"
     ]
    },
    {
     "name": "stdout",
     "output_type": "stream",
     "text": [
      "[1] \"Iteration: 38/84\"\n"
     ]
    },
    {
     "name": "stderr",
     "output_type": "stream",
     "text": [
      "Warning message in train.default(x = trainX, y = refactoredTrainY, method = \"gbm\", :\n",
      "“The metric \"ROC\" was not in the result set. logLoss will be used instead.”\n"
     ]
    },
    {
     "name": "stdout",
     "output_type": "stream",
     "text": [
      "[1] \"Iteration: 39/84\"\n"
     ]
    },
    {
     "name": "stderr",
     "output_type": "stream",
     "text": [
      "Warning message in train.default(x = trainX, y = refactoredTrainY, method = \"gbm\", :\n",
      "“The metric \"ROC\" was not in the result set. logLoss will be used instead.”\n"
     ]
    },
    {
     "name": "stdout",
     "output_type": "stream",
     "text": [
      "[1] \"Iteration: 40/84\"\n"
     ]
    },
    {
     "name": "stderr",
     "output_type": "stream",
     "text": [
      "Warning message in train.default(x = trainX, y = refactoredTrainY, method = \"gbm\", :\n",
      "“The metric \"ROC\" was not in the result set. logLoss will be used instead.”\n"
     ]
    },
    {
     "name": "stdout",
     "output_type": "stream",
     "text": [
      "[1] \"Iteration: 41/84\"\n"
     ]
    },
    {
     "name": "stderr",
     "output_type": "stream",
     "text": [
      "Warning message in train.default(x = trainX, y = refactoredTrainY, method = \"gbm\", :\n",
      "“The metric \"ROC\" was not in the result set. logLoss will be used instead.”\n"
     ]
    },
    {
     "name": "stdout",
     "output_type": "stream",
     "text": [
      "[1] \"Iteration: 42/84\"\n"
     ]
    },
    {
     "name": "stderr",
     "output_type": "stream",
     "text": [
      "Warning message in train.default(x = trainX, y = refactoredTrainY, method = \"gbm\", :\n",
      "“The metric \"ROC\" was not in the result set. logLoss will be used instead.”\n"
     ]
    },
    {
     "name": "stdout",
     "output_type": "stream",
     "text": [
      "[1] \"Iteration: 43/84\"\n"
     ]
    },
    {
     "name": "stderr",
     "output_type": "stream",
     "text": [
      "Warning message in train.default(x = trainX, y = refactoredTrainY, method = \"gbm\", :\n",
      "“The metric \"ROC\" was not in the result set. logLoss will be used instead.”\n"
     ]
    },
    {
     "name": "stdout",
     "output_type": "stream",
     "text": [
      "[1] \"Iteration: 44/84\"\n"
     ]
    },
    {
     "name": "stderr",
     "output_type": "stream",
     "text": [
      "Warning message in train.default(x = trainX, y = refactoredTrainY, method = \"gbm\", :\n",
      "“The metric \"ROC\" was not in the result set. logLoss will be used instead.”\n"
     ]
    },
    {
     "name": "stdout",
     "output_type": "stream",
     "text": [
      "[1] \"Iteration: 45/84\"\n"
     ]
    },
    {
     "name": "stderr",
     "output_type": "stream",
     "text": [
      "Warning message in train.default(x = trainX, y = refactoredTrainY, method = \"gbm\", :\n",
      "“The metric \"ROC\" was not in the result set. logLoss will be used instead.”\n"
     ]
    },
    {
     "name": "stdout",
     "output_type": "stream",
     "text": [
      "[1] \"Iteration: 46/84\"\n"
     ]
    },
    {
     "name": "stderr",
     "output_type": "stream",
     "text": [
      "Warning message in train.default(x = trainX, y = refactoredTrainY, method = \"gbm\", :\n",
      "“The metric \"ROC\" was not in the result set. logLoss will be used instead.”\n"
     ]
    },
    {
     "name": "stdout",
     "output_type": "stream",
     "text": [
      "[1] \"Iteration: 47/84\"\n"
     ]
    },
    {
     "name": "stderr",
     "output_type": "stream",
     "text": [
      "Warning message in train.default(x = trainX, y = refactoredTrainY, method = \"gbm\", :\n",
      "“The metric \"ROC\" was not in the result set. logLoss will be used instead.”\n"
     ]
    },
    {
     "name": "stdout",
     "output_type": "stream",
     "text": [
      "[1] \"Iteration: 48/84\"\n"
     ]
    },
    {
     "name": "stderr",
     "output_type": "stream",
     "text": [
      "Warning message in train.default(x = trainX, y = refactoredTrainY, method = \"gbm\", :\n",
      "“The metric \"ROC\" was not in the result set. logLoss will be used instead.”\n"
     ]
    },
    {
     "name": "stdout",
     "output_type": "stream",
     "text": [
      "[1] \"Iteration: 49/84\"\n"
     ]
    },
    {
     "name": "stderr",
     "output_type": "stream",
     "text": [
      "Warning message in train.default(x = trainX, y = refactoredTrainY, method = \"gbm\", :\n",
      "“The metric \"ROC\" was not in the result set. logLoss will be used instead.”\n"
     ]
    },
    {
     "name": "stdout",
     "output_type": "stream",
     "text": [
      "[1] \"Iteration: 50/84\"\n"
     ]
    },
    {
     "name": "stderr",
     "output_type": "stream",
     "text": [
      "Warning message in train.default(x = trainX, y = refactoredTrainY, method = \"gbm\", :\n",
      "“The metric \"ROC\" was not in the result set. logLoss will be used instead.”\n"
     ]
    },
    {
     "name": "stdout",
     "output_type": "stream",
     "text": [
      "[1] \"Iteration: 51/84\"\n"
     ]
    },
    {
     "name": "stderr",
     "output_type": "stream",
     "text": [
      "Warning message in train.default(x = trainX, y = refactoredTrainY, method = \"gbm\", :\n",
      "“The metric \"ROC\" was not in the result set. logLoss will be used instead.”\n"
     ]
    },
    {
     "name": "stdout",
     "output_type": "stream",
     "text": [
      "[1] \"Iteration: 52/84\"\n"
     ]
    },
    {
     "name": "stderr",
     "output_type": "stream",
     "text": [
      "Warning message in train.default(x = trainX, y = refactoredTrainY, method = \"gbm\", :\n",
      "“The metric \"ROC\" was not in the result set. logLoss will be used instead.”\n"
     ]
    },
    {
     "name": "stdout",
     "output_type": "stream",
     "text": [
      "[1] \"Iteration: 53/84\"\n"
     ]
    },
    {
     "name": "stderr",
     "output_type": "stream",
     "text": [
      "Warning message in train.default(x = trainX, y = refactoredTrainY, method = \"gbm\", :\n",
      "“The metric \"ROC\" was not in the result set. logLoss will be used instead.”\n"
     ]
    },
    {
     "name": "stdout",
     "output_type": "stream",
     "text": [
      "[1] \"Iteration: 54/84\"\n"
     ]
    },
    {
     "name": "stderr",
     "output_type": "stream",
     "text": [
      "Warning message in train.default(x = trainX, y = refactoredTrainY, method = \"gbm\", :\n",
      "“The metric \"ROC\" was not in the result set. logLoss will be used instead.”\n"
     ]
    },
    {
     "name": "stdout",
     "output_type": "stream",
     "text": [
      "[1] \"Iteration: 55/84\"\n"
     ]
    },
    {
     "name": "stderr",
     "output_type": "stream",
     "text": [
      "Warning message in train.default(x = trainX, y = refactoredTrainY, method = \"gbm\", :\n",
      "“The metric \"ROC\" was not in the result set. logLoss will be used instead.”\n"
     ]
    },
    {
     "name": "stdout",
     "output_type": "stream",
     "text": [
      "[1] \"Iteration: 56/84\"\n"
     ]
    },
    {
     "name": "stderr",
     "output_type": "stream",
     "text": [
      "Warning message in train.default(x = trainX, y = refactoredTrainY, method = \"gbm\", :\n",
      "“The metric \"ROC\" was not in the result set. logLoss will be used instead.”\n"
     ]
    },
    {
     "name": "stdout",
     "output_type": "stream",
     "text": [
      "[1] \"Iteration: 57/84\"\n"
     ]
    },
    {
     "name": "stderr",
     "output_type": "stream",
     "text": [
      "Warning message in train.default(x = trainX, y = refactoredTrainY, method = \"gbm\", :\n",
      "“The metric \"ROC\" was not in the result set. logLoss will be used instead.”\n"
     ]
    },
    {
     "name": "stdout",
     "output_type": "stream",
     "text": [
      "[1] \"Iteration: 58/84\"\n"
     ]
    },
    {
     "name": "stderr",
     "output_type": "stream",
     "text": [
      "Warning message in train.default(x = trainX, y = refactoredTrainY, method = \"gbm\", :\n",
      "“The metric \"ROC\" was not in the result set. logLoss will be used instead.”\n"
     ]
    },
    {
     "name": "stdout",
     "output_type": "stream",
     "text": [
      "[1] \"Iteration: 59/84\"\n"
     ]
    },
    {
     "name": "stderr",
     "output_type": "stream",
     "text": [
      "Warning message in train.default(x = trainX, y = refactoredTrainY, method = \"gbm\", :\n",
      "“The metric \"ROC\" was not in the result set. logLoss will be used instead.”\n"
     ]
    },
    {
     "name": "stdout",
     "output_type": "stream",
     "text": [
      "[1] \"Iteration: 60/84\"\n"
     ]
    },
    {
     "name": "stderr",
     "output_type": "stream",
     "text": [
      "Warning message in train.default(x = trainX, y = refactoredTrainY, method = \"gbm\", :\n",
      "“The metric \"ROC\" was not in the result set. logLoss will be used instead.”\n"
     ]
    },
    {
     "name": "stdout",
     "output_type": "stream",
     "text": [
      "[1] \"Iteration: 61/84\"\n"
     ]
    },
    {
     "name": "stderr",
     "output_type": "stream",
     "text": [
      "Warning message in train.default(x = trainX, y = refactoredTrainY, method = \"gbm\", :\n",
      "“The metric \"ROC\" was not in the result set. logLoss will be used instead.”\n"
     ]
    },
    {
     "name": "stdout",
     "output_type": "stream",
     "text": [
      "[1] \"Iteration: 62/84\"\n"
     ]
    },
    {
     "name": "stderr",
     "output_type": "stream",
     "text": [
      "Warning message in train.default(x = trainX, y = refactoredTrainY, method = \"gbm\", :\n",
      "“The metric \"ROC\" was not in the result set. logLoss will be used instead.”\n"
     ]
    },
    {
     "name": "stdout",
     "output_type": "stream",
     "text": [
      "[1] \"Iteration: 63/84\"\n"
     ]
    },
    {
     "name": "stderr",
     "output_type": "stream",
     "text": [
      "Warning message in train.default(x = trainX, y = refactoredTrainY, method = \"gbm\", :\n",
      "“The metric \"ROC\" was not in the result set. logLoss will be used instead.”\n"
     ]
    },
    {
     "name": "stdout",
     "output_type": "stream",
     "text": [
      "[1] \"Iteration: 64/84\"\n"
     ]
    },
    {
     "name": "stderr",
     "output_type": "stream",
     "text": [
      "Warning message in train.default(x = trainX, y = refactoredTrainY, method = \"gbm\", :\n",
      "“The metric \"ROC\" was not in the result set. logLoss will be used instead.”\n"
     ]
    },
    {
     "name": "stdout",
     "output_type": "stream",
     "text": [
      "[1] \"Iteration: 65/84\"\n"
     ]
    },
    {
     "name": "stderr",
     "output_type": "stream",
     "text": [
      "Warning message in train.default(x = trainX, y = refactoredTrainY, method = \"gbm\", :\n",
      "“The metric \"ROC\" was not in the result set. logLoss will be used instead.”\n"
     ]
    },
    {
     "name": "stdout",
     "output_type": "stream",
     "text": [
      "[1] \"Iteration: 66/84\"\n"
     ]
    },
    {
     "name": "stderr",
     "output_type": "stream",
     "text": [
      "Warning message in train.default(x = trainX, y = refactoredTrainY, method = \"gbm\", :\n",
      "“The metric \"ROC\" was not in the result set. logLoss will be used instead.”\n"
     ]
    },
    {
     "name": "stdout",
     "output_type": "stream",
     "text": [
      "[1] \"Iteration: 67/84\"\n"
     ]
    },
    {
     "name": "stderr",
     "output_type": "stream",
     "text": [
      "Warning message in train.default(x = trainX, y = refactoredTrainY, method = \"gbm\", :\n",
      "“The metric \"ROC\" was not in the result set. logLoss will be used instead.”\n"
     ]
    },
    {
     "name": "stdout",
     "output_type": "stream",
     "text": [
      "[1] \"Iteration: 68/84\"\n"
     ]
    },
    {
     "name": "stderr",
     "output_type": "stream",
     "text": [
      "Warning message in train.default(x = trainX, y = refactoredTrainY, method = \"gbm\", :\n",
      "“The metric \"ROC\" was not in the result set. logLoss will be used instead.”\n"
     ]
    },
    {
     "name": "stdout",
     "output_type": "stream",
     "text": [
      "[1] \"Iteration: 69/84\"\n"
     ]
    },
    {
     "name": "stderr",
     "output_type": "stream",
     "text": [
      "Warning message in train.default(x = trainX, y = refactoredTrainY, method = \"gbm\", :\n",
      "“The metric \"ROC\" was not in the result set. logLoss will be used instead.”\n"
     ]
    },
    {
     "name": "stdout",
     "output_type": "stream",
     "text": [
      "[1] \"Iteration: 70/84\"\n"
     ]
    },
    {
     "name": "stderr",
     "output_type": "stream",
     "text": [
      "Warning message in train.default(x = trainX, y = refactoredTrainY, method = \"gbm\", :\n",
      "“The metric \"ROC\" was not in the result set. logLoss will be used instead.”\n"
     ]
    },
    {
     "name": "stdout",
     "output_type": "stream",
     "text": [
      "[1] \"Iteration: 71/84\"\n"
     ]
    },
    {
     "name": "stderr",
     "output_type": "stream",
     "text": [
      "Warning message in train.default(x = trainX, y = refactoredTrainY, method = \"gbm\", :\n",
      "“The metric \"ROC\" was not in the result set. logLoss will be used instead.”\n"
     ]
    },
    {
     "name": "stdout",
     "output_type": "stream",
     "text": [
      "[1] \"Iteration: 72/84\"\n"
     ]
    },
    {
     "name": "stderr",
     "output_type": "stream",
     "text": [
      "Warning message in train.default(x = trainX, y = refactoredTrainY, method = \"gbm\", :\n",
      "“The metric \"ROC\" was not in the result set. logLoss will be used instead.”\n"
     ]
    },
    {
     "name": "stdout",
     "output_type": "stream",
     "text": [
      "[1] \"Iteration: 73/84\"\n"
     ]
    },
    {
     "name": "stderr",
     "output_type": "stream",
     "text": [
      "Warning message in train.default(x = trainX, y = refactoredTrainY, method = \"gbm\", :\n",
      "“The metric \"ROC\" was not in the result set. logLoss will be used instead.”\n"
     ]
    },
    {
     "name": "stdout",
     "output_type": "stream",
     "text": [
      "[1] \"Iteration: 74/84\"\n"
     ]
    },
    {
     "name": "stderr",
     "output_type": "stream",
     "text": [
      "Warning message in train.default(x = trainX, y = refactoredTrainY, method = \"gbm\", :\n",
      "“The metric \"ROC\" was not in the result set. logLoss will be used instead.”\n"
     ]
    },
    {
     "name": "stdout",
     "output_type": "stream",
     "text": [
      "[1] \"Iteration: 75/84\"\n"
     ]
    },
    {
     "name": "stderr",
     "output_type": "stream",
     "text": [
      "Warning message in train.default(x = trainX, y = refactoredTrainY, method = \"gbm\", :\n",
      "“The metric \"ROC\" was not in the result set. logLoss will be used instead.”\n"
     ]
    },
    {
     "name": "stdout",
     "output_type": "stream",
     "text": [
      "[1] \"Iteration: 76/84\"\n"
     ]
    },
    {
     "name": "stderr",
     "output_type": "stream",
     "text": [
      "Warning message in train.default(x = trainX, y = refactoredTrainY, method = \"gbm\", :\n",
      "“The metric \"ROC\" was not in the result set. logLoss will be used instead.”\n"
     ]
    },
    {
     "name": "stdout",
     "output_type": "stream",
     "text": [
      "[1] \"Iteration: 77/84\"\n"
     ]
    },
    {
     "name": "stderr",
     "output_type": "stream",
     "text": [
      "Warning message in train.default(x = trainX, y = refactoredTrainY, method = \"gbm\", :\n",
      "“The metric \"ROC\" was not in the result set. logLoss will be used instead.”\n"
     ]
    },
    {
     "name": "stdout",
     "output_type": "stream",
     "text": [
      "[1] \"Iteration: 78/84\"\n"
     ]
    },
    {
     "name": "stderr",
     "output_type": "stream",
     "text": [
      "Warning message in train.default(x = trainX, y = refactoredTrainY, method = \"gbm\", :\n",
      "“The metric \"ROC\" was not in the result set. logLoss will be used instead.”\n"
     ]
    },
    {
     "name": "stdout",
     "output_type": "stream",
     "text": [
      "[1] \"Iteration: 79/84\"\n"
     ]
    },
    {
     "name": "stderr",
     "output_type": "stream",
     "text": [
      "Warning message in train.default(x = trainX, y = refactoredTrainY, method = \"gbm\", :\n",
      "“The metric \"ROC\" was not in the result set. logLoss will be used instead.”\n"
     ]
    },
    {
     "name": "stdout",
     "output_type": "stream",
     "text": [
      "[1] \"Iteration: 80/84\"\n"
     ]
    },
    {
     "name": "stderr",
     "output_type": "stream",
     "text": [
      "Warning message in train.default(x = trainX, y = refactoredTrainY, method = \"gbm\", :\n",
      "“The metric \"ROC\" was not in the result set. logLoss will be used instead.”\n"
     ]
    },
    {
     "name": "stdout",
     "output_type": "stream",
     "text": [
      "[1] \"Iteration: 81/84\"\n"
     ]
    },
    {
     "name": "stderr",
     "output_type": "stream",
     "text": [
      "Warning message in train.default(x = trainX, y = refactoredTrainY, method = \"gbm\", :\n",
      "“The metric \"ROC\" was not in the result set. logLoss will be used instead.”\n"
     ]
    },
    {
     "name": "stdout",
     "output_type": "stream",
     "text": [
      "[1] \"Iteration: 82/84\"\n"
     ]
    },
    {
     "name": "stderr",
     "output_type": "stream",
     "text": [
      "Warning message in train.default(x = trainX, y = refactoredTrainY, method = \"gbm\", :\n",
      "“The metric \"ROC\" was not in the result set. logLoss will be used instead.”\n"
     ]
    },
    {
     "name": "stdout",
     "output_type": "stream",
     "text": [
      "[1] \"Iteration: 83/84\"\n"
     ]
    },
    {
     "name": "stderr",
     "output_type": "stream",
     "text": [
      "Warning message in train.default(x = trainX, y = refactoredTrainY, method = \"gbm\", :\n",
      "“The metric \"ROC\" was not in the result set. logLoss will be used instead.”\n"
     ]
    },
    {
     "name": "stdout",
     "output_type": "stream",
     "text": [
      "[1] \"Iteration: 84/84\"\n"
     ]
    },
    {
     "name": "stderr",
     "output_type": "stream",
     "text": [
      "Warning message in train.default(x = trainX, y = refactoredTrainY, method = \"gbm\", :\n",
      "“The metric \"ROC\" was not in the result set. logLoss will be used instead.”\n"
     ]
    },
    {
     "name": "stdout",
     "output_type": "stream",
     "text": [
      "          logLoss               AUC             prAUC          Accuracy \n",
      "        0.3545810         0.8854237         0.8589545         0.8690476 \n",
      "            Kappa                F1       Sensitivity       Specificity \n",
      "        0.6755618         0.9090909         0.9322034         0.7200000 \n",
      "   Pos_Pred_Value    Neg_Pred_Value         Precision            Recall \n",
      "        0.8870968         0.8181818         0.8870968         0.9322034 \n",
      "   Detection_Rate Balanced_Accuracy \n",
      "        0.6547619         0.8261017 \n",
      "Confusion Matrix and Statistics\n",
      "\n",
      "          Reference\n",
      "Prediction PRAD NSCLC\n",
      "     PRAD    55     4\n",
      "     NSCLC    7    18\n",
      "                                          \n",
      "               Accuracy : 0.869           \n",
      "                 95% CI : (0.7778, 0.9328)\n",
      "    No Information Rate : 0.7381          \n",
      "    P-Value [Acc > NIR] : 0.00287         \n",
      "                                          \n",
      "                  Kappa : 0.6756          \n",
      "                                          \n",
      " Mcnemar's Test P-Value : 0.54649         \n",
      "                                          \n",
      "            Sensitivity : 0.8871          \n",
      "            Specificity : 0.8182          \n",
      "         Pos Pred Value : 0.9322          \n",
      "         Neg Pred Value : 0.7200          \n",
      "             Prevalence : 0.7381          \n",
      "         Detection Rate : 0.6548          \n",
      "   Detection Prevalence : 0.7024          \n",
      "      Balanced Accuracy : 0.8526          \n",
      "                                          \n",
      "       'Positive' Class : PRAD            \n",
      "                                          \n"
     ]
    }
   ],
   "source": [
    "prad_nsclc <- loocvDTs(snmData = snmDataKrakenCFDecontamDPQC,\n",
    "                 samplingSize = 59, \n",
    "                 DTs = c(\"PRAD\",\"NSCLC\"),\n",
    "                 caretTuneGrid = defaultGBMGrid)"
   ]
  },
  {
   "cell_type": "code",
   "execution_count": 18,
   "metadata": {},
   "outputs": [
    {
     "name": "stderr",
     "output_type": "stream",
     "text": [
      "Groups SKCM, NSCLC contain fewer rows than requested. Returning all rows.\n",
      "\n"
     ]
    },
    {
     "name": "stdout",
     "output_type": "stream",
     "text": [
      "[1] \"Iteration: 1/100\"\n"
     ]
    },
    {
     "name": "stderr",
     "output_type": "stream",
     "text": [
      "Warning message in train.default(x = trainX, y = refactoredTrainY, method = \"gbm\", :\n",
      "“The metric \"ROC\" was not in the result set. logLoss will be used instead.”\n",
      "Warning message in nominalTrainWorkflow(x = x, y = y, wts = weights, info = trainInfo, :\n",
      "“There were missing values in resampled performance measures.”\n"
     ]
    },
    {
     "name": "stdout",
     "output_type": "stream",
     "text": [
      "[1] \"Iteration: 2/100\"\n"
     ]
    },
    {
     "name": "stderr",
     "output_type": "stream",
     "text": [
      "Warning message in train.default(x = trainX, y = refactoredTrainY, method = \"gbm\", :\n",
      "“The metric \"ROC\" was not in the result set. logLoss will be used instead.”\n",
      "Warning message in nominalTrainWorkflow(x = x, y = y, wts = weights, info = trainInfo, :\n",
      "“There were missing values in resampled performance measures.”\n"
     ]
    },
    {
     "name": "stdout",
     "output_type": "stream",
     "text": [
      "[1] \"Iteration: 3/100\"\n"
     ]
    },
    {
     "name": "stderr",
     "output_type": "stream",
     "text": [
      "Warning message in train.default(x = trainX, y = refactoredTrainY, method = \"gbm\", :\n",
      "“The metric \"ROC\" was not in the result set. logLoss will be used instead.”\n",
      "Warning message in nominalTrainWorkflow(x = x, y = y, wts = weights, info = trainInfo, :\n",
      "“There were missing values in resampled performance measures.”\n"
     ]
    },
    {
     "name": "stdout",
     "output_type": "stream",
     "text": [
      "[1] \"Iteration: 4/100\"\n"
     ]
    },
    {
     "name": "stderr",
     "output_type": "stream",
     "text": [
      "Warning message in train.default(x = trainX, y = refactoredTrainY, method = \"gbm\", :\n",
      "“The metric \"ROC\" was not in the result set. logLoss will be used instead.”\n",
      "Warning message in nominalTrainWorkflow(x = x, y = y, wts = weights, info = trainInfo, :\n",
      "“There were missing values in resampled performance measures.”\n"
     ]
    },
    {
     "name": "stdout",
     "output_type": "stream",
     "text": [
      "[1] \"Iteration: 5/100\"\n"
     ]
    },
    {
     "name": "stderr",
     "output_type": "stream",
     "text": [
      "Warning message in train.default(x = trainX, y = refactoredTrainY, method = \"gbm\", :\n",
      "“The metric \"ROC\" was not in the result set. logLoss will be used instead.”\n",
      "Warning message in nominalTrainWorkflow(x = x, y = y, wts = weights, info = trainInfo, :\n",
      "“There were missing values in resampled performance measures.”\n"
     ]
    },
    {
     "name": "stdout",
     "output_type": "stream",
     "text": [
      "[1] \"Iteration: 6/100\"\n"
     ]
    },
    {
     "name": "stderr",
     "output_type": "stream",
     "text": [
      "Warning message in train.default(x = trainX, y = refactoredTrainY, method = \"gbm\", :\n",
      "“The metric \"ROC\" was not in the result set. logLoss will be used instead.”\n",
      "Warning message in nominalTrainWorkflow(x = x, y = y, wts = weights, info = trainInfo, :\n",
      "“There were missing values in resampled performance measures.”\n"
     ]
    },
    {
     "name": "stdout",
     "output_type": "stream",
     "text": [
      "[1] \"Iteration: 7/100\"\n"
     ]
    },
    {
     "name": "stderr",
     "output_type": "stream",
     "text": [
      "Warning message in train.default(x = trainX, y = refactoredTrainY, method = \"gbm\", :\n",
      "“The metric \"ROC\" was not in the result set. logLoss will be used instead.”\n",
      "Warning message in nominalTrainWorkflow(x = x, y = y, wts = weights, info = trainInfo, :\n",
      "“There were missing values in resampled performance measures.”\n"
     ]
    },
    {
     "name": "stdout",
     "output_type": "stream",
     "text": [
      "[1] \"Iteration: 8/100\"\n"
     ]
    },
    {
     "name": "stderr",
     "output_type": "stream",
     "text": [
      "Warning message in train.default(x = trainX, y = refactoredTrainY, method = \"gbm\", :\n",
      "“The metric \"ROC\" was not in the result set. logLoss will be used instead.”\n",
      "Warning message in nominalTrainWorkflow(x = x, y = y, wts = weights, info = trainInfo, :\n",
      "“There were missing values in resampled performance measures.”\n"
     ]
    },
    {
     "name": "stdout",
     "output_type": "stream",
     "text": [
      "[1] \"Iteration: 9/100\"\n"
     ]
    },
    {
     "name": "stderr",
     "output_type": "stream",
     "text": [
      "Warning message in train.default(x = trainX, y = refactoredTrainY, method = \"gbm\", :\n",
      "“The metric \"ROC\" was not in the result set. logLoss will be used instead.”\n",
      "Warning message in nominalTrainWorkflow(x = x, y = y, wts = weights, info = trainInfo, :\n",
      "“There were missing values in resampled performance measures.”\n"
     ]
    },
    {
     "name": "stdout",
     "output_type": "stream",
     "text": [
      "[1] \"Iteration: 10/100\"\n"
     ]
    },
    {
     "name": "stderr",
     "output_type": "stream",
     "text": [
      "Warning message in train.default(x = trainX, y = refactoredTrainY, method = \"gbm\", :\n",
      "“The metric \"ROC\" was not in the result set. logLoss will be used instead.”\n",
      "Warning message in nominalTrainWorkflow(x = x, y = y, wts = weights, info = trainInfo, :\n",
      "“There were missing values in resampled performance measures.”\n"
     ]
    },
    {
     "name": "stdout",
     "output_type": "stream",
     "text": [
      "[1] \"Iteration: 11/100\"\n"
     ]
    },
    {
     "name": "stderr",
     "output_type": "stream",
     "text": [
      "Warning message in train.default(x = trainX, y = refactoredTrainY, method = \"gbm\", :\n",
      "“The metric \"ROC\" was not in the result set. logLoss will be used instead.”\n",
      "Warning message in nominalTrainWorkflow(x = x, y = y, wts = weights, info = trainInfo, :\n",
      "“There were missing values in resampled performance measures.”\n"
     ]
    },
    {
     "name": "stdout",
     "output_type": "stream",
     "text": [
      "[1] \"Iteration: 12/100\"\n"
     ]
    },
    {
     "name": "stderr",
     "output_type": "stream",
     "text": [
      "Warning message in train.default(x = trainX, y = refactoredTrainY, method = \"gbm\", :\n",
      "“The metric \"ROC\" was not in the result set. logLoss will be used instead.”\n",
      "Warning message in nominalTrainWorkflow(x = x, y = y, wts = weights, info = trainInfo, :\n",
      "“There were missing values in resampled performance measures.”\n"
     ]
    },
    {
     "name": "stdout",
     "output_type": "stream",
     "text": [
      "[1] \"Iteration: 13/100\"\n"
     ]
    },
    {
     "name": "stderr",
     "output_type": "stream",
     "text": [
      "Warning message in train.default(x = trainX, y = refactoredTrainY, method = \"gbm\", :\n",
      "“The metric \"ROC\" was not in the result set. logLoss will be used instead.”\n",
      "Warning message in nominalTrainWorkflow(x = x, y = y, wts = weights, info = trainInfo, :\n",
      "“There were missing values in resampled performance measures.”\n"
     ]
    },
    {
     "name": "stdout",
     "output_type": "stream",
     "text": [
      "[1] \"Iteration: 14/100\"\n"
     ]
    },
    {
     "name": "stderr",
     "output_type": "stream",
     "text": [
      "Warning message in train.default(x = trainX, y = refactoredTrainY, method = \"gbm\", :\n",
      "“The metric \"ROC\" was not in the result set. logLoss will be used instead.”\n",
      "Warning message in nominalTrainWorkflow(x = x, y = y, wts = weights, info = trainInfo, :\n",
      "“There were missing values in resampled performance measures.”\n"
     ]
    },
    {
     "name": "stdout",
     "output_type": "stream",
     "text": [
      "[1] \"Iteration: 15/100\"\n"
     ]
    },
    {
     "name": "stderr",
     "output_type": "stream",
     "text": [
      "Warning message in train.default(x = trainX, y = refactoredTrainY, method = \"gbm\", :\n",
      "“The metric \"ROC\" was not in the result set. logLoss will be used instead.”\n",
      "Warning message in nominalTrainWorkflow(x = x, y = y, wts = weights, info = trainInfo, :\n",
      "“There were missing values in resampled performance measures.”\n"
     ]
    },
    {
     "name": "stdout",
     "output_type": "stream",
     "text": [
      "[1] \"Iteration: 16/100\"\n"
     ]
    },
    {
     "name": "stderr",
     "output_type": "stream",
     "text": [
      "Warning message in train.default(x = trainX, y = refactoredTrainY, method = \"gbm\", :\n",
      "“The metric \"ROC\" was not in the result set. logLoss will be used instead.”\n",
      "Warning message in nominalTrainWorkflow(x = x, y = y, wts = weights, info = trainInfo, :\n",
      "“There were missing values in resampled performance measures.”\n"
     ]
    },
    {
     "name": "stdout",
     "output_type": "stream",
     "text": [
      "[1] \"Iteration: 17/100\"\n"
     ]
    },
    {
     "name": "stderr",
     "output_type": "stream",
     "text": [
      "Warning message in train.default(x = trainX, y = refactoredTrainY, method = \"gbm\", :\n",
      "“The metric \"ROC\" was not in the result set. logLoss will be used instead.”\n",
      "Warning message in nominalTrainWorkflow(x = x, y = y, wts = weights, info = trainInfo, :\n",
      "“There were missing values in resampled performance measures.”\n"
     ]
    },
    {
     "name": "stdout",
     "output_type": "stream",
     "text": [
      "[1] \"Iteration: 18/100\"\n"
     ]
    },
    {
     "name": "stderr",
     "output_type": "stream",
     "text": [
      "Warning message in train.default(x = trainX, y = refactoredTrainY, method = \"gbm\", :\n",
      "“The metric \"ROC\" was not in the result set. logLoss will be used instead.”\n",
      "Warning message in nominalTrainWorkflow(x = x, y = y, wts = weights, info = trainInfo, :\n",
      "“There were missing values in resampled performance measures.”\n"
     ]
    },
    {
     "name": "stdout",
     "output_type": "stream",
     "text": [
      "[1] \"Iteration: 19/100\"\n"
     ]
    },
    {
     "name": "stderr",
     "output_type": "stream",
     "text": [
      "Warning message in train.default(x = trainX, y = refactoredTrainY, method = \"gbm\", :\n",
      "“The metric \"ROC\" was not in the result set. logLoss will be used instead.”\n",
      "Warning message in nominalTrainWorkflow(x = x, y = y, wts = weights, info = trainInfo, :\n",
      "“There were missing values in resampled performance measures.”\n"
     ]
    },
    {
     "name": "stdout",
     "output_type": "stream",
     "text": [
      "[1] \"Iteration: 20/100\"\n"
     ]
    },
    {
     "name": "stderr",
     "output_type": "stream",
     "text": [
      "Warning message in train.default(x = trainX, y = refactoredTrainY, method = \"gbm\", :\n",
      "“The metric \"ROC\" was not in the result set. logLoss will be used instead.”\n",
      "Warning message in nominalTrainWorkflow(x = x, y = y, wts = weights, info = trainInfo, :\n",
      "“There were missing values in resampled performance measures.”\n"
     ]
    },
    {
     "name": "stdout",
     "output_type": "stream",
     "text": [
      "[1] \"Iteration: 21/100\"\n"
     ]
    },
    {
     "name": "stderr",
     "output_type": "stream",
     "text": [
      "Warning message in train.default(x = trainX, y = refactoredTrainY, method = \"gbm\", :\n",
      "“The metric \"ROC\" was not in the result set. logLoss will be used instead.”\n",
      "Warning message in nominalTrainWorkflow(x = x, y = y, wts = weights, info = trainInfo, :\n",
      "“There were missing values in resampled performance measures.”\n"
     ]
    },
    {
     "name": "stdout",
     "output_type": "stream",
     "text": [
      "[1] \"Iteration: 22/100\"\n"
     ]
    },
    {
     "name": "stderr",
     "output_type": "stream",
     "text": [
      "Warning message in train.default(x = trainX, y = refactoredTrainY, method = \"gbm\", :\n",
      "“The metric \"ROC\" was not in the result set. logLoss will be used instead.”\n",
      "Warning message in nominalTrainWorkflow(x = x, y = y, wts = weights, info = trainInfo, :\n",
      "“There were missing values in resampled performance measures.”\n"
     ]
    },
    {
     "name": "stdout",
     "output_type": "stream",
     "text": [
      "[1] \"Iteration: 23/100\"\n"
     ]
    },
    {
     "name": "stderr",
     "output_type": "stream",
     "text": [
      "Warning message in train.default(x = trainX, y = refactoredTrainY, method = \"gbm\", :\n",
      "“The metric \"ROC\" was not in the result set. logLoss will be used instead.”\n",
      "Warning message in nominalTrainWorkflow(x = x, y = y, wts = weights, info = trainInfo, :\n",
      "“There were missing values in resampled performance measures.”\n"
     ]
    },
    {
     "name": "stdout",
     "output_type": "stream",
     "text": [
      "[1] \"Iteration: 24/100\"\n"
     ]
    },
    {
     "name": "stderr",
     "output_type": "stream",
     "text": [
      "Warning message in train.default(x = trainX, y = refactoredTrainY, method = \"gbm\", :\n",
      "“The metric \"ROC\" was not in the result set. logLoss will be used instead.”\n",
      "Warning message in nominalTrainWorkflow(x = x, y = y, wts = weights, info = trainInfo, :\n",
      "“There were missing values in resampled performance measures.”\n"
     ]
    },
    {
     "name": "stdout",
     "output_type": "stream",
     "text": [
      "[1] \"Iteration: 25/100\"\n"
     ]
    },
    {
     "name": "stderr",
     "output_type": "stream",
     "text": [
      "Warning message in train.default(x = trainX, y = refactoredTrainY, method = \"gbm\", :\n",
      "“The metric \"ROC\" was not in the result set. logLoss will be used instead.”\n",
      "Warning message in nominalTrainWorkflow(x = x, y = y, wts = weights, info = trainInfo, :\n",
      "“There were missing values in resampled performance measures.”\n"
     ]
    },
    {
     "name": "stdout",
     "output_type": "stream",
     "text": [
      "[1] \"Iteration: 26/100\"\n"
     ]
    },
    {
     "name": "stderr",
     "output_type": "stream",
     "text": [
      "Warning message in train.default(x = trainX, y = refactoredTrainY, method = \"gbm\", :\n",
      "“The metric \"ROC\" was not in the result set. logLoss will be used instead.”\n"
     ]
    },
    {
     "name": "stdout",
     "output_type": "stream",
     "text": [
      "[1] \"Iteration: 27/100\"\n"
     ]
    },
    {
     "name": "stderr",
     "output_type": "stream",
     "text": [
      "Warning message in train.default(x = trainX, y = refactoredTrainY, method = \"gbm\", :\n",
      "“The metric \"ROC\" was not in the result set. logLoss will be used instead.”\n"
     ]
    },
    {
     "name": "stdout",
     "output_type": "stream",
     "text": [
      "[1] \"Iteration: 28/100\"\n"
     ]
    },
    {
     "name": "stderr",
     "output_type": "stream",
     "text": [
      "Warning message in train.default(x = trainX, y = refactoredTrainY, method = \"gbm\", :\n",
      "“The metric \"ROC\" was not in the result set. logLoss will be used instead.”\n"
     ]
    },
    {
     "name": "stdout",
     "output_type": "stream",
     "text": [
      "[1] \"Iteration: 29/100\"\n"
     ]
    },
    {
     "name": "stderr",
     "output_type": "stream",
     "text": [
      "Warning message in train.default(x = trainX, y = refactoredTrainY, method = \"gbm\", :\n",
      "“The metric \"ROC\" was not in the result set. logLoss will be used instead.”\n"
     ]
    },
    {
     "name": "stdout",
     "output_type": "stream",
     "text": [
      "[1] \"Iteration: 30/100\"\n"
     ]
    },
    {
     "name": "stderr",
     "output_type": "stream",
     "text": [
      "Warning message in train.default(x = trainX, y = refactoredTrainY, method = \"gbm\", :\n",
      "“The metric \"ROC\" was not in the result set. logLoss will be used instead.”\n",
      "Warning message in nominalTrainWorkflow(x = x, y = y, wts = weights, info = trainInfo, :\n",
      "“There were missing values in resampled performance measures.”\n"
     ]
    },
    {
     "name": "stdout",
     "output_type": "stream",
     "text": [
      "[1] \"Iteration: 31/100\"\n"
     ]
    },
    {
     "name": "stderr",
     "output_type": "stream",
     "text": [
      "Warning message in train.default(x = trainX, y = refactoredTrainY, method = \"gbm\", :\n",
      "“The metric \"ROC\" was not in the result set. logLoss will be used instead.”\n",
      "Warning message in nominalTrainWorkflow(x = x, y = y, wts = weights, info = trainInfo, :\n",
      "“There were missing values in resampled performance measures.”\n"
     ]
    },
    {
     "name": "stdout",
     "output_type": "stream",
     "text": [
      "[1] \"Iteration: 32/100\"\n"
     ]
    },
    {
     "name": "stderr",
     "output_type": "stream",
     "text": [
      "Warning message in train.default(x = trainX, y = refactoredTrainY, method = \"gbm\", :\n",
      "“The metric \"ROC\" was not in the result set. logLoss will be used instead.”\n"
     ]
    },
    {
     "name": "stdout",
     "output_type": "stream",
     "text": [
      "[1] \"Iteration: 33/100\"\n"
     ]
    },
    {
     "name": "stderr",
     "output_type": "stream",
     "text": [
      "Warning message in train.default(x = trainX, y = refactoredTrainY, method = \"gbm\", :\n",
      "“The metric \"ROC\" was not in the result set. logLoss will be used instead.”\n"
     ]
    },
    {
     "name": "stdout",
     "output_type": "stream",
     "text": [
      "[1] \"Iteration: 34/100\"\n"
     ]
    },
    {
     "name": "stderr",
     "output_type": "stream",
     "text": [
      "Warning message in train.default(x = trainX, y = refactoredTrainY, method = \"gbm\", :\n",
      "“The metric \"ROC\" was not in the result set. logLoss will be used instead.”\n"
     ]
    },
    {
     "name": "stdout",
     "output_type": "stream",
     "text": [
      "[1] \"Iteration: 35/100\"\n"
     ]
    },
    {
     "name": "stderr",
     "output_type": "stream",
     "text": [
      "Warning message in train.default(x = trainX, y = refactoredTrainY, method = \"gbm\", :\n",
      "“The metric \"ROC\" was not in the result set. logLoss will be used instead.”\n"
     ]
    },
    {
     "name": "stdout",
     "output_type": "stream",
     "text": [
      "[1] \"Iteration: 36/100\"\n"
     ]
    },
    {
     "name": "stderr",
     "output_type": "stream",
     "text": [
      "Warning message in train.default(x = trainX, y = refactoredTrainY, method = \"gbm\", :\n",
      "“The metric \"ROC\" was not in the result set. logLoss will be used instead.”\n"
     ]
    },
    {
     "name": "stdout",
     "output_type": "stream",
     "text": [
      "[1] \"Iteration: 37/100\"\n"
     ]
    },
    {
     "name": "stderr",
     "output_type": "stream",
     "text": [
      "Warning message in train.default(x = trainX, y = refactoredTrainY, method = \"gbm\", :\n",
      "“The metric \"ROC\" was not in the result set. logLoss will be used instead.”\n"
     ]
    },
    {
     "name": "stdout",
     "output_type": "stream",
     "text": [
      "[1] \"Iteration: 38/100\"\n"
     ]
    },
    {
     "name": "stderr",
     "output_type": "stream",
     "text": [
      "Warning message in train.default(x = trainX, y = refactoredTrainY, method = \"gbm\", :\n",
      "“The metric \"ROC\" was not in the result set. logLoss will be used instead.”\n"
     ]
    },
    {
     "name": "stdout",
     "output_type": "stream",
     "text": [
      "[1] \"Iteration: 39/100\"\n"
     ]
    },
    {
     "name": "stderr",
     "output_type": "stream",
     "text": [
      "Warning message in train.default(x = trainX, y = refactoredTrainY, method = \"gbm\", :\n",
      "“The metric \"ROC\" was not in the result set. logLoss will be used instead.”\n"
     ]
    },
    {
     "name": "stdout",
     "output_type": "stream",
     "text": [
      "[1] \"Iteration: 40/100\"\n"
     ]
    },
    {
     "name": "stderr",
     "output_type": "stream",
     "text": [
      "Warning message in train.default(x = trainX, y = refactoredTrainY, method = \"gbm\", :\n",
      "“The metric \"ROC\" was not in the result set. logLoss will be used instead.”\n",
      "Warning message in nominalTrainWorkflow(x = x, y = y, wts = weights, info = trainInfo, :\n",
      "“There were missing values in resampled performance measures.”\n"
     ]
    },
    {
     "name": "stdout",
     "output_type": "stream",
     "text": [
      "[1] \"Iteration: 41/100\"\n"
     ]
    },
    {
     "name": "stderr",
     "output_type": "stream",
     "text": [
      "Warning message in train.default(x = trainX, y = refactoredTrainY, method = \"gbm\", :\n",
      "“The metric \"ROC\" was not in the result set. logLoss will be used instead.”\n"
     ]
    },
    {
     "name": "stdout",
     "output_type": "stream",
     "text": [
      "[1] \"Iteration: 42/100\"\n"
     ]
    },
    {
     "name": "stderr",
     "output_type": "stream",
     "text": [
      "Warning message in train.default(x = trainX, y = refactoredTrainY, method = \"gbm\", :\n",
      "“The metric \"ROC\" was not in the result set. logLoss will be used instead.”\n"
     ]
    },
    {
     "name": "stdout",
     "output_type": "stream",
     "text": [
      "[1] \"Iteration: 43/100\"\n"
     ]
    },
    {
     "name": "stderr",
     "output_type": "stream",
     "text": [
      "Warning message in train.default(x = trainX, y = refactoredTrainY, method = \"gbm\", :\n",
      "“The metric \"ROC\" was not in the result set. logLoss will be used instead.”\n"
     ]
    },
    {
     "name": "stdout",
     "output_type": "stream",
     "text": [
      "[1] \"Iteration: 44/100\"\n"
     ]
    },
    {
     "name": "stderr",
     "output_type": "stream",
     "text": [
      "Warning message in train.default(x = trainX, y = refactoredTrainY, method = \"gbm\", :\n",
      "“The metric \"ROC\" was not in the result set. logLoss will be used instead.”\n"
     ]
    },
    {
     "name": "stdout",
     "output_type": "stream",
     "text": [
      "[1] \"Iteration: 45/100\"\n"
     ]
    },
    {
     "name": "stderr",
     "output_type": "stream",
     "text": [
      "Warning message in train.default(x = trainX, y = refactoredTrainY, method = \"gbm\", :\n",
      "“The metric \"ROC\" was not in the result set. logLoss will be used instead.”\n"
     ]
    },
    {
     "name": "stdout",
     "output_type": "stream",
     "text": [
      "[1] \"Iteration: 46/100\"\n"
     ]
    },
    {
     "name": "stderr",
     "output_type": "stream",
     "text": [
      "Warning message in train.default(x = trainX, y = refactoredTrainY, method = \"gbm\", :\n",
      "“The metric \"ROC\" was not in the result set. logLoss will be used instead.”\n"
     ]
    },
    {
     "name": "stdout",
     "output_type": "stream",
     "text": [
      "[1] \"Iteration: 47/100\"\n"
     ]
    },
    {
     "name": "stderr",
     "output_type": "stream",
     "text": [
      "Warning message in train.default(x = trainX, y = refactoredTrainY, method = \"gbm\", :\n",
      "“The metric \"ROC\" was not in the result set. logLoss will be used instead.”\n",
      "Warning message in nominalTrainWorkflow(x = x, y = y, wts = weights, info = trainInfo, :\n",
      "“There were missing values in resampled performance measures.”\n"
     ]
    },
    {
     "name": "stdout",
     "output_type": "stream",
     "text": [
      "[1] \"Iteration: 48/100\"\n"
     ]
    },
    {
     "name": "stderr",
     "output_type": "stream",
     "text": [
      "Warning message in train.default(x = trainX, y = refactoredTrainY, method = \"gbm\", :\n",
      "“The metric \"ROC\" was not in the result set. logLoss will be used instead.”\n"
     ]
    },
    {
     "name": "stdout",
     "output_type": "stream",
     "text": [
      "[1] \"Iteration: 49/100\"\n"
     ]
    },
    {
     "name": "stderr",
     "output_type": "stream",
     "text": [
      "Warning message in train.default(x = trainX, y = refactoredTrainY, method = \"gbm\", :\n",
      "“The metric \"ROC\" was not in the result set. logLoss will be used instead.”\n",
      "Warning message in nominalTrainWorkflow(x = x, y = y, wts = weights, info = trainInfo, :\n",
      "“There were missing values in resampled performance measures.”\n"
     ]
    },
    {
     "name": "stdout",
     "output_type": "stream",
     "text": [
      "[1] \"Iteration: 50/100\"\n"
     ]
    },
    {
     "name": "stderr",
     "output_type": "stream",
     "text": [
      "Warning message in train.default(x = trainX, y = refactoredTrainY, method = \"gbm\", :\n",
      "“The metric \"ROC\" was not in the result set. logLoss will be used instead.”\n",
      "Warning message in nominalTrainWorkflow(x = x, y = y, wts = weights, info = trainInfo, :\n",
      "“There were missing values in resampled performance measures.”\n"
     ]
    },
    {
     "name": "stdout",
     "output_type": "stream",
     "text": [
      "[1] \"Iteration: 51/100\"\n"
     ]
    },
    {
     "name": "stderr",
     "output_type": "stream",
     "text": [
      "Warning message in train.default(x = trainX, y = refactoredTrainY, method = \"gbm\", :\n",
      "“The metric \"ROC\" was not in the result set. logLoss will be used instead.”\n",
      "Warning message in nominalTrainWorkflow(x = x, y = y, wts = weights, info = trainInfo, :\n",
      "“There were missing values in resampled performance measures.”\n"
     ]
    },
    {
     "name": "stdout",
     "output_type": "stream",
     "text": [
      "[1] \"Iteration: 52/100\"\n"
     ]
    },
    {
     "name": "stderr",
     "output_type": "stream",
     "text": [
      "Warning message in train.default(x = trainX, y = refactoredTrainY, method = \"gbm\", :\n",
      "“The metric \"ROC\" was not in the result set. logLoss will be used instead.”\n",
      "Warning message in nominalTrainWorkflow(x = x, y = y, wts = weights, info = trainInfo, :\n",
      "“There were missing values in resampled performance measures.”\n"
     ]
    },
    {
     "name": "stdout",
     "output_type": "stream",
     "text": [
      "[1] \"Iteration: 53/100\"\n"
     ]
    },
    {
     "name": "stderr",
     "output_type": "stream",
     "text": [
      "Warning message in train.default(x = trainX, y = refactoredTrainY, method = \"gbm\", :\n",
      "“The metric \"ROC\" was not in the result set. logLoss will be used instead.”\n"
     ]
    },
    {
     "name": "stdout",
     "output_type": "stream",
     "text": [
      "[1] \"Iteration: 54/100\"\n"
     ]
    },
    {
     "name": "stderr",
     "output_type": "stream",
     "text": [
      "Warning message in train.default(x = trainX, y = refactoredTrainY, method = \"gbm\", :\n",
      "“The metric \"ROC\" was not in the result set. logLoss will be used instead.”\n",
      "Warning message in nominalTrainWorkflow(x = x, y = y, wts = weights, info = trainInfo, :\n",
      "“There were missing values in resampled performance measures.”\n"
     ]
    },
    {
     "name": "stdout",
     "output_type": "stream",
     "text": [
      "[1] \"Iteration: 55/100\"\n"
     ]
    },
    {
     "name": "stderr",
     "output_type": "stream",
     "text": [
      "Warning message in train.default(x = trainX, y = refactoredTrainY, method = \"gbm\", :\n",
      "“The metric \"ROC\" was not in the result set. logLoss will be used instead.”\n",
      "Warning message in nominalTrainWorkflow(x = x, y = y, wts = weights, info = trainInfo, :\n",
      "“There were missing values in resampled performance measures.”\n"
     ]
    },
    {
     "name": "stdout",
     "output_type": "stream",
     "text": [
      "[1] \"Iteration: 56/100\"\n"
     ]
    },
    {
     "name": "stderr",
     "output_type": "stream",
     "text": [
      "Warning message in train.default(x = trainX, y = refactoredTrainY, method = \"gbm\", :\n",
      "“The metric \"ROC\" was not in the result set. logLoss will be used instead.”\n"
     ]
    },
    {
     "name": "stdout",
     "output_type": "stream",
     "text": [
      "[1] \"Iteration: 57/100\"\n"
     ]
    },
    {
     "name": "stderr",
     "output_type": "stream",
     "text": [
      "Warning message in train.default(x = trainX, y = refactoredTrainY, method = \"gbm\", :\n",
      "“The metric \"ROC\" was not in the result set. logLoss will be used instead.”\n"
     ]
    },
    {
     "name": "stdout",
     "output_type": "stream",
     "text": [
      "[1] \"Iteration: 58/100\"\n"
     ]
    },
    {
     "name": "stderr",
     "output_type": "stream",
     "text": [
      "Warning message in train.default(x = trainX, y = refactoredTrainY, method = \"gbm\", :\n",
      "“The metric \"ROC\" was not in the result set. logLoss will be used instead.”\n"
     ]
    },
    {
     "name": "stdout",
     "output_type": "stream",
     "text": [
      "[1] \"Iteration: 59/100\"\n"
     ]
    },
    {
     "name": "stderr",
     "output_type": "stream",
     "text": [
      "Warning message in train.default(x = trainX, y = refactoredTrainY, method = \"gbm\", :\n",
      "“The metric \"ROC\" was not in the result set. logLoss will be used instead.”\n"
     ]
    },
    {
     "name": "stdout",
     "output_type": "stream",
     "text": [
      "[1] \"Iteration: 60/100\"\n"
     ]
    },
    {
     "name": "stderr",
     "output_type": "stream",
     "text": [
      "Warning message in train.default(x = trainX, y = refactoredTrainY, method = \"gbm\", :\n",
      "“The metric \"ROC\" was not in the result set. logLoss will be used instead.”\n"
     ]
    },
    {
     "name": "stdout",
     "output_type": "stream",
     "text": [
      "[1] \"Iteration: 61/100\"\n"
     ]
    },
    {
     "name": "stderr",
     "output_type": "stream",
     "text": [
      "Warning message in train.default(x = trainX, y = refactoredTrainY, method = \"gbm\", :\n",
      "“The metric \"ROC\" was not in the result set. logLoss will be used instead.”\n",
      "Warning message in nominalTrainWorkflow(x = x, y = y, wts = weights, info = trainInfo, :\n",
      "“There were missing values in resampled performance measures.”\n"
     ]
    },
    {
     "name": "stdout",
     "output_type": "stream",
     "text": [
      "[1] \"Iteration: 62/100\"\n"
     ]
    },
    {
     "name": "stderr",
     "output_type": "stream",
     "text": [
      "Warning message in train.default(x = trainX, y = refactoredTrainY, method = \"gbm\", :\n",
      "“The metric \"ROC\" was not in the result set. logLoss will be used instead.”\n",
      "Warning message in nominalTrainWorkflow(x = x, y = y, wts = weights, info = trainInfo, :\n",
      "“There were missing values in resampled performance measures.”\n"
     ]
    },
    {
     "name": "stdout",
     "output_type": "stream",
     "text": [
      "[1] \"Iteration: 63/100\"\n"
     ]
    },
    {
     "name": "stderr",
     "output_type": "stream",
     "text": [
      "Warning message in train.default(x = trainX, y = refactoredTrainY, method = \"gbm\", :\n",
      "“The metric \"ROC\" was not in the result set. logLoss will be used instead.”\n",
      "Warning message in nominalTrainWorkflow(x = x, y = y, wts = weights, info = trainInfo, :\n",
      "“There were missing values in resampled performance measures.”\n"
     ]
    },
    {
     "name": "stdout",
     "output_type": "stream",
     "text": [
      "[1] \"Iteration: 64/100\"\n"
     ]
    },
    {
     "name": "stderr",
     "output_type": "stream",
     "text": [
      "Warning message in train.default(x = trainX, y = refactoredTrainY, method = \"gbm\", :\n",
      "“The metric \"ROC\" was not in the result set. logLoss will be used instead.”\n"
     ]
    },
    {
     "name": "stdout",
     "output_type": "stream",
     "text": [
      "[1] \"Iteration: 65/100\"\n"
     ]
    },
    {
     "name": "stderr",
     "output_type": "stream",
     "text": [
      "Warning message in train.default(x = trainX, y = refactoredTrainY, method = \"gbm\", :\n",
      "“The metric \"ROC\" was not in the result set. logLoss will be used instead.”\n",
      "Warning message in nominalTrainWorkflow(x = x, y = y, wts = weights, info = trainInfo, :\n",
      "“There were missing values in resampled performance measures.”\n"
     ]
    },
    {
     "name": "stdout",
     "output_type": "stream",
     "text": [
      "[1] \"Iteration: 66/100\"\n"
     ]
    },
    {
     "name": "stderr",
     "output_type": "stream",
     "text": [
      "Warning message in train.default(x = trainX, y = refactoredTrainY, method = \"gbm\", :\n",
      "“The metric \"ROC\" was not in the result set. logLoss will be used instead.”\n"
     ]
    },
    {
     "name": "stdout",
     "output_type": "stream",
     "text": [
      "[1] \"Iteration: 67/100\"\n"
     ]
    },
    {
     "name": "stderr",
     "output_type": "stream",
     "text": [
      "Warning message in train.default(x = trainX, y = refactoredTrainY, method = \"gbm\", :\n",
      "“The metric \"ROC\" was not in the result set. logLoss will be used instead.”\n",
      "Warning message in nominalTrainWorkflow(x = x, y = y, wts = weights, info = trainInfo, :\n",
      "“There were missing values in resampled performance measures.”\n"
     ]
    },
    {
     "name": "stdout",
     "output_type": "stream",
     "text": [
      "[1] \"Iteration: 68/100\"\n"
     ]
    },
    {
     "name": "stderr",
     "output_type": "stream",
     "text": [
      "Warning message in train.default(x = trainX, y = refactoredTrainY, method = \"gbm\", :\n",
      "“The metric \"ROC\" was not in the result set. logLoss will be used instead.”\n",
      "Warning message in nominalTrainWorkflow(x = x, y = y, wts = weights, info = trainInfo, :\n",
      "“There were missing values in resampled performance measures.”\n"
     ]
    },
    {
     "name": "stdout",
     "output_type": "stream",
     "text": [
      "[1] \"Iteration: 69/100\"\n"
     ]
    },
    {
     "name": "stderr",
     "output_type": "stream",
     "text": [
      "Warning message in train.default(x = trainX, y = refactoredTrainY, method = \"gbm\", :\n",
      "“The metric \"ROC\" was not in the result set. logLoss will be used instead.”\n",
      "Warning message in nominalTrainWorkflow(x = x, y = y, wts = weights, info = trainInfo, :\n",
      "“There were missing values in resampled performance measures.”\n"
     ]
    },
    {
     "name": "stdout",
     "output_type": "stream",
     "text": [
      "[1] \"Iteration: 70/100\"\n"
     ]
    },
    {
     "name": "stderr",
     "output_type": "stream",
     "text": [
      "Warning message in train.default(x = trainX, y = refactoredTrainY, method = \"gbm\", :\n",
      "“The metric \"ROC\" was not in the result set. logLoss will be used instead.”\n",
      "Warning message in nominalTrainWorkflow(x = x, y = y, wts = weights, info = trainInfo, :\n",
      "“There were missing values in resampled performance measures.”\n"
     ]
    },
    {
     "name": "stdout",
     "output_type": "stream",
     "text": [
      "[1] \"Iteration: 71/100\"\n"
     ]
    },
    {
     "name": "stderr",
     "output_type": "stream",
     "text": [
      "Warning message in train.default(x = trainX, y = refactoredTrainY, method = \"gbm\", :\n",
      "“The metric \"ROC\" was not in the result set. logLoss will be used instead.”\n",
      "Warning message in nominalTrainWorkflow(x = x, y = y, wts = weights, info = trainInfo, :\n",
      "“There were missing values in resampled performance measures.”\n"
     ]
    },
    {
     "name": "stdout",
     "output_type": "stream",
     "text": [
      "[1] \"Iteration: 72/100\"\n"
     ]
    },
    {
     "name": "stderr",
     "output_type": "stream",
     "text": [
      "Warning message in train.default(x = trainX, y = refactoredTrainY, method = \"gbm\", :\n",
      "“The metric \"ROC\" was not in the result set. logLoss will be used instead.”\n",
      "Warning message in nominalTrainWorkflow(x = x, y = y, wts = weights, info = trainInfo, :\n",
      "“There were missing values in resampled performance measures.”\n"
     ]
    },
    {
     "name": "stdout",
     "output_type": "stream",
     "text": [
      "[1] \"Iteration: 73/100\"\n"
     ]
    },
    {
     "name": "stderr",
     "output_type": "stream",
     "text": [
      "Warning message in train.default(x = trainX, y = refactoredTrainY, method = \"gbm\", :\n",
      "“The metric \"ROC\" was not in the result set. logLoss will be used instead.”\n",
      "Warning message in nominalTrainWorkflow(x = x, y = y, wts = weights, info = trainInfo, :\n",
      "“There were missing values in resampled performance measures.”\n"
     ]
    },
    {
     "name": "stdout",
     "output_type": "stream",
     "text": [
      "[1] \"Iteration: 74/100\"\n"
     ]
    },
    {
     "name": "stderr",
     "output_type": "stream",
     "text": [
      "Warning message in train.default(x = trainX, y = refactoredTrainY, method = \"gbm\", :\n",
      "“The metric \"ROC\" was not in the result set. logLoss will be used instead.”\n",
      "Warning message in nominalTrainWorkflow(x = x, y = y, wts = weights, info = trainInfo, :\n",
      "“There were missing values in resampled performance measures.”\n"
     ]
    },
    {
     "name": "stdout",
     "output_type": "stream",
     "text": [
      "[1] \"Iteration: 75/100\"\n"
     ]
    },
    {
     "name": "stderr",
     "output_type": "stream",
     "text": [
      "Warning message in train.default(x = trainX, y = refactoredTrainY, method = \"gbm\", :\n",
      "“The metric \"ROC\" was not in the result set. logLoss will be used instead.”\n",
      "Warning message in nominalTrainWorkflow(x = x, y = y, wts = weights, info = trainInfo, :\n",
      "“There were missing values in resampled performance measures.”\n"
     ]
    },
    {
     "name": "stdout",
     "output_type": "stream",
     "text": [
      "[1] \"Iteration: 76/100\"\n"
     ]
    },
    {
     "name": "stderr",
     "output_type": "stream",
     "text": [
      "Warning message in train.default(x = trainX, y = refactoredTrainY, method = \"gbm\", :\n",
      "“The metric \"ROC\" was not in the result set. logLoss will be used instead.”\n",
      "Warning message in nominalTrainWorkflow(x = x, y = y, wts = weights, info = trainInfo, :\n",
      "“There were missing values in resampled performance measures.”\n"
     ]
    },
    {
     "name": "stdout",
     "output_type": "stream",
     "text": [
      "[1] \"Iteration: 77/100\"\n"
     ]
    },
    {
     "name": "stderr",
     "output_type": "stream",
     "text": [
      "Warning message in train.default(x = trainX, y = refactoredTrainY, method = \"gbm\", :\n",
      "“The metric \"ROC\" was not in the result set. logLoss will be used instead.”\n",
      "Warning message in nominalTrainWorkflow(x = x, y = y, wts = weights, info = trainInfo, :\n",
      "“There were missing values in resampled performance measures.”\n"
     ]
    },
    {
     "name": "stdout",
     "output_type": "stream",
     "text": [
      "[1] \"Iteration: 78/100\"\n"
     ]
    },
    {
     "name": "stderr",
     "output_type": "stream",
     "text": [
      "Warning message in train.default(x = trainX, y = refactoredTrainY, method = \"gbm\", :\n",
      "“The metric \"ROC\" was not in the result set. logLoss will be used instead.”\n",
      "Warning message in nominalTrainWorkflow(x = x, y = y, wts = weights, info = trainInfo, :\n",
      "“There were missing values in resampled performance measures.”\n"
     ]
    },
    {
     "name": "stdout",
     "output_type": "stream",
     "text": [
      "[1] \"Iteration: 79/100\"\n"
     ]
    },
    {
     "name": "stderr",
     "output_type": "stream",
     "text": [
      "Warning message in train.default(x = trainX, y = refactoredTrainY, method = \"gbm\", :\n",
      "“The metric \"ROC\" was not in the result set. logLoss will be used instead.”\n",
      "Warning message in nominalTrainWorkflow(x = x, y = y, wts = weights, info = trainInfo, :\n",
      "“There were missing values in resampled performance measures.”\n"
     ]
    },
    {
     "name": "stdout",
     "output_type": "stream",
     "text": [
      "[1] \"Iteration: 80/100\"\n"
     ]
    },
    {
     "name": "stderr",
     "output_type": "stream",
     "text": [
      "Warning message in train.default(x = trainX, y = refactoredTrainY, method = \"gbm\", :\n",
      "“The metric \"ROC\" was not in the result set. logLoss will be used instead.”\n",
      "Warning message in nominalTrainWorkflow(x = x, y = y, wts = weights, info = trainInfo, :\n",
      "“There were missing values in resampled performance measures.”\n"
     ]
    },
    {
     "name": "stdout",
     "output_type": "stream",
     "text": [
      "[1] \"Iteration: 81/100\"\n"
     ]
    },
    {
     "name": "stderr",
     "output_type": "stream",
     "text": [
      "Warning message in train.default(x = trainX, y = refactoredTrainY, method = \"gbm\", :\n",
      "“The metric \"ROC\" was not in the result set. logLoss will be used instead.”\n",
      "Warning message in nominalTrainWorkflow(x = x, y = y, wts = weights, info = trainInfo, :\n",
      "“There were missing values in resampled performance measures.”\n"
     ]
    },
    {
     "name": "stdout",
     "output_type": "stream",
     "text": [
      "[1] \"Iteration: 82/100\"\n"
     ]
    },
    {
     "name": "stderr",
     "output_type": "stream",
     "text": [
      "Warning message in train.default(x = trainX, y = refactoredTrainY, method = \"gbm\", :\n",
      "“The metric \"ROC\" was not in the result set. logLoss will be used instead.”\n",
      "Warning message in nominalTrainWorkflow(x = x, y = y, wts = weights, info = trainInfo, :\n",
      "“There were missing values in resampled performance measures.”\n"
     ]
    },
    {
     "name": "stdout",
     "output_type": "stream",
     "text": [
      "[1] \"Iteration: 83/100\"\n"
     ]
    },
    {
     "name": "stderr",
     "output_type": "stream",
     "text": [
      "Warning message in train.default(x = trainX, y = refactoredTrainY, method = \"gbm\", :\n",
      "“The metric \"ROC\" was not in the result set. logLoss will be used instead.”\n",
      "Warning message in nominalTrainWorkflow(x = x, y = y, wts = weights, info = trainInfo, :\n",
      "“There were missing values in resampled performance measures.”\n"
     ]
    },
    {
     "name": "stdout",
     "output_type": "stream",
     "text": [
      "[1] \"Iteration: 84/100\"\n"
     ]
    },
    {
     "name": "stderr",
     "output_type": "stream",
     "text": [
      "Warning message in train.default(x = trainX, y = refactoredTrainY, method = \"gbm\", :\n",
      "“The metric \"ROC\" was not in the result set. logLoss will be used instead.”\n",
      "Warning message in nominalTrainWorkflow(x = x, y = y, wts = weights, info = trainInfo, :\n",
      "“There were missing values in resampled performance measures.”\n"
     ]
    },
    {
     "name": "stdout",
     "output_type": "stream",
     "text": [
      "[1] \"Iteration: 85/100\"\n"
     ]
    },
    {
     "name": "stderr",
     "output_type": "stream",
     "text": [
      "Warning message in train.default(x = trainX, y = refactoredTrainY, method = \"gbm\", :\n",
      "“The metric \"ROC\" was not in the result set. logLoss will be used instead.”\n",
      "Warning message in nominalTrainWorkflow(x = x, y = y, wts = weights, info = trainInfo, :\n",
      "“There were missing values in resampled performance measures.”\n"
     ]
    },
    {
     "name": "stdout",
     "output_type": "stream",
     "text": [
      "[1] \"Iteration: 86/100\"\n"
     ]
    },
    {
     "name": "stderr",
     "output_type": "stream",
     "text": [
      "Warning message in train.default(x = trainX, y = refactoredTrainY, method = \"gbm\", :\n",
      "“The metric \"ROC\" was not in the result set. logLoss will be used instead.”\n",
      "Warning message in nominalTrainWorkflow(x = x, y = y, wts = weights, info = trainInfo, :\n",
      "“There were missing values in resampled performance measures.”\n"
     ]
    },
    {
     "name": "stdout",
     "output_type": "stream",
     "text": [
      "[1] \"Iteration: 87/100\"\n"
     ]
    },
    {
     "name": "stderr",
     "output_type": "stream",
     "text": [
      "Warning message in train.default(x = trainX, y = refactoredTrainY, method = \"gbm\", :\n",
      "“The metric \"ROC\" was not in the result set. logLoss will be used instead.”\n",
      "Warning message in nominalTrainWorkflow(x = x, y = y, wts = weights, info = trainInfo, :\n",
      "“There were missing values in resampled performance measures.”\n"
     ]
    },
    {
     "name": "stdout",
     "output_type": "stream",
     "text": [
      "[1] \"Iteration: 88/100\"\n"
     ]
    },
    {
     "name": "stderr",
     "output_type": "stream",
     "text": [
      "Warning message in train.default(x = trainX, y = refactoredTrainY, method = \"gbm\", :\n",
      "“The metric \"ROC\" was not in the result set. logLoss will be used instead.”\n",
      "Warning message in nominalTrainWorkflow(x = x, y = y, wts = weights, info = trainInfo, :\n",
      "“There were missing values in resampled performance measures.”\n"
     ]
    },
    {
     "name": "stdout",
     "output_type": "stream",
     "text": [
      "[1] \"Iteration: 89/100\"\n"
     ]
    },
    {
     "name": "stderr",
     "output_type": "stream",
     "text": [
      "Warning message in train.default(x = trainX, y = refactoredTrainY, method = \"gbm\", :\n",
      "“The metric \"ROC\" was not in the result set. logLoss will be used instead.”\n"
     ]
    },
    {
     "name": "stdout",
     "output_type": "stream",
     "text": [
      "[1] \"Iteration: 90/100\"\n"
     ]
    },
    {
     "name": "stderr",
     "output_type": "stream",
     "text": [
      "Warning message in train.default(x = trainX, y = refactoredTrainY, method = \"gbm\", :\n",
      "“The metric \"ROC\" was not in the result set. logLoss will be used instead.”\n",
      "Warning message in nominalTrainWorkflow(x = x, y = y, wts = weights, info = trainInfo, :\n",
      "“There were missing values in resampled performance measures.”\n"
     ]
    },
    {
     "name": "stdout",
     "output_type": "stream",
     "text": [
      "[1] \"Iteration: 91/100\"\n"
     ]
    },
    {
     "name": "stderr",
     "output_type": "stream",
     "text": [
      "Warning message in train.default(x = trainX, y = refactoredTrainY, method = \"gbm\", :\n",
      "“The metric \"ROC\" was not in the result set. logLoss will be used instead.”\n",
      "Warning message in nominalTrainWorkflow(x = x, y = y, wts = weights, info = trainInfo, :\n",
      "“There were missing values in resampled performance measures.”\n"
     ]
    },
    {
     "name": "stdout",
     "output_type": "stream",
     "text": [
      "[1] \"Iteration: 92/100\"\n"
     ]
    },
    {
     "name": "stderr",
     "output_type": "stream",
     "text": [
      "Warning message in train.default(x = trainX, y = refactoredTrainY, method = \"gbm\", :\n",
      "“The metric \"ROC\" was not in the result set. logLoss will be used instead.”\n"
     ]
    },
    {
     "name": "stdout",
     "output_type": "stream",
     "text": [
      "[1] \"Iteration: 93/100\"\n"
     ]
    },
    {
     "name": "stderr",
     "output_type": "stream",
     "text": [
      "Warning message in train.default(x = trainX, y = refactoredTrainY, method = \"gbm\", :\n",
      "“The metric \"ROC\" was not in the result set. logLoss will be used instead.”\n",
      "Warning message in nominalTrainWorkflow(x = x, y = y, wts = weights, info = trainInfo, :\n",
      "“There were missing values in resampled performance measures.”\n"
     ]
    },
    {
     "name": "stdout",
     "output_type": "stream",
     "text": [
      "[1] \"Iteration: 94/100\"\n"
     ]
    },
    {
     "name": "stderr",
     "output_type": "stream",
     "text": [
      "Warning message in train.default(x = trainX, y = refactoredTrainY, method = \"gbm\", :\n",
      "“The metric \"ROC\" was not in the result set. logLoss will be used instead.”\n",
      "Warning message in nominalTrainWorkflow(x = x, y = y, wts = weights, info = trainInfo, :\n",
      "“There were missing values in resampled performance measures.”\n"
     ]
    },
    {
     "name": "stdout",
     "output_type": "stream",
     "text": [
      "[1] \"Iteration: 95/100\"\n"
     ]
    },
    {
     "name": "stderr",
     "output_type": "stream",
     "text": [
      "Warning message in train.default(x = trainX, y = refactoredTrainY, method = \"gbm\", :\n",
      "“The metric \"ROC\" was not in the result set. logLoss will be used instead.”\n",
      "Warning message in nominalTrainWorkflow(x = x, y = y, wts = weights, info = trainInfo, :\n",
      "“There were missing values in resampled performance measures.”\n"
     ]
    },
    {
     "name": "stdout",
     "output_type": "stream",
     "text": [
      "[1] \"Iteration: 96/100\"\n"
     ]
    },
    {
     "name": "stderr",
     "output_type": "stream",
     "text": [
      "Warning message in train.default(x = trainX, y = refactoredTrainY, method = \"gbm\", :\n",
      "“The metric \"ROC\" was not in the result set. logLoss will be used instead.”\n",
      "Warning message in nominalTrainWorkflow(x = x, y = y, wts = weights, info = trainInfo, :\n",
      "“There were missing values in resampled performance measures.”\n"
     ]
    },
    {
     "name": "stdout",
     "output_type": "stream",
     "text": [
      "[1] \"Iteration: 97/100\"\n"
     ]
    },
    {
     "name": "stderr",
     "output_type": "stream",
     "text": [
      "Warning message in train.default(x = trainX, y = refactoredTrainY, method = \"gbm\", :\n",
      "“The metric \"ROC\" was not in the result set. logLoss will be used instead.”\n",
      "Warning message in nominalTrainWorkflow(x = x, y = y, wts = weights, info = trainInfo, :\n",
      "“There were missing values in resampled performance measures.”\n"
     ]
    },
    {
     "name": "stdout",
     "output_type": "stream",
     "text": [
      "[1] \"Iteration: 98/100\"\n"
     ]
    },
    {
     "name": "stderr",
     "output_type": "stream",
     "text": [
      "Warning message in train.default(x = trainX, y = refactoredTrainY, method = \"gbm\", :\n",
      "“The metric \"ROC\" was not in the result set. logLoss will be used instead.”\n",
      "Warning message in nominalTrainWorkflow(x = x, y = y, wts = weights, info = trainInfo, :\n",
      "“There were missing values in resampled performance measures.”\n"
     ]
    },
    {
     "name": "stdout",
     "output_type": "stream",
     "text": [
      "[1] \"Iteration: 99/100\"\n"
     ]
    },
    {
     "name": "stderr",
     "output_type": "stream",
     "text": [
      "Warning message in train.default(x = trainX, y = refactoredTrainY, method = \"gbm\", :\n",
      "“The metric \"ROC\" was not in the result set. logLoss will be used instead.”\n",
      "Warning message in nominalTrainWorkflow(x = x, y = y, wts = weights, info = trainInfo, :\n",
      "“There were missing values in resampled performance measures.”\n"
     ]
    },
    {
     "name": "stdout",
     "output_type": "stream",
     "text": [
      "[1] \"Iteration: 100/100\"\n"
     ]
    },
    {
     "name": "stderr",
     "output_type": "stream",
     "text": [
      "Warning message in train.default(x = trainX, y = refactoredTrainY, method = \"gbm\", :\n",
      "“The metric \"ROC\" was not in the result set. logLoss will be used instead.”\n"
     ]
    },
    {
     "name": "stdout",
     "output_type": "stream",
     "text": [
      "               logLoss                    AUC                  prAUC \n",
      "             0.6684274              0.8397166              0.6781436 \n",
      "              Accuracy                  Kappa                Mean_F1 \n",
      "             0.7200000              0.4981179              0.6552332 \n",
      "      Mean_Sensitivity       Mean_Specificity    Mean_Pos_Pred_Value \n",
      "             0.6511864              0.8319280              0.6615821 \n",
      "   Mean_Neg_Pred_Value         Mean_Precision            Mean_Recall \n",
      "             0.8353929              0.6615821              0.6511864 \n",
      "   Mean_Detection_Rate Mean_Balanced_Accuracy \n",
      "             0.2400000              0.7415572 \n",
      "Confusion Matrix and Statistics\n",
      "\n",
      "          Reference\n",
      "Prediction PRAD NSCLC SKCM\n",
      "     PRAD    48     3    8\n",
      "     NSCLC    8    16    1\n",
      "     SKCM     5     3    8\n",
      "\n",
      "Overall Statistics\n",
      "                                          \n",
      "               Accuracy : 0.72            \n",
      "                 95% CI : (0.6213, 0.8052)\n",
      "    No Information Rate : 0.61            \n",
      "    P-Value [Acc > NIR] : 0.0143          \n",
      "                                          \n",
      "                  Kappa : 0.4981          \n",
      "                                          \n",
      " Mcnemar's Test P-Value : 0.2653          \n",
      "\n",
      "Statistics by Class:\n",
      "\n",
      "                     Class: PRAD Class: NSCLC Class: SKCM\n",
      "Sensitivity               0.7869       0.7273      0.4706\n",
      "Specificity               0.7179       0.8846      0.9036\n",
      "Pos Pred Value            0.8136       0.6400      0.5000\n",
      "Neg Pred Value            0.6829       0.9200      0.8929\n",
      "Prevalence                0.6100       0.2200      0.1700\n",
      "Detection Rate            0.4800       0.1600      0.0800\n",
      "Detection Prevalence      0.5900       0.2500      0.1600\n",
      "Balanced Accuracy         0.7524       0.8059      0.6871\n"
     ]
    }
   ],
   "source": [
    "DT3 <- loocvDTs(snmData = snmDataKrakenCFDecontamDPQC,\n",
    "                 samplingSize = 59, \n",
    "                 DTs = c(\"PRAD\",\"NSCLC\",\"SKCM\"),\n",
    "                 caretTuneGrid = defaultGBMGrid)"
   ]
  },
  {
   "cell_type": "code",
   "execution_count": null,
   "metadata": {},
   "outputs": [],
   "source": []
  }
 ],
 "metadata": {
  "kernelspec": {
   "display_name": "R",
   "language": "R",
   "name": "ir"
  },
  "language_info": {
   "codemirror_mode": "r",
   "file_extension": ".r",
   "mimetype": "text/x-r-source",
   "name": "R",
   "pygments_lexer": "r",
   "version": "3.6.1"
  }
 },
 "nbformat": 4,
 "nbformat_minor": 2
}
